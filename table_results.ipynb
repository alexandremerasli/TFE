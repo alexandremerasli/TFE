{
 "cells": [
  {
   "cell_type": "code",
   "execution_count": 5,
   "metadata": {},
   "outputs": [],
   "source": [
    "import csv\n",
    "import os\n",
    "\n",
    "with open(os.path.join('Table results single.csv'),'r') as File:\n",
    "    reader = csv.reader(File, delimiter='\\t', quotechar=',',\n",
    "                        quoting=csv.QUOTE_MINIMAL)\n",
    "    row = []\n",
    "    for row_read in reader:\n",
    "        row.append(row_read) # Store each row\n",
    "        \n",
    "row_clear = row[1:] # Clear header\n",
    "row_csv = []\n",
    "\n",
    "print(row_clear)"
   ]
  },
  {
   "cell_type": "code",
   "execution_count": 43,
   "metadata": {},
   "outputs": [
    {
     "data": {
      "text/plain": [
       "'\\ncleanedResults = np.zeros((30,results.shape[1]))\\nfor i in range(1,4):\\n    cleanedResults[:,i] = results[~numpy.isnan(results[:,i]),i]\\nprint(cleanedResults)\\n'"
      ]
     },
     "execution_count": 43,
     "metadata": {},
     "output_type": "execute_result"
    },
    {
     "data": {
      "image/png": "[encoded data removed]",
      "text/plain": [
       "<Figure size 432x288 with 1 Axes>"
      ]
     },
     "metadata": {
      "needs_background": "light"
     },
     "output_type": "display_data"
    }
   ],
   "source": [
    "import numpy as np\n",
    "import matplotlib.pyplot as plt\n",
    "\n",
    "results = np.genfromtxt(os.path.join('Table results single.csv'),delimiter=';')\n",
    "results = np.array(results,dtype='float') # Convert into array\n",
    "results = np.nan_to_num(results)\n",
    "# Single\n",
    "single = results[2:,1:4]\n",
    "#print(single)\n",
    "\n",
    "# Multiview\n",
    "#print(results[2:,4:8])\n",
    "\n",
    "for i in range(9):\n",
    "    plt.scatter(np.arange(i*5,(i+1)*5),single[i*5:(i+1)*5,0],marker='x')\n",
    "    \n",
    "\n",
    "'''\n",
    "cleanedResults = np.zeros((30,results.shape[1]))\n",
    "for i in range(1,4):\n",
    "    cleanedResults[:,i] = results[~numpy.isnan(results[:,i]),i]\n",
    "print(cleanedResults)\n",
    "'''\n"
   ]
  },
  {
   "cell_type": "code",
   "execution_count": null,
   "metadata": {},
   "outputs": [],
   "source": []
  }
 ],
 "metadata": {
  "kernelspec": {
   "display_name": "Python 3",
   "language": "python",
   "name": "python3"
  },
  "language_info": {
   "codemirror_mode": {
    "name": "ipython",
    "version": 3
   },
   "file_extension": ".py",
   "mimetype": "text/x-python",
   "name": "python",
   "nbconvert_exporter": "python",
   "pygments_lexer": "ipython3",
   "version": "3.7.3"
  }
 },
 "nbformat": 4,
 "nbformat_minor": 4
}
