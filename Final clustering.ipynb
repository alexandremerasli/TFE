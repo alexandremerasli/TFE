{
 "cells": [
  {
   "cell_type": "markdown",
   "metadata": {},
   "source": [
    "## Load packages"
   ]
  },
  {
   "cell_type": "code",
   "execution_count": 2,
   "metadata": {},
   "outputs": [],
   "source": [
    "import numpy as np\n",
    "import os\n",
    "import matplotlib.pyplot as plt\n",
    "import csv"
   ]
  },
  {
   "cell_type": "markdown",
   "metadata": {},
   "source": [
    "## Load data"
   ]
  },
  {
   "cell_type": "code",
   "execution_count": 4,
   "metadata": {},
   "outputs": [],
   "source": [
    "# Load matrices from CSV files\n",
    "ISC_EEG = np.genfromtxt(os.path.join('ISC_EEG.csv'),delimiter=',')\n",
    "ISC_EEG = np.array(ISC_EEG,dtype='float') # Convert into array\n",
    "\n",
    "ISC_EDA = np.genfromtxt(os.path.join('ISC_EDA.csv'),delimiter=',')\n",
    "ISC_EDA = np.array(ISC_EDA,dtype='float') # Convert into array\n",
    "\n",
    "ISC_IBI = np.genfromtxt(os.path.join('ISC_IBI.csv'),delimiter=',')\n",
    "ISC_IBI = np.array(ISC_IBI,dtype='float') # Convert into array\n",
    "\n",
    "subjectsWithoutShift = np.arange(len(ISC_EEG))\n",
    "\n",
    "# Remove Inf in data for EDA and IBI (try to have similar ratio as in EEG between diagonal and mean non-diagonal)\n",
    "tmp_EEG = np.copy(ISC_EEG)\n",
    "tmp_EDA = np.copy(ISC_EDA)\n",
    "tmp_IBI = np.copy(ISC_IBI)\n",
    "\n",
    "for i in range(len(tmp_EEG)):\n",
    "    tmp_EEG[i,i] = 0\n",
    "    tmp_EDA[i,i] = 0\n",
    "    tmp_IBI[i,i] = 0\n",
    "eegNorm = 3/np.mean(tmp_EEG)\n",
    "\n",
    "for i in range(len(ISC_IBI)):\n",
    "    ISC_IBI[i,i] = np.mean(tmp_IBI)*eegNorm\n",
    "    ISC_EDA[i,i] = np.mean(tmp_EDA)*eegNorm\n",
    "    \n",
    "# Load true clusters\n",
    "def trueGroups():\n",
    "    condition = np.genfromtxt(os.path.join('condition.csv'),delimiter=',')\n",
    "    condition = np.array(condition,dtype='int') # Convert into array\n",
    "    \n",
    "    global subjectsWithoutShift\n",
    "    subjectsWithoutShift = np.arange(len(condition))\n",
    "    return condition\n",
    "\n",
    "condition = trueGroups()\n",
    "subjects = np.arange(len(condition))\n",
    "narrative = np.where(condition == 0)[0]\n",
    "stimulus = np.where(condition == 1)[0]"
   ]
  },
  {
   "cell_type": "markdown",
   "metadata": {},
   "source": [
    "## Parameters"
   ]
  },
  {
   "cell_type": "code",
   "execution_count": 7,
   "metadata": {},
   "outputs": [],
   "source": [
    "case = 'EEG'\n",
    "nbParticipants = len(ISC_EEG) - 2"
   ]
  },
  {
   "cell_type": "code",
   "execution_count": 9,
   "metadata": {},
   "outputs": [],
   "source": [
    "# Choose study matrix according to case study\n",
    "if (case == 'EEG'):\n",
    "    study_matrix = ISC_EEG\n",
    "elif (case == 'EDA'):\n",
    "    study_matrix = ISC_EDA\n",
    "elif (case == 'IBI'):\n",
    "    study_matrix = ISC_IBI\n",
    "    \n",
    "# Check if number of participants is valid, otherwise throw error\n",
    "if nbParticipants>len(ISC_EEG):\n",
    "    raise ValueError('Number of selected participants greater than total number of participants')"
   ]
  },
  {
   "cell_type": "markdown",
   "metadata": {},
   "source": [
    "## Compute distance matrix"
   ]
  },
  {
   "cell_type": "code",
   "execution_count": 10,
   "metadata": {},
   "outputs": [],
   "source": [
    "def computeDistanceMatrix(study_matrix=study_matrix):\n",
    "    \n",
    "    # Normalise maximum value to 1\n",
    "    matrix_norm = np.copy(study_matrix)\n",
    "    matrix_norm = matrix_norm / np.max(abs(matrix_norm))\n",
    "\n",
    "    # Convert into distance matrix\n",
    "    distance_matrix = np.sqrt((1-matrix_norm)) # Formula in Matlab and in Scikit to convert \n",
    "    \n",
    "    # Interval MDS normalization\n",
    "    a = np.min(np.sort(distance_matrix,axis=0)[1,:])\n",
    "    distance_matrix = distance_matrix - a\n",
    "    distance_matrix = distance_matrix - np.diag(np.diag(distance_matrix))\n",
    "    \n",
    "    # To make sure output is perfectly symmetrical\n",
    "    return (distance_matrix+distance_matrix.T)/2"
   ]
  },
  {
   "cell_type": "markdown",
   "metadata": {},
   "source": [
    "## Plot points"
   ]
  },
  {
   "cell_type": "code",
   "execution_count": null,
   "metadata": {},
   "outputs": [],
   "source": [
    "from sklearn.decomposition import PCA\n",
    "\n",
    "# Show MDS scaling\n",
    "import matplotlib.patches as mpatches\n",
    "\n",
    "def plotPoints(points,projection=False,title='Ground truth',subjects=subjects,subjectsWithoutShift=subjectsWithoutShift):\n",
    "    \n",
    "    condition = trueGroups(removeOutlier)  \n",
    "    condition = condition[subjectsWithoutShift]\n",
    "    subjects=np.arange(len(condition))\n",
    "    NA = np.where(condition[subjects]==0)[0]\n",
    "    SSA = np.where(condition[subjects]==1)[0]\n",
    "\n",
    "    if (points.shape[1] != 1):\n",
    "        ax = plt.axes([1.2,0,1.2,1.2])\n",
    "        ax.set_aspect(aspect='equal')\n",
    "        if (projection):\n",
    "            points = transformPoints(points)\n",
    "\n",
    "        for i in range(len(points)):\n",
    "            ax.annotate(subjectsWithoutShift[i],(points[i,0],points[i,1]),xytext=(points[i,0]+(np.max(points[:,0])-np.min(points[:,0]))/50,points[i,1]))\n",
    "\n",
    "        plt.scatter(points[NA,0],points[NA,1],color='blue',s=145,label='NA')\n",
    "        plt.scatter(points[SSA,0],points[SSA,1],color='red',s=145,label='SSA')\n",
    "    else:\n",
    "        plt.scatter(points[NA],np.zeros((len(NA),1)),marker='x',color='blue')\n",
    "        plt.scatter(points[SSA],np.zeros((len(SSA),1)),marker='x',color='red')\n",
    "        orderedSubjectPlot = np.argsort(points.T)\n",
    "        for i in range(len(points)):\n",
    "            subj = orderedSubjectPlot[0,i]\n",
    "            plt.annotate(subj,(points[subj,0],0),xytext=(points[subj,0]-((i+1)%2+1)*np.max(points)/35,0.01*(i%2)-0.0065))\n",
    "        \n",
    "    NA = mpatches.Patch(color='blue', label='NA')\n",
    "    SSA = mpatches.Patch(color='red', label='SSA')\n",
    "    plt.legend(handles=[NA,SSA])\n",
    "    \n",
    "    plt.title(title)\n",
    "    \n",
    "# Shepard diagram\n",
    "from scipy.spatial.distance import pdist, squareform\n",
    "from sklearn.metrics import euclidean_distances\n",
    "\n",
    "def shepardDiagram(distance_matrix,points,disparities,title=''):\n",
    "    ax = plt.axes([0,0,1.2,1.2])\n",
    "    #ax.set_aspect(aspect='equal')\n",
    "    \n",
    "    order = np.lexsort((np.ravel(distance_matrix),np.ravel(disparities)))\n",
    "\n",
    "    computedDistances = pdist(points);\n",
    "    computedDistances = squareform(computedDistances);\n",
    "    computedDistances = euclidean_distances(points)\n",
    "\n",
    "    plt.scatter(np.ravel(distance_matrix),np.ravel(computedDistances))\n",
    "    plt.plot(np.ravel(distance_matrix)[order],np.ravel(disparities)[order],'r.')\n",
    "    plt.xlabel('Dissimilarities')\n",
    "    plt.ylabel('Distances/Disparities')\n",
    "    plt.title(title)\n",
    "    corr = np.corrcoef(np.ravel(computedDistances),np.ravel(disparities))\n",
    "    return corr[1,0]"
   ]
  },
  {
   "cell_type": "markdown",
   "metadata": {},
   "source": [
    "## PCoA"
   ]
  },
  {
   "cell_type": "code",
   "execution_count": 11,
   "metadata": {},
   "outputs": [],
   "source": [
    "from skbio.stats.ordination import pcoa\n",
    "\n",
    "def computePCoACoordinate(distance_matrix,n_comp=2):\n",
    "    \n",
    "    pcoa_map = pcoa(distance_matrix, method='eigh', number_of_dimensions=n_comp)\n",
    "    points = np.array(pcoa_map.samples)\n",
    "    return points"
   ]
  },
  {
   "cell_type": "markdown",
   "metadata": {},
   "source": [
    "## Multiview mapping"
   ]
  },
  {
   "cell_type": "code",
   "execution_count": null,
   "metadata": {},
   "outputs": [],
   "source": [
    "ISC_EEG = np.genfromtxt(os.path.join('ISC_EEG.csv'),delimiter=',')\n",
    "ISC_EEG = np.array(ISC_EEG,dtype='float') # Convert into array\n",
    "ISC_EDA = np.genfromtxt(os.path.join('ISC_EDA.csv'),delimiter=',')\n",
    "ISC_EDA = np.array(ISC_EDA,dtype='float') # Convert into array\n",
    "ISC_IBI = np.genfromtxt(os.path.join('ISC_IBI.csv'),delimiter=',')\n",
    "ISC_IBI = np.array(ISC_IBI,dtype='float') # Convert into array\n",
    "subjectsWithoutShift = np.arange(len(ISC_EEG))\n",
    "\n",
    "# Remove Inf in data for EDA and IBI (replace by sort of normalisation for the moment)\n",
    "tmp_EEG = np.copy(ISC_EEG)\n",
    "tmp_EDA = np.copy(ISC_EDA)\n",
    "tmp_IBI = np.copy(ISC_IBI)\n",
    "\n",
    "for i in range(len(tmp_EEG)):\n",
    "    tmp_EEG[i,i] = 0\n",
    "    tmp_EDA[i,i] = 0\n",
    "    tmp_IBI[i,i] = 0\n",
    "eegNorm = 3/np.mean(tmp_EEG)\n",
    "\n",
    "for i in range(len(ISC_IBI)):\n",
    "    ISC_IBI[i,i] = np.mean(tmp_IBI)*eegNorm\n",
    "    ISC_EDA[i,i] = np.mean(tmp_EDA)*eegNorm\n",
    "\n",
    "condition = trueGroups()\n",
    "\n",
    "narrative = np.where(condition == 0)[0]\n",
    "stimulus = np.where(condition == 1)[0]\n",
    "\n",
    "study_matrix = ISC_EEG\n",
    "N = len(study_matrix)\n",
    "subjects = np.arange(N)\n",
    "print(condition[subjects])"
   ]
  },
  {
   "cell_type": "code",
   "execution_count": null,
   "metadata": {},
   "outputs": [],
   "source": [
    "def computeAllDistanceMatrix():\n",
    "    sortedIdx = np.arange(N)\n",
    "\n",
    "    #np.random.shuffle(sortedIdx)  \n",
    "    #print(sortedIdx)\n",
    "    \n",
    "    mat_EEG = np.copy(ISC_EEG[sortedIdx,:])\n",
    "    mat_EEG = mat_EEG[:,sortedIdx]\n",
    "    mat_EDA = np.copy(ISC_EDA[sortedIdx,:])\n",
    "    mat_EDA = mat_EDA[:,sortedIdx]\n",
    "    mat_IBI = np.copy(ISC_IBI[sortedIdx,:])\n",
    "    mat_IBI = mat_IBI[:,sortedIdx]\n",
    "\n",
    "    global subjectsWithoutShift\n",
    "    subjectsWithoutShift = sortedIdx[:p]\n",
    "    idx = np.argsort(subjectsWithoutShift)\n",
    "    subjectsWithoutShift = subjectsWithoutShift[idx]\n",
    "\n",
    "    mat_EEG = mat_EEG[:p,:p]\n",
    "    mat_EDA = mat_EDA[:p,:p]\n",
    "    mat_IBI = mat_IBI[:p,:p]\n",
    "    mat_EEG = mat_EEG[idx,:]\n",
    "    mat_EDA = mat_EDA[idx,:]\n",
    "    mat_IBI = mat_IBI[idx,:]\n",
    "    mat_EEG = mat_EEG[:,idx]\n",
    "    mat_EDA = mat_EDA[:,idx]\n",
    "    mat_IBI = mat_IBI[:,idx]\n",
    "\n",
    "    global subjects\n",
    "    subjects = np.arange(p)\n",
    "    condition = condition[subjectsWithoutShift]\n",
    "\n",
    "    # Compute 3 distance matrices (according to each modality)\n",
    "    distance_matrix_EEG = computeDistanceMatrix(mat_EEG)\n",
    "    distance_matrix_EDA = computeDistanceMatrix(mat_EDA)\n",
    "    distance_matrix_IBI = computeDistanceMatrix(mat_IBI)\n",
    "  \n",
    "    # Remove direct correlation influence and compute correlation distance matrices\n",
    "    for i in range(len(mat_EEG)):\n",
    "        mat_EEG[i,i] = 0\n",
    "        mat_EDA[i,i] = 0\n",
    "        mat_IBI[i,i] = 0\n",
    "    distance_matrix_corr_EEG = pairwise_distances(mat_EEG,metric='correlation')\n",
    "    distance_matrix_corr_EDA = pairwise_distances(mat_EDA,metric='correlation')\n",
    "    distance_matrix_corr_IBI = pairwise_distances(mat_IBI,metric='correlation')\n",
    "\n",
    "    # Return distance matrices\n",
    "    return distance_matrix_EEG, distance_matrix_EDA, distance_matrix_IBI, distance_matrix_corr_EEG, distance_matrix_corr_EDA, distance_matrix_corr_IBI"
   ]
  },
  {
   "cell_type": "code",
   "execution_count": null,
   "metadata": {},
   "outputs": [],
   "source": []
  }
 ],
 "metadata": {
  "kernelspec": {
   "display_name": "Python 3",
   "language": "python",
   "name": "python3"
  },
  "language_info": {
   "codemirror_mode": {
    "name": "ipython",
    "version": 3
   },
   "file_extension": ".py",
   "mimetype": "text/x-python",
   "name": "python",
   "nbconvert_exporter": "python",
   "pygments_lexer": "ipython3",
   "version": "3.7.3"
  }
 },
 "nbformat": 4,
 "nbformat_minor": 4
}
