{
 "cells": [
  {
   "cell_type": "markdown",
   "metadata": {},
   "source": [
    "## Install packages"
   ]
  },
  {
   "cell_type": "code",
   "execution_count": 1,
   "metadata": {},
   "outputs": [
    {
     "name": "stdout",
     "output_type": "stream",
     "text": [
      "Requirement already satisfied: notebook==6.0.0 in /anaconda3/lib/python3.7/site-packages (from -r requirements.txt (line 1)) (6.0.0)\n",
      "Requirement already satisfied: numpy==1.17.0 in /anaconda3/lib/python3.7/site-packages (from -r requirements.txt (line 3)) (1.17.0)\n",
      "Requirement already satisfied: matplotlib==3.2.1 in /anaconda3/lib/python3.7/site-packages (from -r requirements.txt (line 4)) (3.2.1)\n",
      "Requirement already satisfied: pandas==1.0.4 in /anaconda3/lib/python3.7/site-packages (from -r requirements.txt (line 5)) (1.0.4)\n",
      "Requirement already satisfied: pyclustertend==1.4.9 in /anaconda3/lib/python3.7/site-packages (from -r requirements.txt (line 6)) (1.4.9)\n",
      "Requirement already satisfied: multiview==1.0 in /anaconda3/lib/python3.7/site-packages (from -r requirements.txt (line 7)) (1.0)\n",
      "Requirement already satisfied: scikit-learn==0.22.1 in /anaconda3/lib/python3.7/site-packages (from -r requirements.txt (line 8)) (0.22.1)\n",
      "Requirement already satisfied: tornado>=5.0 in /anaconda3/lib/python3.7/site-packages (from notebook==6.0.0->-r requirements.txt (line 1)) (6.0.3)\n",
      "Requirement already satisfied: prometheus-client in /anaconda3/lib/python3.7/site-packages (from notebook==6.0.0->-r requirements.txt (line 1)) (0.7.1)\n",
      "Requirement already satisfied: ipython-genutils in /anaconda3/lib/python3.7/site-packages (from notebook==6.0.0->-r requirements.txt (line 1)) (0.2.0)\n",
      "Requirement already satisfied: nbformat in /anaconda3/lib/python3.7/site-packages (from notebook==6.0.0->-r requirements.txt (line 1)) (4.4.0)\n",
      "Requirement already satisfied: jupyter-core>=4.4.0 in /anaconda3/lib/python3.7/site-packages (from notebook==6.0.0->-r requirements.txt (line 1)) (4.5.0)\n",
      "Requirement already satisfied: ipykernel in /anaconda3/lib/python3.7/site-packages (from notebook==6.0.0->-r requirements.txt (line 1)) (5.1.1)\n",
      "Requirement already satisfied: traitlets>=4.2.1 in /anaconda3/lib/python3.7/site-packages (from notebook==6.0.0->-r requirements.txt (line 1)) (4.3.2)\n",
      "Requirement already satisfied: nbconvert in /anaconda3/lib/python3.7/site-packages (from notebook==6.0.0->-r requirements.txt (line 1)) (5.5.0)\n",
      "Requirement already satisfied: jupyter-client>=5.3.1 in /anaconda3/lib/python3.7/site-packages (from notebook==6.0.0->-r requirements.txt (line 1)) (5.3.1)\n",
      "Requirement already satisfied: Send2Trash in /anaconda3/lib/python3.7/site-packages (from notebook==6.0.0->-r requirements.txt (line 1)) (1.5.0)\n",
      "Requirement already satisfied: terminado>=0.8.1 in /anaconda3/lib/python3.7/site-packages (from notebook==6.0.0->-r requirements.txt (line 1)) (0.8.2)\n",
      "Requirement already satisfied: pyzmq>=17 in /anaconda3/lib/python3.7/site-packages (from notebook==6.0.0->-r requirements.txt (line 1)) (18.0.0)\n",
      "Requirement already satisfied: jinja2 in /anaconda3/lib/python3.7/site-packages (from notebook==6.0.0->-r requirements.txt (line 1)) (2.11.2)\n",
      "Requirement already satisfied: python-dateutil>=2.1 in /anaconda3/lib/python3.7/site-packages (from matplotlib==3.2.1->-r requirements.txt (line 4)) (2.8.0)\n",
      "Requirement already satisfied: pyparsing!=2.0.4,!=2.1.2,!=2.1.6,>=2.0.1 in /anaconda3/lib/python3.7/site-packages (from matplotlib==3.2.1->-r requirements.txt (line 4)) (2.4.0)\n",
      "Requirement already satisfied: kiwisolver>=1.0.1 in /anaconda3/lib/python3.7/site-packages (from matplotlib==3.2.1->-r requirements.txt (line 4)) (1.1.0)\n",
      "Requirement already satisfied: cycler>=0.10 in /anaconda3/lib/python3.7/site-packages (from matplotlib==3.2.1->-r requirements.txt (line 4)) (0.10.0)\n",
      "Requirement already satisfied: pytz>=2017.2 in /anaconda3/lib/python3.7/site-packages (from pandas==1.0.4->-r requirements.txt (line 5)) (2019.1)\n",
      "Requirement already satisfied: joblib>=0.11 in /anaconda3/lib/python3.7/site-packages (from scikit-learn==0.22.1->-r requirements.txt (line 8)) (0.11)\n",
      "Requirement already satisfied: scipy>=0.17.0 in /anaconda3/lib/python3.7/site-packages (from scikit-learn==0.22.1->-r requirements.txt (line 8)) (1.4.1)\n",
      "Requirement already satisfied: jsonschema!=2.5.0,>=2.4 in /anaconda3/lib/python3.7/site-packages (from nbformat->notebook==6.0.0->-r requirements.txt (line 1)) (3.0.1)\n",
      "Requirement already satisfied: ipython>=5.0.0 in /anaconda3/lib/python3.7/site-packages (from ipykernel->notebook==6.0.0->-r requirements.txt (line 1)) (7.6.1)\n",
      "Requirement already satisfied: six in /anaconda3/lib/python3.7/site-packages (from traitlets>=4.2.1->notebook==6.0.0->-r requirements.txt (line 1)) (1.13.0)\n",
      "Requirement already satisfied: decorator in /anaconda3/lib/python3.7/site-packages (from traitlets>=4.2.1->notebook==6.0.0->-r requirements.txt (line 1)) (4.4.0)\n",
      "Requirement already satisfied: pygments in /anaconda3/lib/python3.7/site-packages (from nbconvert->notebook==6.0.0->-r requirements.txt (line 1)) (2.4.2)\n",
      "Requirement already satisfied: entrypoints>=0.2.2 in /anaconda3/lib/python3.7/site-packages (from nbconvert->notebook==6.0.0->-r requirements.txt (line 1)) (0.3)\n",
      "Requirement already satisfied: defusedxml in /anaconda3/lib/python3.7/site-packages (from nbconvert->notebook==6.0.0->-r requirements.txt (line 1)) (0.6.0)\n",
      "Requirement already satisfied: mistune>=0.8.1 in /anaconda3/lib/python3.7/site-packages (from nbconvert->notebook==6.0.0->-r requirements.txt (line 1)) (0.8.4)\n",
      "Requirement already satisfied: bleach in /anaconda3/lib/python3.7/site-packages (from nbconvert->notebook==6.0.0->-r requirements.txt (line 1)) (3.1.0)\n",
      "Requirement already satisfied: testpath in /anaconda3/lib/python3.7/site-packages (from nbconvert->notebook==6.0.0->-r requirements.txt (line 1)) (0.4.2)\n",
      "Requirement already satisfied: pandocfilters>=1.4.1 in /anaconda3/lib/python3.7/site-packages (from nbconvert->notebook==6.0.0->-r requirements.txt (line 1)) (1.4.2)\n",
      "Requirement already satisfied: MarkupSafe>=0.23 in /anaconda3/lib/python3.7/site-packages (from jinja2->notebook==6.0.0->-r requirements.txt (line 1)) (1.1.1)\n",
      "Requirement already satisfied: setuptools in /anaconda3/lib/python3.7/site-packages (from kiwisolver>=1.0.1->matplotlib==3.2.1->-r requirements.txt (line 4)) (42.0.2)\n",
      "Requirement already satisfied: attrs>=17.4.0 in /anaconda3/lib/python3.7/site-packages (from jsonschema!=2.5.0,>=2.4->nbformat->notebook==6.0.0->-r requirements.txt (line 1)) (19.3.0)\n",
      "Requirement already satisfied: pyrsistent>=0.14.0 in /anaconda3/lib/python3.7/site-packages (from jsonschema!=2.5.0,>=2.4->nbformat->notebook==6.0.0->-r requirements.txt (line 1)) (0.14.11)\n",
      "Requirement already satisfied: prompt-toolkit<2.1.0,>=2.0.0 in /anaconda3/lib/python3.7/site-packages (from ipython>=5.0.0->ipykernel->notebook==6.0.0->-r requirements.txt (line 1)) (2.0.9)\n",
      "Requirement already satisfied: jedi>=0.10 in /anaconda3/lib/python3.7/site-packages (from ipython>=5.0.0->ipykernel->notebook==6.0.0->-r requirements.txt (line 1)) (0.13.3)\n",
      "Requirement already satisfied: appnope; sys_platform == \"darwin\" in /anaconda3/lib/python3.7/site-packages (from ipython>=5.0.0->ipykernel->notebook==6.0.0->-r requirements.txt (line 1)) (0.1.0)\n",
      "Requirement already satisfied: pickleshare in /anaconda3/lib/python3.7/site-packages (from ipython>=5.0.0->ipykernel->notebook==6.0.0->-r requirements.txt (line 1)) (0.7.5)\n",
      "Requirement already satisfied: pexpect; sys_platform != \"win32\" in /anaconda3/lib/python3.7/site-packages (from ipython>=5.0.0->ipykernel->notebook==6.0.0->-r requirements.txt (line 1)) (4.7.0)\n",
      "Requirement already satisfied: backcall in /anaconda3/lib/python3.7/site-packages (from ipython>=5.0.0->ipykernel->notebook==6.0.0->-r requirements.txt (line 1)) (0.1.0)\n",
      "Requirement already satisfied: webencodings in /anaconda3/lib/python3.7/site-packages (from bleach->nbconvert->notebook==6.0.0->-r requirements.txt (line 1)) (0.5.1)\n",
      "Requirement already satisfied: wcwidth in /anaconda3/lib/python3.7/site-packages (from prompt-toolkit<2.1.0,>=2.0.0->ipython>=5.0.0->ipykernel->notebook==6.0.0->-r requirements.txt (line 1)) (0.1.7)\n",
      "Requirement already satisfied: parso>=0.3.0 in /anaconda3/lib/python3.7/site-packages (from jedi>=0.10->ipython>=5.0.0->ipykernel->notebook==6.0.0->-r requirements.txt (line 1)) (0.5.0)\n",
      "Requirement already satisfied: ptyprocess>=0.5 in /anaconda3/lib/python3.7/site-packages (from pexpect; sys_platform != \"win32\"->ipython>=5.0.0->ipykernel->notebook==6.0.0->-r requirements.txt (line 1)) (0.6.0)\n"
     ]
    }
   ],
   "source": [
    "# Install a pip package in the current Jupyter kernel\n",
    "import sys\n",
    "!{sys.executable} -m pip install -r requirements.txt"
   ]
  },
  {
   "cell_type": "markdown",
   "metadata": {},
   "source": [
    "## Load packages"
   ]
  },
  {
   "cell_type": "code",
   "execution_count": 2,
   "metadata": {},
   "outputs": [],
   "source": [
    "# Useful packages\n",
    "import os\n",
    "import warnings\n",
    "\n",
    "# Work with Python array and graphs\n",
    "import numpy as np\n",
    "import matplotlib.pyplot as plt\n",
    "import matplotlib.patches as mpatches\n",
    "\n",
    "# Cluster tendency\n",
    "from pyclustertend import hopkins\n",
    "\n",
    "# MVMDS\n",
    "from sklearn.metrics import pairwise_distances\n",
    "from multiview.mvmds import mvmds\n",
    "\n",
    "# Clustering algorithm\n",
    "from sklearn.cluster import KMeans\n",
    "from sklearn.cluster import SpectralClustering\n",
    "\n",
    "# Clustering performance evaluation\n",
    "from sklearn.metrics import davies_bouldin_score, silhouette_score"
   ]
  },
  {
   "cell_type": "markdown",
   "metadata": {},
   "source": [
    "## Load data"
   ]
  },
  {
   "cell_type": "code",
   "execution_count": 3,
   "metadata": {},
   "outputs": [],
   "source": [
    "# Load matrices from CSV files\n",
    "ISC_EEG = np.genfromtxt(os.path.join('ISC_EEG.csv'),delimiter=',')\n",
    "ISC_EEG = np.array(ISC_EEG,dtype='float') # Convert into array\n",
    "\n",
    "ISC_EDA = np.genfromtxt(os.path.join('ISC_EDA.csv'),delimiter=',')\n",
    "ISC_EDA = np.array(ISC_EDA,dtype='float') # Convert into array\n",
    "\n",
    "ISC_IBI = np.genfromtxt(os.path.join('ISC_IBI.csv'),delimiter=',')\n",
    "ISC_IBI = np.array(ISC_IBI,dtype='float') # Convert into array\n",
    "\n",
    "# Remove Inf in data for EDA and IBI (try to have similar ratio as in EEG between diagonal and mean non-diagonal)\n",
    "tmp_EEG = np.copy(ISC_EEG)\n",
    "tmp_EDA = np.copy(ISC_EDA)\n",
    "tmp_IBI = np.copy(ISC_IBI)\n",
    "\n",
    "for i in range(len(tmp_EEG)):\n",
    "    tmp_EEG[i,i] = 0\n",
    "    tmp_EDA[i,i] = 0\n",
    "    tmp_IBI[i,i] = 0\n",
    "eegNorm = np.max(ISC_EEG)/np.mean(tmp_EEG)\n",
    "\n",
    "for i in range(len(ISC_IBI)):\n",
    "    ISC_IBI[i,i] = np.mean(tmp_IBI)*eegNorm\n",
    "    ISC_EDA[i,i] = np.mean(tmp_EDA)*eegNorm"
   ]
  },
  {
   "cell_type": "markdown",
   "metadata": {},
   "source": [
    "## Compute distance matrix"
   ]
  },
  {
   "cell_type": "code",
   "execution_count": 4,
   "metadata": {},
   "outputs": [],
   "source": [
    "def computeDistanceMatrix(study_matrix):\n",
    "    \n",
    "    # Normalise maximum value to 1\n",
    "    normed_matrix = np.copy(study_matrix)\n",
    "    normed_matrix = normed_matrix / np.max(abs(normed_matrix))\n",
    "    \n",
    "    # Convert into distance matrix\n",
    "    distance_matrix = np.sqrt((1-normed_matrix)) # Formula in Matlab and in Scikit to convert \n",
    "        \n",
    "    # Interval MDS normalization to spread values between 0 and 1\n",
    "    a = np.min(np.sort(distance_matrix,axis=0)[1,:])\n",
    "    distance_matrix = distance_matrix - a\n",
    "    distance_matrix = distance_matrix - np.diag(np.diag(distance_matrix))\n",
    "    distance_matrix = distance_matrix / np.max(distance_matrix)\n",
    "    \n",
    "    # To make sure output is perfectly symmetrical\n",
    "    return (distance_matrix+distance_matrix.T)/2"
   ]
  },
  {
   "cell_type": "markdown",
   "metadata": {},
   "source": [
    "## Multiview mapping"
   ]
  },
  {
   "cell_type": "code",
   "execution_count": 5,
   "metadata": {},
   "outputs": [],
   "source": [
    "def computeAllDistanceMatrix(ISC_EEG,ISC_EDA,ISC_IBI):\n",
    "    \n",
    "    # Make copy of 3 matrices (for each modality)\n",
    "    mat_EEG = np.copy(ISC_EEG)\n",
    "    mat_EDA = np.copy(ISC_EDA)\n",
    "    mat_IBI = np.copy(ISC_IBI)\n",
    "    \n",
    "    # Compute the 3 distance matrices (according to each modality)\n",
    "    distance_matrix_EEG = computeDistanceMatrix(ISC_EEG)\n",
    "    distance_matrix_EDA = computeDistanceMatrix(ISC_EDA)\n",
    "    distance_matrix_IBI = computeDistanceMatrix(ISC_IBI)\n",
    "  \n",
    "    # Remove direct correlation influence and compute correlation distance matrices\n",
    "    for i in range(len(ISC_EEG)):\n",
    "        mat_EEG[i,i] = 0\n",
    "        mat_EDA[i,i] = 0\n",
    "        mat_IBI[i,i] = 0\n",
    "    distance_matrix_corr_EEG = pairwise_distances(mat_EEG,metric='correlation')\n",
    "    distance_matrix_corr_EDA = pairwise_distances(mat_EDA,metric='correlation')\n",
    "    distance_matrix_corr_IBI = pairwise_distances(mat_IBI,metric='correlation')\n",
    "\n",
    "    # Return distance matrices\n",
    "    return distance_matrix_EEG, distance_matrix_EDA, distance_matrix_IBI, distance_matrix_corr_EEG, distance_matrix_corr_EDA, distance_matrix_corr_IBI"
   ]
  },
  {
   "cell_type": "code",
   "execution_count": 6,
   "metadata": {},
   "outputs": [],
   "source": [
    "def computeMVMDSCoordinate(mat=['EEG','EDA','IBI','corrEEG','corrEDA','corrIBI']):\n",
    "\n",
    "    # Compute all distance matrices\n",
    "    distance_matrix_EEG, distance_matrix_EDA, distance_matrix_IBI, distance_matrix_corr_EEG, distance_matrix_corr_EDA, distance_matrix_corr_IBI = computeAllDistanceMatrix(ISC_EEG,ISC_EDA,ISC_IBI)    \n",
    "\n",
    "    # Choose which matrices to include into the multiview\n",
    "    multiviewMat = []\n",
    "    if ('EEG' in mat):\n",
    "        multiviewMat.append(distance_matrix_EEG)\n",
    "    if ('EDA' in mat):\n",
    "        multiviewMat.append(distance_matrix_EDA)\n",
    "    if ('IBI' in mat):\n",
    "        multiviewMat.append(distance_matrix_IBI)\n",
    "    if ('corrEEG' in mat):\n",
    "        multiviewMat.append(distance_matrix_corr_EEG)\n",
    "    if ('corrEDA' in mat):\n",
    "        multiviewMat.append(distance_matrix_corr_EDA)\n",
    "    if ('corrIBI' in mat):\n",
    "        multiviewMat.append(distance_matrix_corr_IBI)\n",
    "        \n",
    "    # Computing multiview mapping\n",
    "    points = mvmds(multiviewMat,len(mat)*[True],2)\n",
    "    \n",
    "    return points"
   ]
  },
  {
   "cell_type": "markdown",
   "metadata": {},
   "source": [
    "## Compute clustering"
   ]
  },
  {
   "cell_type": "code",
   "execution_count": 42,
   "metadata": {},
   "outputs": [],
   "source": [
    "class Results():\n",
    "\n",
    "    def __init__(self,mat,algo):\n",
    "        self.mat = mat\n",
    "        self.algo = algo\n",
    "        \n",
    "    def twoClustersMethodResult(self):\n",
    "        print(\"Blind results\\n\")\n",
    "        \n",
    "        # Cluster tendency\n",
    "        print(\"Hopkins test\")\n",
    "        self.hopkinsCoef()\n",
    "        print(\"%f +- %f\" %(self.hopkins[0],self.hopkins[1]))\n",
    "        \n",
    "        # Found clusters\n",
    "        print(\"Found clusters \")\n",
    "        print(self.label)\n",
    "        \n",
    "        # Clustering quality evaluation\n",
    "        print(\"Silhouette coefficient : %0.3f\" %self.silhouetteCoef())\n",
    "        print(\"DB index : %f \" %self.dbScore())\n",
    "        \n",
    "        # Comparing to ground truth (if known)\n",
    "        if (os.path.isfile(os.path.join('condition.csv'))):\n",
    "            global groundTruth\n",
    "            if (groundTruth):\n",
    "                print(\"\\n\\nComparing to ground truth\\n\")\n",
    "                print(\"Accuracy : %f \" %self.accuracy())\n",
    "                print(\"Misclassified participants : [%s]\" % \", \".join(map(str, self.misClassified)))        \n",
    "        \n",
    "    def applyMethod(self,method):\n",
    "        \n",
    "        # Mapping\n",
    "        points = computeMVMDSCoordinate(self.mat)\n",
    "\n",
    "        # Clustering\n",
    "        meth = method.fit(points)\n",
    "\n",
    "        # Store found labels and points location\n",
    "        if hasattr(meth, 'labels_'):\n",
    "            label = meth.labels_\n",
    "        else:\n",
    "            label = meth.predict(points)\n",
    "        self.label = label\n",
    "        self.best_points = points\n",
    "         \n",
    "    def showResultMap(self):\n",
    "        \n",
    "        # Set new figure\n",
    "        plt.figure()\n",
    "        ax = plt.axes([0,0,1.2,1.2])\n",
    "        ax.set_aspect(aspect='equal')\n",
    "        \n",
    "        # Annotate points\n",
    "        for i in range(len(ISC_EEG)):\n",
    "            ax.annotate(i,(self.best_points[i,0],self.best_points[i,1]),xytext=(self.best_points[i,0]+(np.max(self.best_points[:,0])-np.min(self.best_points[:,0]))/50,self.best_points[i,1]))     \n",
    "        \n",
    "        # Show color according to trueDisplay bool\n",
    "        global trueDisplay\n",
    "        if (trueDisplay):\n",
    "            # Scatter points \n",
    "            ax.scatter(self.best_points[self.narrative,0],self.best_points[self.narrative,1],color='blue',s=145,label='NA')\n",
    "            ax.scatter(self.best_points[self.stimulus,0],self.best_points[self.stimulus,1],color='red',s=145,label='SSA')\n",
    "            ax.scatter(self.best_points[self.misClassified,0],self.best_points[self.misClassified,1],color='black',s=145,label='misclassified')\n",
    "            \n",
    "            # Add legend\n",
    "            TP = mpatches.Patch(color='blue', label='NA')\n",
    "            TN = mpatches.Patch(color='red', label='SSA')\n",
    "            FP_FN = mpatches.Patch(color='black', label='misclassified')\n",
    "            plt.legend(handles=[TP,TN,FP_FN])\n",
    "            plt.title(\"%s on [%s]\" % (self.algo, \", \".join(map(str, self.mat))))\n",
    "            plt.savefig('GT_%s.png' %self.mat,bbox_inches='tight')\n",
    "        else:\n",
    "            # Scatter points \n",
    "            ax.scatter(self.best_points[self.label==0,0],self.best_points[self.label==0,1],color='darkgreen',s=145)\n",
    "            ax.scatter(self.best_points[self.label==1,0],self.best_points[self.label==1,1],color='darkorange',s=145)\n",
    "\n",
    "            # Add legend\n",
    "            group0 = mpatches.Patch(color='darkgreen', label='First group')\n",
    "            group1 = mpatches.Patch(color='darkorange', label='Second group')\n",
    "            plt.legend(handles=[group0,group1])       \n",
    "            plt.title(\"%s on [%s]\" % (self.algo, \", \".join(map(str, self.mat))))\n",
    "            plt.savefig('clustering_%s.png' %self.mat,bbox_inches='tight')\n",
    "\n",
    "        \n",
    "    def dbScore(self):\n",
    "        # Compute DB-score (small means good clustering)\n",
    "        if len(np.unique(self.label))==1:\n",
    "            warnings.warn(\"Labels correspond to only 1 group\")\n",
    "            return -1\n",
    "        elif len(np.unique(self.label))==len(ISC_EEG):\n",
    "            warnings.warn(\"Each participant correspond to one label\")\n",
    "            return -1\n",
    "        else:\n",
    "            return davies_bouldin_score(self.best_points,self.label)\n",
    "        \n",
    "    def hopkinsCoef(self):\n",
    "        # Average on different random data generated in Hopkins\n",
    "        H = []\n",
    "        for p in range(100):\n",
    "            H.append(hopkins(self.best_points,len(ISC_EEG)))   \n",
    "        self.hopkins = [1-np.mean(H),np.std(H)]\n",
    "        \n",
    "        # Raise a warning if Hopkins test <= 0.5\n",
    "        if (self.hopkins[0]<=0.5):\n",
    "            warnings.warn(\"Hopkins test <= 0.5 : data set does not have clustering tendency\")\n",
    "            \n",
    "    def silhouetteCoef(self):\n",
    "        # Compute Silhouette Coefficient based on distance matrix (the closer it is to 1, the better the clustering is)\n",
    "        if len(np.unique(self.label))==1:\n",
    "            warnings.warn(\"Labels correspond to only 1 group\")\n",
    "            return -1\n",
    "        elif len(np.unique(self.label))==len(ISC_EEG):\n",
    "            warnings.warn(\"Each participant correspond to one label\")\n",
    "            return -1\n",
    "        else:\n",
    "            return silhouette_score(self.best_points, self.label, metric='euclidean')\n",
    "        \n",
    "    def accuracy(self):\n",
    "        # Read true labels from CSV file\n",
    "        condition = np.genfromtxt(os.path.join('condition.csv'),delimiter=',')\n",
    "        condition = np.array(condition,dtype='int') # Convert into array\n",
    "        self.narrative = np.where(condition == 0)[0]\n",
    "        self.stimulus = np.where(condition == 1)[0]\n",
    "        \n",
    "        # Find which participants are misclassified and compute accuracy\n",
    "        subjects = np.arange(len(ISC_EEG))\n",
    "        self.wellClassified = subjects[self.label==condition]\n",
    "        self.misClassified = subjects[self.label!=condition]\n",
    "        if (len(self.misClassified) > len(self.wellClassified)):\n",
    "            self.wellClassified, self.misClassified = self.misClassified, self.wellClassified\n",
    "        \n",
    "        return len(self.wellClassified) / len(ISC_EEG)"
   ]
  },
  {
   "cell_type": "code",
   "execution_count": 55,
   "metadata": {},
   "outputs": [],
   "source": [
    "# Choose which matrix or matrices to study\n",
    "mat = ['EEG']\n",
    "#mat = ['EEG','EDA']\n",
    "#mat = ['EEG','EDA','IBI']\n",
    "\n",
    "# Decide if compare to ground truth\n",
    "groundTruth = True\n",
    "\n",
    "# Display found clusters or true clusters with misclassified participants in black\n",
    "trueDisplay = True\n",
    "\n",
    "# Choose clustering algorithm\n",
    "algo = 'K-Means'\n",
    "algo = 'Spectral Clustering'"
   ]
  },
  {
   "cell_type": "code",
   "execution_count": 56,
   "metadata": {},
   "outputs": [
    {
     "name": "stdout",
     "output_type": "stream",
     "text": [
      "Blind results\n",
      "\n",
      "Hopkins test\n",
      "0.559415 +- 0.036032\n",
      "Found clusters \n",
      "[1 0 0 1 1 1 0 1 1 1 0 1 0 1 0 0 1 1 0 0 0 0 1 0 0 1]\n",
      "Silhouette coefficient : 0.383\n",
      "DB index : 1.005718 \n",
      "\n",
      "\n",
      "Comparing to ground truth\n",
      "\n",
      "Accuracy : 0.846154 \n",
      "Misclassified participants : [2, 3, 8, 18]\n"
     ]
    },
    {
     "data": {
      "image/png": "[encoded data removed]",
      "text/plain": [
       "<Figure size 432x288 with 1 Axes>"
      ]
     },
     "metadata": {
      "needs_background": "light"
     },
     "output_type": "display_data"
    }
   ],
   "source": [
    "# Compute chosen clustering\n",
    "method_result = Results(mat=mat,algo=algo)\n",
    "if (algo == 'K-Means'):\n",
    "    method = KMeans(n_clusters=2,n_init=100)\n",
    "elif (algo == 'Spectral Clustering'):\n",
    "    method = SpectralClustering(n_clusters=2)\n",
    "\n",
    "method_result.applyMethod(method)\n",
    "\n",
    "# Show results\n",
    "method_result.twoClustersMethodResult()\n",
    "method_result.showResultMap()"
   ]
  },
  {
   "cell_type": "markdown",
   "metadata": {},
   "source": [
    "#\n",
    "\n",
    "#\n",
    "\n",
    "#\n",
    "\n",
    "#\n",
    "\n",
    "#\n"
   ]
  },
  {
   "cell_type": "markdown",
   "metadata": {},
   "source": [
    "## Test rendering with pandas"
   ]
  },
  {
   "cell_type": "code",
   "execution_count": 10,
   "metadata": {},
   "outputs": [
    {
     "ename": "SyntaxError",
     "evalue": "'break' outside loop (<ipython-input-10-214cc6304ca6>, line 4)",
     "output_type": "error",
     "traceback": [
      "\u001b[0;36m  File \u001b[0;32m\"<ipython-input-10-214cc6304ca6>\"\u001b[0;36m, line \u001b[0;32m4\u001b[0m\n\u001b[0;31m    \u001b[0m\n\u001b[0m    ^\u001b[0m\n\u001b[0;31mSyntaxError\u001b[0m\u001b[0;31m:\u001b[0m 'break' outside loop\n"
     ]
    }
   ],
   "source": [
    "break\n",
    "import pandas as pd\n",
    "from pandas_profiling import ProfileReport\n",
    "\n",
    "df = pd.DataFrame(\n",
    "    np.random.rand(100, 5),\n",
    "    columns=[\"a\", \"b\", \"c\", \"d\", \"e\"]\n",
    ")\n",
    "profile = ProfileReport(df, title='Pandas Profiling Report')\n",
    "profile.to_widgets()"
   ]
  },
  {
   "cell_type": "code",
   "execution_count": null,
   "metadata": {},
   "outputs": [],
   "source": [
    "import numpy as np\n",
    "import pandas as pd\n",
    "\n",
    "np.random.seed(24)\n",
    "df = pd.DataFrame({'A': np.linspace(1, 10, 10)})\n",
    "df = pd.concat([df, pd.DataFrame(np.random.randn(10, 4), columns=list('BCDE'))],\n",
    "               axis=1)\n",
    "df.iloc[3, 3] = np.nan\n",
    "df.iloc[0, 2] = np.nan\n"
   ]
  },
  {
   "cell_type": "code",
   "execution_count": null,
   "metadata": {},
   "outputs": [],
   "source": [
    "df.style"
   ]
  },
  {
   "cell_type": "code",
   "execution_count": null,
   "metadata": {},
   "outputs": [],
   "source": []
  }
 ],
 "metadata": {
  "kernelspec": {
   "display_name": "Python 3",
   "language": "python",
   "name": "python3"
  },
  "language_info": {
   "codemirror_mode": {
    "name": "ipython",
    "version": 3
   },
   "file_extension": ".py",
   "mimetype": "text/x-python",
   "name": "python",
   "nbconvert_exporter": "python",
   "pygments_lexer": "ipython3",
   "version": "3.7.3"
  }
 },
 "nbformat": 4,
 "nbformat_minor": 4
}
