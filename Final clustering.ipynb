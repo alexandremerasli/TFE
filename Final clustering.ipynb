{
 "cells": [
  {
   "cell_type": "markdown",
   "metadata": {},
   "source": [
    "## Load packages"
   ]
  },
  {
   "cell_type": "code",
   "execution_count": 1,
   "metadata": {},
   "outputs": [],
   "source": [
    "import numpy as np\n",
    "import os\n",
    "import matplotlib.pyplot as plt\n",
    "import csv"
   ]
  },
  {
   "cell_type": "markdown",
   "metadata": {},
   "source": [
    "## Load data"
   ]
  },
  {
   "cell_type": "code",
   "execution_count": 2,
   "metadata": {},
   "outputs": [],
   "source": [
    "# Load matrices from CSV files\n",
    "ISC_EEG = np.genfromtxt(os.path.join('ISC_EEG.csv'),delimiter=',')\n",
    "ISC_EEG = np.array(ISC_EEG,dtype='float') # Convert into array\n",
    "\n",
    "ISC_EDA = np.genfromtxt(os.path.join('ISC_EDA.csv'),delimiter=',')\n",
    "ISC_EDA = np.array(ISC_EDA,dtype='float') # Convert into array\n",
    "\n",
    "ISC_IBI = np.genfromtxt(os.path.join('ISC_IBI.csv'),delimiter=',')\n",
    "ISC_IBI = np.array(ISC_IBI,dtype='float') # Convert into array\n",
    "\n",
    "subjectsWithoutShift = np.arange(len(ISC_EEG))\n",
    "\n",
    "# Remove Inf in data for EDA and IBI (try to have similar ratio as in EEG between diagonal and mean non-diagonal)\n",
    "tmp_EEG = np.copy(ISC_EEG)\n",
    "tmp_EDA = np.copy(ISC_EDA)\n",
    "tmp_IBI = np.copy(ISC_IBI)\n",
    "\n",
    "for i in range(len(tmp_EEG)):\n",
    "    tmp_EEG[i,i] = 0\n",
    "    tmp_EDA[i,i] = 0\n",
    "    tmp_IBI[i,i] = 0\n",
    "eegNorm = 3/np.mean(tmp_EEG)\n",
    "\n",
    "for i in range(len(ISC_IBI)):\n",
    "    ISC_IBI[i,i] = np.mean(tmp_IBI)*eegNorm\n",
    "    ISC_EDA[i,i] = np.mean(tmp_EDA)*eegNorm\n",
    "    \n",
    "subjects = np.arange(len(ISC_EEG))"
   ]
  },
  {
   "cell_type": "markdown",
   "metadata": {},
   "source": [
    "## Parameters"
   ]
  },
  {
   "cell_type": "code",
   "execution_count": 3,
   "metadata": {},
   "outputs": [],
   "source": [
    "case = 'EEG'"
   ]
  },
  {
   "cell_type": "code",
   "execution_count": 4,
   "metadata": {},
   "outputs": [],
   "source": [
    "# Choose study matrix according to case study\n",
    "if (case == 'EEG'):\n",
    "    study_matrix = ISC_EEG\n",
    "elif (case == 'EDA'):\n",
    "    study_matrix = ISC_EDA\n",
    "elif (case == 'IBI'):\n",
    "    study_matrix = ISC_IBI"
   ]
  },
  {
   "cell_type": "markdown",
   "metadata": {},
   "source": [
    "## Compute distance matrix"
   ]
  },
  {
   "cell_type": "code",
   "execution_count": 5,
   "metadata": {},
   "outputs": [],
   "source": [
    "def computeDistanceMatrix(study_matrix=study_matrix):\n",
    "    \n",
    "    # Normalise maximum value to 1\n",
    "    matrix_norm = np.copy(study_matrix)\n",
    "    matrix_norm = matrix_norm / np.max(abs(matrix_norm))\n",
    "\n",
    "    # Convert into distance matrix\n",
    "    distance_matrix = np.sqrt((1-matrix_norm)) # Formula in Matlab and in Scikit to convert \n",
    "    \n",
    "    # Interval MDS normalization\n",
    "    a = np.min(np.sort(distance_matrix,axis=0)[1,:])\n",
    "    distance_matrix = distance_matrix - a\n",
    "    distance_matrix = distance_matrix - np.diag(np.diag(distance_matrix))\n",
    "    \n",
    "    # To make sure output is perfectly symmetrical\n",
    "    return (distance_matrix+distance_matrix.T)/2"
   ]
  },
  {
   "cell_type": "markdown",
   "metadata": {},
   "source": [
    "## Plot points"
   ]
  },
  {
   "cell_type": "code",
   "execution_count": 6,
   "metadata": {},
   "outputs": [],
   "source": [
    "from sklearn.decomposition import PCA\n",
    "\n",
    "# Show MDS scaling\n",
    "import matplotlib.patches as mpatches\n",
    "\n",
    "def plotPoints(points,projection=False,title='Ground truth',subjects=subjects,subjectsWithoutShift=subjectsWithoutShift):\n",
    "    \n",
    "    condition = trueGroups(removeOutlier)  \n",
    "    condition = condition[subjectsWithoutShift]\n",
    "    subjects=np.arange(len(condition))\n",
    "    NA = np.where(condition[subjects]==0)[0]\n",
    "    SSA = np.where(condition[subjects]==1)[0]\n",
    "\n",
    "    if (points.shape[1] != 1):\n",
    "        ax = plt.axes([1.2,0,1.2,1.2])\n",
    "        ax.set_aspect(aspect='equal')\n",
    "        if (projection):\n",
    "            points = transformPoints(points)\n",
    "\n",
    "        for i in range(len(points)):\n",
    "            ax.annotate(subjectsWithoutShift[i],(points[i,0],points[i,1]),xytext=(points[i,0]+(np.max(points[:,0])-np.min(points[:,0]))/50,points[i,1]))\n",
    "\n",
    "        plt.scatter(points[NA,0],points[NA,1],color='blue',s=145,label='NA')\n",
    "        plt.scatter(points[SSA,0],points[SSA,1],color='red',s=145,label='SSA')\n",
    "    else:\n",
    "        plt.scatter(points[NA],np.zeros((len(NA),1)),marker='x',color='blue')\n",
    "        plt.scatter(points[SSA],np.zeros((len(SSA),1)),marker='x',color='red')\n",
    "        orderedSubjectPlot = np.argsort(points.T)\n",
    "        for i in range(len(points)):\n",
    "            subj = orderedSubjectPlot[0,i]\n",
    "            plt.annotate(subj,(points[subj,0],0),xytext=(points[subj,0]-((i+1)%2+1)*np.max(points)/35,0.01*(i%2)-0.0065))\n",
    "        \n",
    "    NA = mpatches.Patch(color='blue', label='NA')\n",
    "    SSA = mpatches.Patch(color='red', label='SSA')\n",
    "    plt.legend(handles=[NA,SSA])\n",
    "    \n",
    "    plt.title(title)\n",
    "    \n",
    "# Shepard diagram\n",
    "from scipy.spatial.distance import pdist, squareform\n",
    "from sklearn.metrics import euclidean_distances\n",
    "\n",
    "def shepardDiagram(distance_matrix,points,disparities,title=''):\n",
    "    ax = plt.axes([0,0,1.2,1.2])\n",
    "    #ax.set_aspect(aspect='equal')\n",
    "    \n",
    "    order = np.lexsort((np.ravel(distance_matrix),np.ravel(disparities)))\n",
    "\n",
    "    computedDistances = pdist(points);\n",
    "    computedDistances = squareform(computedDistances);\n",
    "    computedDistances = euclidean_distances(points)\n",
    "\n",
    "    plt.scatter(np.ravel(distance_matrix),np.ravel(computedDistances))\n",
    "    plt.plot(np.ravel(distance_matrix)[order],np.ravel(disparities)[order],'r.')\n",
    "    plt.xlabel('Dissimilarities')\n",
    "    plt.ylabel('Distances/Disparities')\n",
    "    plt.title(title)\n",
    "    corr = np.corrcoef(np.ravel(computedDistances),np.ravel(disparities))\n",
    "    return corr[1,0]"
   ]
  },
  {
   "cell_type": "markdown",
   "metadata": {},
   "source": [
    "## PCoA"
   ]
  },
  {
   "cell_type": "code",
   "execution_count": 7,
   "metadata": {},
   "outputs": [],
   "source": [
    "from skbio.stats.ordination import pcoa\n",
    "\n",
    "def computePCoACoordinate(distance_matrix,n_comp=2):\n",
    "    \n",
    "    pcoa_map = pcoa(distance_matrix, method='eigh', number_of_dimensions=n_comp)\n",
    "    points = np.array(pcoa_map.samples)\n",
    "    return points"
   ]
  },
  {
   "cell_type": "markdown",
   "metadata": {},
   "source": [
    "## Multiview mapping"
   ]
  },
  {
   "cell_type": "code",
   "execution_count": 8,
   "metadata": {},
   "outputs": [],
   "source": [
    "ISC_EEG = np.genfromtxt(os.path.join('ISC_EEG.csv'),delimiter=',')\n",
    "ISC_EEG = np.array(ISC_EEG,dtype='float') # Convert into array\n",
    "ISC_EDA = np.genfromtxt(os.path.join('ISC_EDA.csv'),delimiter=',')\n",
    "ISC_EDA = np.array(ISC_EDA,dtype='float') # Convert into array\n",
    "ISC_IBI = np.genfromtxt(os.path.join('ISC_IBI.csv'),delimiter=',')\n",
    "ISC_IBI = np.array(ISC_IBI,dtype='float') # Convert into array\n",
    "subjectsWithoutShift = np.arange(len(ISC_EEG))\n",
    "\n",
    "# Remove Inf in data for EDA and IBI (replace by sort of normalisation for the moment)\n",
    "tmp_EEG = np.copy(ISC_EEG)\n",
    "tmp_EDA = np.copy(ISC_EDA)\n",
    "tmp_IBI = np.copy(ISC_IBI)\n",
    "\n",
    "for i in range(len(tmp_EEG)):\n",
    "    tmp_EEG[i,i] = 0\n",
    "    tmp_EDA[i,i] = 0\n",
    "    tmp_IBI[i,i] = 0\n",
    "eegNorm = 3/np.mean(tmp_EEG)\n",
    "\n",
    "for i in range(len(ISC_IBI)):\n",
    "    ISC_IBI[i,i] = np.mean(tmp_IBI)*eegNorm\n",
    "    ISC_EDA[i,i] = np.mean(tmp_EDA)*eegNorm\n",
    "\n",
    "study_matrix = ISC_EEG\n",
    "N = len(study_matrix)\n",
    "subjects = np.arange(N)"
   ]
  },
  {
   "cell_type": "code",
   "execution_count": 9,
   "metadata": {},
   "outputs": [],
   "source": [
    "def computeAllDistanceMatrix():\n",
    "    \n",
    "    # Copy correlation matrices\n",
    "    mat_EEG = np.copy(ISC_EEG)\n",
    "    mat_EDA = np.copy(ISC_EDA)\n",
    "    mat_IBI = np.copy(ISC_IBI)\n",
    "\n",
    "    # Compute 3 distance matrices (according to each modality)\n",
    "    distance_matrix_EEG = computeDistanceMatrix(mat_EEG)\n",
    "    distance_matrix_EDA = computeDistanceMatrix(mat_EDA)\n",
    "    distance_matrix_IBI = computeDistanceMatrix(mat_IBI)\n",
    "  \n",
    "    # Remove direct correlation influence and compute correlation distance matrices\n",
    "    for i in range(len(mat_EEG)):\n",
    "        mat_EEG[i,i] = 0\n",
    "        mat_EDA[i,i] = 0\n",
    "        mat_IBI[i,i] = 0\n",
    "    distance_matrix_corr_EEG = pairwise_distances(mat_EEG,metric='correlation')\n",
    "    distance_matrix_corr_EDA = pairwise_distances(mat_EDA,metric='correlation')\n",
    "    distance_matrix_corr_IBI = pairwise_distances(mat_IBI,metric='correlation')\n",
    "\n",
    "    # Return distance matrices\n",
    "    return distance_matrix_EEG, distance_matrix_EDA, distance_matrix_IBI, distance_matrix_corr_EEG, distance_matrix_corr_EDA, distance_matrix_corr_IBI"
   ]
  },
  {
   "cell_type": "code",
   "execution_count": 10,
   "metadata": {},
   "outputs": [],
   "source": [
    "from multiview.mvmds import mvmds\n",
    "def computeMVMDSCoordinate(mat=['EEG','EDA','IBI','corrEEG','corrEDA','corrIBI']):\n",
    "\n",
    "    # Computing all distance matrices\n",
    "    distance_matrix_EEG, distance_matrix_EDA, distance_matrix_IBI, distance_matrix_corr_EEG, distance_matrix_corr_EDA, distance_matrix_corr_IBI = computeAllDistanceMatrix()    \n",
    "\n",
    "    # Choosing which matrices to include into the multiview\n",
    "    multiviewMat = []\n",
    "    if ('EEG' in mat):\n",
    "        multiviewMat.append(distance_matrix_EEG)\n",
    "    if ('EDA' in mat):\n",
    "        multiviewMat.append(distance_matrix_EDA)\n",
    "    if ('IBI' in mat):\n",
    "        multiviewMat.append(distance_matrix_IBI)\n",
    "    if ('corrEEG' in mat):\n",
    "        multiviewMat.append(distance_matrix_corr_EEG)\n",
    "    if ('corrEDA' in mat):\n",
    "        multiviewMat.append(distance_matrix_corr_EDA)\n",
    "    if ('corrIBI' in mat):\n",
    "        multiviewMat.append(distance_matrix_corr_IBI)\n",
    "        \n",
    "    # Computing multiview mapping\n",
    "    points = mvmds(multiviewMat,len(mat)*[True],2)\n",
    "    return points"
   ]
  },
  {
   "cell_type": "markdown",
   "metadata": {},
   "source": [
    "## Compute clustering"
   ]
  },
  {
   "cell_type": "code",
   "execution_count": 11,
   "metadata": {},
   "outputs": [],
   "source": [
    "from sklearn.metrics import davies_bouldin_score, silhouette_score\n",
    "\n",
    "import warnings\n",
    "from pyclustertend import hopkins\n",
    "from sklearn.metrics import pairwise_distances\n",
    "\n",
    "class Results():\n",
    "\n",
    "    def __init__(self,name,mat=[case]):\n",
    "        self.accuracy = 0\n",
    "        self.label = np.zeros(N)\n",
    "        self.name = name\n",
    "        self.best_points = None\n",
    "        self.SC = -1\n",
    "        self.mat = mat\n",
    "        \n",
    "    def shepardDiagram(self):\n",
    "        plt.figure()\n",
    "        ax = plt.axes([0,0,1.2,1.2])\n",
    "        #ax.set_aspect(aspect='equal')\n",
    "\n",
    "        disparities = self.distance_matrix\n",
    "        order = np.lexsort((np.ravel(self.distance_matrix),np.ravel(disparities)))\n",
    "\n",
    "        computedDistances = pdist(self.best_points);\n",
    "        computedDistances = squareform(computedDistances);\n",
    "        computedDistances = euclidean_distances(self.best_points)\n",
    "\n",
    "        plt.scatter(np.ravel(self.distance_matrix),np.ravel(computedDistances))\n",
    "        plt.plot(np.ravel(self.distance_matrix)[order],np.ravel(disparities)[order],'r.')\n",
    "        plt.xlabel('Dissimilarities')\n",
    "        plt.ylabel('Distances/Disparities')\n",
    "        plt.title('')\n",
    "        corr = np.corrcoef(np.ravel(computedDistances),np.ravel(disparities))\n",
    "        return corr[1,0]\n",
    "        \n",
    "    def twoClustersMethodResult(self):\n",
    "        print(\"Results\\n\")\n",
    "        print(\"Hopkins test\")\n",
    "        self.hopkinsCoef()\n",
    "        print(\"%f +- %f\" %(self.hopkins[0],self.hopkins[1]))\n",
    "        print(\"Found clusters \")\n",
    "        print(self.label)\n",
    "        print(\"Silhouette coefficient : %0.3f\" %self.SC)\n",
    "        \n",
    "    def applyMethod(self,method):\n",
    "        self.distance_matrix = computeDistanceMatrix(study_matrix=study_matrix)\n",
    "\n",
    "        points = computeMVMDSCoordinate(self.mat)\n",
    "\n",
    "        meth = method.fit(points)\n",
    "\n",
    "        if hasattr(meth, 'labels_'):\n",
    "            label = meth.labels_\n",
    "        else:\n",
    "            label = meth.predict(points)\n",
    "\n",
    "        self.label = label\n",
    "        self.best_points = points\n",
    "        self.SC = self.silhouetteCoef()\n",
    "         \n",
    "    def showResultMap(self):\n",
    "        plt.figure()\n",
    "\n",
    "        ax = plt.axes([0,0,1.2,1.2])\n",
    "        ax.set_aspect(aspect='equal')\n",
    "        for i in range(len(subjects)):\n",
    "            ax.annotate(i,(self.best_points[i,0],self.best_points[i,1]),xytext=(self.best_points[i,0]+(np.max(self.best_points[:,0])-np.min(self.best_points[:,0]))/50,self.best_points[i,1]))\n",
    "            \n",
    "        ax.scatter(self.best_points[self.label==0,0],self.best_points[self.label==0,1],color='darkgreen',s=145)\n",
    "        ax.scatter(self.best_points[self.label==1,0],self.best_points[self.label==1,1],color='darkorange',s=145)\n",
    "\n",
    "        group0 = mpatches.Patch(color='darkgreen', label='First group')\n",
    "        group1 = mpatches.Patch(color='darkorange', label='Second group')\n",
    "        plt.legend(handles=[group0,group1])\n",
    "        \n",
    "        plt.title(\"%s clustering\" %self.name)\n",
    "        \n",
    "    def dbScore(self):\n",
    "        # Compute DB-score (small means good clustering)\n",
    "        if len(np.unique(self.label))==1:\n",
    "            warnings.warn(\"Labels correspond to only 1 group\")\n",
    "            return -1\n",
    "        else:\n",
    "            return davies_bouldin_score(self.best_points,self.label)\n",
    "        \n",
    "    def hopkinsCoef(self):\n",
    "        # Average on different random data generated in Hopkins\n",
    "        H = []\n",
    "        for p in range(100):\n",
    "            H.append(hopkins(self.best_points,len(subjects)))   \n",
    "        self.hopkins = [1-np.mean(H),np.std(H)]\n",
    "        \n",
    "        # Raise a warning if Hopkins test <= 0.5\n",
    "        if (self.hopkins[0]<=0.5):\n",
    "            warnings.warn(\"Hopkins test <= 0.5 : data set does not have clustering tendency\")\n",
    "            \n",
    "    # Compute Silhouette Coefficient based on distance matrix(small means good clustering)\n",
    "    def silhouetteCoef(self):\n",
    "        if len(np.unique(self.label))==1:\n",
    "            warnings.warn(\"Labels correspond to only 1 group\")\n",
    "            return -1\n",
    "        elif len(np.unique(self.label))==len(subjects):\n",
    "            warnings.warn(\"Each participant correspond to one label\")\n",
    "            return -1\n",
    "        else:\n",
    "            return silhouette_score(self.best_points, self.label, metric='euclidean')"
   ]
  },
  {
   "cell_type": "code",
   "execution_count": 12,
   "metadata": {},
   "outputs": [
    {
     "name": "stdout",
     "output_type": "stream",
     "text": [
      "[[0.01378513 0.        ]\n",
      " [0.         0.01225416]]\n",
      "Results\n",
      "\n",
      "Hopkins test\n",
      "0.554950 +- 0.033441\n",
      "Found clusters \n",
      "[0 1 1 0 0 0 1 0 0 0 0 0 1 0 1 1 1 0 1 1 1 1 0 1 1 0]\n",
      "Silhouette coefficient : 0.409\n",
      "DB index : 0.967638 \n"
     ]
    },
    {
     "data": {
      "image/png": "[encoded data removed]",
      "text/plain": [
       "<Figure size 432x288 with 1 Axes>"
      ]
     },
     "metadata": {
      "needs_background": "light"
     },
     "output_type": "display_data"
    }
   ],
   "source": [
    "from sklearn.cluster import KMeans\n",
    "\n",
    "mat = ['EEG','EDA','IBI']\n",
    "#mat = ['EDA','IBI']\n",
    "mat = ['EEG']\n",
    "kmeans_result = Results(\"k-means\",mat=mat)\n",
    "kmeans = KMeans(n_clusters=2,n_init=100)\n",
    "kmeans_result.applyMethod(kmeans)\n",
    "\n",
    "kmeans_result.twoClustersMethodResult()\n",
    "kmeans_result.showResultMap()\n",
    "print(\"DB index : %f \" %kmeans_result.dbScore())"
   ]
  }
 ],
 "metadata": {
  "kernelspec": {
   "display_name": "Python 3",
   "language": "python",
   "name": "python3"
  },
  "language_info": {
   "codemirror_mode": {
    "name": "ipython",
    "version": 3
   },
   "file_extension": ".py",
   "mimetype": "text/x-python",
   "name": "python",
   "nbconvert_exporter": "python",
   "pygments_lexer": "ipython3",
   "version": "3.7.3"
  }
 },
 "nbformat": 4,
 "nbformat_minor": 4
}
