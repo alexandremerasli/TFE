{
 "cells": [
  {
   "cell_type": "code",
   "execution_count": 122,
   "metadata": {},
   "outputs": [],
   "source": [
    "import numpy as np\n",
    "import os\n",
    "import matplotlib.pyplot as plt\n",
    "from sklearn.metrics import consensus_score\n",
    "from sklearn.cluster.bicluster import SpectralCoclustering\n",
    "\n",
    "import csv"
   ]
  },
  {
   "cell_type": "markdown",
   "metadata": {},
   "source": [
    "## Load and show data"
   ]
  },
  {
   "cell_type": "code",
   "execution_count": 123,
   "metadata": {},
   "outputs": [
    {
     "data": {
      "image/png": "[encoded data removed]",
      "text/plain": [
       "<Figure size 432x288 with 2 Axes>"
      ]
     },
     "metadata": {
      "needs_background": "light"
     },
     "output_type": "display_data"
    },
    {
     "data": {
      "image/png": "[encoded data removed]",
      "text/plain": [
       "<Figure size 288x288 with 2 Axes>"
      ]
     },
     "metadata": {
      "needs_background": "light"
     },
     "output_type": "display_data"
    }
   ],
   "source": [
    "ISC_EEG = np.genfromtxt(os.path.join('ISC_EEG.csv'),delimiter=',')\n",
    "ISC_EEG = np.array(ISC_EEG,dtype='float') # Convert into array\n",
    "\n",
    "ISC_EDA = np.genfromtxt(os.path.join('ISC_EDA.csv'),delimiter=',')\n",
    "ISC_EDA = np.array(ISC_EDA,dtype='float') # Convert into array\n",
    "\n",
    "ISC_IBI = np.genfromtxt(os.path.join('ISC_IBI.csv'),delimiter=',')\n",
    "ISC_IBI = np.array(ISC_IBI,dtype='float') # Convert into array\n",
    "\n",
    "N = len(ISC_EEG)\n",
    "\n",
    "# Seeing if negative data have same order of magnitude as positive data \n",
    "def orderOfMAgnitude(matrix):\n",
    "    for i in range(N):\n",
    "        matrix[i,i] = 0\n",
    "    neg = matrix[matrix<0]\n",
    "    plt.subplot(121)\n",
    "    plt.boxplot(neg)\n",
    "    pos = matrix[matrix>0]\n",
    "    plt.subplot(122)\n",
    "    plt.boxplot(pos)\n",
    "    \n",
    "# Remove outlier if we find one\n",
    "def removeOutlierArray(matrix,subject):\n",
    "    new_mat = np.copy(matrix)\n",
    "    new_mat = np.delete(new_mat, (subject), axis=0)\n",
    "    new_mat = np.delete(new_mat, (subject), axis=1)\n",
    "    \n",
    "    with open(os.path.join('ISC_truncated.csv'), 'w') as File:\n",
    "        writer = csv.writer(File)\n",
    "        writer.writerows(matrix)\n",
    "    \n",
    "    return new_mat\n",
    "\n",
    "def removeOutlierVector(matrix,subject):\n",
    "    new_mat = np.copy(matrix)\n",
    "    new_mat = np.delete(new_mat, (subject), axis=0)\n",
    "    return new_mat\n",
    "    \n",
    "orderOfMAgnitude(np.copy(ISC_EDA))\n",
    "    \n",
    "# Remove Inf in data\n",
    "for i in range(N):\n",
    "    ISC_IBI[i,i] = 1\n",
    "    ISC_EDA[i,i] = 1\n",
    "    \n",
    "#ISC_EDA = removeOutlierArray(ISC_EDA,12)\n",
    "#ISC_EDA = removeOutlierArray(ISC_EDA,20)\n",
    "\n",
    "matrix = ISC_EEG    \n",
    "\n",
    "plt.matshow(matrix, cmap=plt.cm.Blues)\n",
    "plt.title(\"Original dataset\")\n",
    "plt.colorbar()\n",
    "plt.show()"
   ]
  },
  {
   "cell_type": "code",
   "execution_count": 124,
   "metadata": {},
   "outputs": [],
   "source": [
    "condition = np.genfromtxt(os.path.join('condition.csv'),delimiter=',')\n",
    "condition = np.array(condition,dtype='int') # Convert into array\n",
    "'''\n",
    "# For EDA\n",
    "condition = removeOutlierVector(condition,12)\n",
    "condition = removeOutlierVector(condition,20)\n",
    "'''\n",
    "narrative = np.where(condition == 0)[0]\n",
    "stimulus = np.where(condition == 1)[0]"
   ]
  },
  {
   "cell_type": "code",
   "execution_count": 232,
   "metadata": {},
   "outputs": [
    {
     "name": "stdout",
     "output_type": "stream",
     "text": [
      "[[ 1.00000000e+00  3.17321860e-01  5.74883237e-01 -1.79277775e-01\n",
      "   2.78849947e-01  1.99895691e-01  2.56229841e-01  4.73253221e-01\n",
      "   1.25403424e-01  4.24175282e-01  1.30243298e-01  2.06805502e-01\n",
      "   2.06192275e-01  4.80555939e-01  7.20561087e-01  4.75273033e-01\n",
      "   3.90821355e-01  3.53625769e-02  3.70993468e-01  2.86598870e-02\n",
      "   3.16091377e-01  3.85615713e-02  2.68901744e-01  2.67206219e-02\n",
      "   2.21497512e-01  3.14770731e-01]\n",
      " [ 3.17321860e-01  1.00000000e+00  1.96863187e-01 -4.00783342e-02\n",
      "   1.34290925e-01  1.87135982e-02  2.75703627e-01  4.17804383e-01\n",
      "  -2.64425789e-02  7.98320990e-03  2.33738107e-01 -8.63801937e-02\n",
      "   3.55941557e-01  3.58641138e-01  5.05657698e-01  4.69253725e-01\n",
      "   4.32681482e-01 -3.48103444e-02  4.73448940e-01  2.24562838e-01\n",
      "   3.73187693e-01  6.70737136e-02  2.04157277e-01  4.80829550e-01\n",
      "   5.31829956e-01  5.34948383e-01]\n",
      " [ 5.74883237e-01  1.96863187e-01  1.00000000e+00 -9.94828989e-02\n",
      "   3.00192406e-01  4.45180023e-02  4.52597348e-01  4.97937610e-01\n",
      "   4.34970991e-01  2.72631880e-02  3.44250991e-01  1.72486449e-01\n",
      "   2.71047451e-01  1.19109678e-01  6.17589719e-01  5.18112561e-01\n",
      "   4.08287521e-01  3.29983054e-01  6.49772053e-01  2.62919401e-01\n",
      "   6.34995171e-01  3.47354384e-01  2.79522056e-01  1.68478321e-01\n",
      "   4.83718535e-01  1.61329042e-01]\n",
      " [-1.79277775e-01 -4.00783342e-02 -9.94828989e-02  1.00000000e+00\n",
      "   6.61077134e-03 -1.04304219e-01  1.28975744e-01  1.85465215e-01\n",
      "   6.40634971e-02 -5.54886131e-02  1.07589874e-01 -2.89665027e-02\n",
      "  -2.29783554e-01 -1.22234127e-01 -1.37872374e-01 -2.51948313e-02\n",
      "  -1.69599783e-01  2.19379651e-02 -2.45862667e-01 -1.09298535e-01\n",
      "   2.23152176e-03 -1.41622582e-01 -7.41983725e-02 -2.20624872e-01\n",
      "  -1.28841399e-01 -8.63919507e-02]\n",
      " [ 2.78849947e-01  1.34290925e-01  3.00192406e-01  6.61077134e-03\n",
      "   1.00000000e+00  2.73506206e-02 -1.00647366e-01  1.36348599e-01\n",
      "   3.01456575e-01  1.36290098e-01  9.90403165e-02  2.10220543e-01\n",
      "   2.76471444e-01  9.55243465e-02  5.60462097e-01  2.06968162e-01\n",
      "   3.12679744e-01  2.65475350e-01  1.66422995e-01 -7.59059564e-02\n",
      "   7.91783901e-02  2.71682828e-01  4.94894005e-01 -1.90743623e-03\n",
      "   1.54264456e-01 -5.68905958e-02]\n",
      " [ 1.99895691e-01  1.87135982e-02  4.45180023e-02 -1.04304219e-01\n",
      "   2.73506206e-02  1.00000000e+00  9.31226740e-02  6.00673534e-02\n",
      "   1.32568908e-01  5.19752898e-01  2.09414433e-01  1.92717089e-01\n",
      "   8.03037789e-02  8.23592862e-03  4.66280310e-01 -5.37874980e-02\n",
      "   1.67533310e-01  6.32210517e-01  1.67358353e-01  1.64757435e-01\n",
      "   2.31557647e-02  1.25808445e-01  3.16841016e-01  1.90683556e-01\n",
      "   3.62583136e-01 -4.65360117e-02]\n",
      " [ 2.56229841e-01  2.75703627e-01  4.52597348e-01  1.28975744e-01\n",
      "  -1.00647366e-01  9.31226740e-02  1.00000000e+00  9.17882739e-02\n",
      "   2.22367056e-01  1.96502630e-01  1.23611606e-01  2.60439353e-01\n",
      "   4.20986668e-01  3.39002594e-01  5.26326705e-01  3.20374549e-01\n",
      "   2.18839455e-01  1.04997137e-01  6.10011897e-01  1.11771597e-01\n",
      "   1.52227841e-01  7.63523050e-01  3.38434260e-01  4.84382160e-01\n",
      "   2.00773553e-01  4.68453478e-03]\n",
      " [ 4.73253221e-01  4.17804383e-01  4.97937610e-01  1.85465215e-01\n",
      "   1.36348599e-01  6.00673534e-02  9.17882739e-02  1.00000000e+00\n",
      "   1.39684320e-01  3.47159690e-01  1.44621790e-01  3.64095879e-01\n",
      "   3.96624097e-01  2.86795288e-01  4.85450156e-01  3.31219907e-01\n",
      "   4.56311172e-01  4.92474847e-01  1.84465710e-01 -8.77591253e-02\n",
      "   2.72422126e-01  3.61026933e-03  1.46206753e-01  4.26301615e-01\n",
      "   3.87512170e-01  1.06221789e-01]\n",
      " [ 1.25403424e-01 -2.64425789e-02  4.34970991e-01  6.40634971e-02\n",
      "   3.01456575e-01  1.32568908e-01  2.22367056e-01  1.39684320e-01\n",
      "   1.00000000e+00  8.10294557e-02  2.05659922e-01  3.47488973e-04\n",
      "   2.95210354e-01  4.06398062e-01  3.45589197e-01  1.83605672e-01\n",
      "   2.21766742e-02  1.45115694e-01  1.02296949e-01 -4.68995032e-02\n",
      "   2.02232042e-01 -2.93094070e-02  2.29598779e-01  2.73923976e-01\n",
      "   1.35146669e-01 -1.58979437e-02]\n",
      " [ 4.24175282e-01  7.98320990e-03  2.72631880e-02 -5.54886131e-02\n",
      "   1.36290098e-01  5.19752898e-01  1.96502630e-01  3.47159690e-01\n",
      "   8.10294557e-02  1.00000000e+00  5.78935950e-02  4.74444332e-01\n",
      "   1.29188277e-02  4.55964199e-01  3.75922507e-01 -8.20593810e-02\n",
      "   3.17333295e-01  5.47375212e-01  5.08308329e-01  2.72450957e-02\n",
      "   2.59397973e-01  1.38035537e-01  1.72837337e-01  2.28452916e-01\n",
      "   1.62859018e-01  1.31898764e-01]\n",
      " [ 1.30243298e-01  2.33738107e-01  3.44250991e-01  1.07589874e-01\n",
      "   9.90403165e-02  2.09414433e-01  1.23611606e-01  1.44621790e-01\n",
      "   2.05659922e-01  5.78935950e-02  1.00000000e+00  8.40234848e-02\n",
      "   1.45902818e-01  9.49812804e-02  3.30404316e-01  2.85410510e-01\n",
      "   1.45055016e-01 -5.30621866e-02  2.84053148e-01  8.57694192e-02\n",
      "   2.28295997e-01  2.19823781e-01  3.85626845e-01  4.97979977e-03\n",
      "   3.50251921e-01  1.85535198e-01]\n",
      " [ 2.06805502e-01 -8.63801937e-02  1.72486449e-01 -2.89665027e-02\n",
      "   2.10220543e-01  1.92717089e-01  2.60439353e-01  3.64095879e-01\n",
      "   3.47488973e-04  4.74444332e-01  8.40234848e-02  1.00000000e+00\n",
      "   3.34216266e-01  3.20722653e-01  3.39635075e-01  3.00507044e-01\n",
      "   2.17347540e-01  4.85976515e-01  5.72743688e-01  3.01233122e-02\n",
      "   3.07017941e-01  3.41750892e-01  1.83948558e-01  1.44192021e-01\n",
      "   2.15340976e-01  2.92413378e-01]\n",
      " [ 2.06192275e-01  3.55941557e-01  2.71047451e-01 -2.29783554e-01\n",
      "   2.76471444e-01  8.03037789e-02  4.20986668e-01  3.96624097e-01\n",
      "   2.95210354e-01  1.29188277e-02  1.45902818e-01  3.34216266e-01\n",
      "   1.00000000e+00 -1.45074786e-01  8.99485822e-01  6.06409274e-01\n",
      "   6.26119129e-01  4.00076820e-01  6.60716873e-01  2.88166186e-01\n",
      "   7.83321550e-01  8.36820779e-01  2.28222244e-01  6.86464699e-01\n",
      "   4.89854160e-01 -9.02503065e-02]\n",
      " [ 4.80555939e-01  3.58641138e-01  1.19109678e-01 -1.22234127e-01\n",
      "   9.55243465e-02  8.23592862e-03  3.39002594e-01  2.86795288e-01\n",
      "   4.06398062e-01  4.55964199e-01  9.49812804e-02  3.20722653e-01\n",
      "  -1.45074786e-01  1.00000000e+00  3.50691824e-01 -8.59861545e-02\n",
      "   4.36717593e-01  5.18742253e-01  5.24751896e-01 -6.82460987e-02\n",
      "   1.39902294e-01 -6.68128630e-03  4.32771175e-01  4.74058908e-01\n",
      "   3.28004154e-01  1.88514755e-01]\n",
      " [ 7.20561087e-01  5.05657698e-01  6.17589719e-01 -1.37872374e-01\n",
      "   5.60462097e-01  4.66280310e-01  5.26326705e-01  4.85450156e-01\n",
      "   3.45589197e-01  3.75922507e-01  3.30404316e-01  3.39635075e-01\n",
      "   8.99485822e-01  3.50691824e-01  1.00000000e+00  5.33953353e-01\n",
      "   7.75134458e-01  3.59736657e-01  6.45608586e-01  2.86923306e-01\n",
      "   1.00000000e+00  4.77278469e-01  3.82197046e-01  5.51536504e-01\n",
      "   7.13417182e-01 -8.50261674e-02]\n",
      " [ 4.75273033e-01  4.69253725e-01  5.18112561e-01 -2.51948313e-02\n",
      "   2.06968162e-01 -5.37874980e-02  3.20374549e-01  3.31219907e-01\n",
      "   1.83605672e-01 -8.20593810e-02  2.85410510e-01  3.00507044e-01\n",
      "   6.06409274e-01 -8.59861545e-02  5.33953353e-01  1.00000000e+00\n",
      "   1.14107398e-01 -7.87050552e-02  4.48522503e-01  3.84012305e-01\n",
      "   3.36187432e-01  5.35422600e-01  7.79174713e-02  2.85464050e-01\n",
      "   2.50517792e-01  6.69381837e-02]\n",
      " [ 3.90821355e-01  4.32681482e-01  4.08287521e-01 -1.69599783e-01\n",
      "   3.12679744e-01  1.67533310e-01  2.18839455e-01  4.56311172e-01\n",
      "   2.21766742e-02  3.17333295e-01  1.45055016e-01  2.17347540e-01\n",
      "   6.26119129e-01  4.36717593e-01  7.75134458e-01  1.14107398e-01\n",
      "   1.00000000e+00  3.55917627e-01  7.60726131e-01  2.33517906e-02\n",
      "   6.03570307e-01  3.09112441e-01  3.69468226e-01  3.47740992e-01\n",
      "   4.97546571e-01  4.19965113e-01]\n",
      " [ 3.53625769e-02 -3.48103444e-02  3.29983054e-01  2.19379651e-02\n",
      "   2.65475350e-01  6.32210517e-01  1.04997137e-01  4.92474847e-01\n",
      "   1.45115694e-01  5.47375212e-01 -5.30621866e-02  4.85976515e-01\n",
      "   4.00076820e-01  5.18742253e-01  3.59736657e-01 -7.87050552e-02\n",
      "   3.55917627e-01  1.00000000e+00  3.47922304e-01  9.09447455e-02\n",
      "   6.03163605e-01  2.63223087e-01  5.02881786e-01  2.69286755e-02\n",
      "   4.70741223e-01  1.46138811e-01]\n",
      " [ 3.70993468e-01  4.73448940e-01  6.49772053e-01 -2.45862667e-01\n",
      "   1.66422995e-01  1.67358353e-01  6.10011897e-01  1.84465710e-01\n",
      "   1.02296949e-01  5.08308329e-01  2.84053148e-01  5.72743688e-01\n",
      "   6.60716873e-01  5.24751896e-01  6.45608586e-01  4.48522503e-01\n",
      "   7.60726131e-01  3.47922304e-01  1.00000000e+00  3.48082095e-01\n",
      "   6.57470341e-01  3.76761823e-01  2.41243064e-01  4.87590163e-01\n",
      "   3.64288228e-01  3.81227327e-01]\n",
      " [ 2.86598870e-02  2.24562838e-01  2.62919401e-01 -1.09298535e-01\n",
      "  -7.59059564e-02  1.64757435e-01  1.11771597e-01 -8.77591253e-02\n",
      "  -4.68995032e-02  2.72450957e-02  8.57694192e-02  3.01233122e-02\n",
      "   2.88166186e-01 -6.82460987e-02  2.86923306e-01  3.84012305e-01\n",
      "   2.33517906e-02  9.09447455e-02  3.48082095e-01  1.00000000e+00\n",
      "   1.12090189e-01  3.38906135e-01  1.26011761e-01  2.46099588e-01\n",
      "   2.66705223e-01  3.22867899e-01]\n",
      " [ 3.16091377e-01  3.73187693e-01  6.34995171e-01  2.23152176e-03\n",
      "   7.91783901e-02  2.31557647e-02  1.52227841e-01  2.72422126e-01\n",
      "   2.02232042e-01  2.59397973e-01  2.28295997e-01  3.07017941e-01\n",
      "   7.83321550e-01  1.39902294e-01  1.00000000e+00  3.36187432e-01\n",
      "   6.03570307e-01  6.03163605e-01  6.57470341e-01  1.12090189e-01\n",
      "   1.00000000e+00  4.68934271e-01  4.45919084e-01  5.02154160e-01\n",
      "   5.69494102e-01  2.10971321e-02]\n",
      " [ 3.85615713e-02  6.70737136e-02  3.47354384e-01 -1.41622582e-01\n",
      "   2.71682828e-01  1.25808445e-01  7.63523050e-01  3.61026933e-03\n",
      "  -2.93094070e-02  1.38035537e-01  2.19823781e-01  3.41750892e-01\n",
      "   8.36820779e-01 -6.68128630e-03  4.77278469e-01  5.35422600e-01\n",
      "   3.09112441e-01  2.63223087e-01  3.76761823e-01  3.38906135e-01\n",
      "   4.68934271e-01  1.00000000e+00  9.89119580e-02  6.11544765e-01\n",
      "   6.56113422e-01  1.34881616e-01]\n",
      " [ 2.68901744e-01  2.04157277e-01  2.79522056e-01 -7.41983725e-02\n",
      "   4.94894005e-01  3.16841016e-01  3.38434260e-01  1.46206753e-01\n",
      "   2.29598779e-01  1.72837337e-01  3.85626845e-01  1.83948558e-01\n",
      "   2.28222244e-01  4.32771175e-01  3.82197046e-01  7.79174713e-02\n",
      "   3.69468226e-01  5.02881786e-01  2.41243064e-01  1.26011761e-01\n",
      "   4.45919084e-01  9.89119580e-02  1.00000000e+00 -3.85034845e-02\n",
      "   3.36102826e-01  1.01696655e-01]\n",
      " [ 2.67206219e-02  4.80829550e-01  1.68478321e-01 -2.20624872e-01\n",
      "  -1.90743623e-03  1.90683556e-01  4.84382160e-01  4.26301615e-01\n",
      "   2.73923976e-01  2.28452916e-01  4.97979977e-03  1.44192021e-01\n",
      "   6.86464699e-01  4.74058908e-01  5.51536504e-01  2.85464050e-01\n",
      "   3.47740992e-01  2.69286755e-02  4.87590163e-01  2.46099588e-01\n",
      "   5.02154160e-01  6.11544765e-01 -3.85034845e-02  1.00000000e+00\n",
      "   4.33975106e-01  8.25909146e-02]\n",
      " [ 2.21497512e-01  5.31829956e-01  4.83718535e-01 -1.28841399e-01\n",
      "   1.54264456e-01  3.62583136e-01  2.00773553e-01  3.87512170e-01\n",
      "   1.35146669e-01  1.62859018e-01  3.50251921e-01  2.15340976e-01\n",
      "   4.89854160e-01  3.28004154e-01  7.13417182e-01  2.50517792e-01\n",
      "   4.97546571e-01  4.70741223e-01  3.64288228e-01  2.66705223e-01\n",
      "   5.69494102e-01  6.56113422e-01  3.36102826e-01  4.33975106e-01\n",
      "   1.00000000e+00 -5.32679956e-02]\n",
      " [ 3.14770731e-01  5.34948383e-01  1.61329042e-01 -8.63919507e-02\n",
      "  -5.68905958e-02 -4.65360117e-02  4.68453478e-03  1.06221789e-01\n",
      "  -1.58979437e-02  1.31898764e-01  1.85535198e-01  2.92413378e-01\n",
      "  -9.02503065e-02  1.88514755e-01 -8.50261674e-02  6.69381837e-02\n",
      "   4.19965113e-01  1.46138811e-01  3.81227327e-01  3.22867899e-01\n",
      "   2.10971321e-02  1.34881616e-01  1.01696655e-01  8.25909146e-02\n",
      "  -5.32679956e-02  1.00000000e+00]]\n"
     ]
    },
    {
     "data": {
      "text/plain": [
       "'\\n# Normalise data\\nfor i in range(len(matrix)):\\n    matrix[:,i] = (matrix[:,i] - np.mean(matrix[:,i])) / np.std(matrix[:,i])\\n'"
      ]
     },
     "execution_count": 232,
     "metadata": {},
     "output_type": "execute_result"
    }
   ],
   "source": [
    "# Transform matrix into correlation matrix\n",
    "#if ((matrix == ISC_EEG).all()):\n",
    "if (False):\n",
    "    matrix_norm = np.copy(matrix) / 3\n",
    "    matrix_cheat = np.copy(matrix)\n",
    "    for i in range(len(matrix)):\n",
    "        matrix_cheat[i,i] = 0.05\n",
    "else:\n",
    "    matrix_norm = np.copy(matrix)\n",
    "    for i in range(len(matrix)):\n",
    "        matrix_norm[i,i] = 0\n",
    "    maxi = np.max(abs(matrix_norm))\n",
    "    for i in range(len(matrix)):\n",
    "        matrix_norm[i,i] = maxi\n",
    "\n",
    "# Normalise max value to 1\n",
    "matrix_norm = matrix_norm / np.max(abs(matrix_norm))\n",
    "        \n",
    "# Compute distance matrix\n",
    "matrix_dist = np.sqrt(2*N*(1-matrix_norm))\n",
    "#matrix_dist = 1-matrix_norm\n",
    "\n",
    "'''\n",
    "# Normalise data\n",
    "for i in range(len(matrix)):\n",
    "    matrix[:,i] = (matrix[:,i] - np.mean(matrix[:,i])) / np.std(matrix[:,i])\n",
    "''' "
   ]
  },
  {
   "cell_type": "markdown",
   "metadata": {},
   "source": [
    "## Bloc modelling / Bi-clustering"
   ]
  },
  {
   "cell_type": "code",
   "execution_count": 233,
   "metadata": {},
   "outputs": [
    {
     "data": {
      "image/png": "[encoded data removed]",
      "text/plain": [
       "<Figure size 288x288 with 2 Axes>"
      ]
     },
     "metadata": {
      "needs_background": "light"
     },
     "output_type": "display_data"
    }
   ],
   "source": [
    "matrix_cheat = np.copy(matrix)\n",
    "for i in range(len(matrix)):\n",
    "    matrix_cheat[i,i] = 0.05\n",
    "        \n",
    "plt.matshow(matrix_cheat, cmap=plt.cm.Blues)\n",
    "plt.title(\"Cheated dataset\")\n",
    "plt.colorbar()\n",
    "plt.show()"
   ]
  },
  {
   "cell_type": "code",
   "execution_count": 234,
   "metadata": {},
   "outputs": [
    {
     "data": {
      "image/png": "[encoded data removed]",
      "text/plain": [
       "<Figure size 288x288 with 2 Axes>"
      ]
     },
     "metadata": {
      "needs_background": "light"
     },
     "output_type": "display_data"
    }
   ],
   "source": [
    "model = SpectralCoclustering(n_clusters=2, random_state=0)\n",
    "model.fit(matrix_cheat)\n",
    "#score = consensus_score(model.biclusters_,\n",
    "#                        (rows[:, row_idx], columns[:, col_idx]))\n",
    "\n",
    "#print(\"consensus score: {:.3f}\".format(score))\n",
    "\n",
    "fit_data = matrix_cheat[np.argsort(model.row_labels_)]\n",
    "fit_data = fit_data[:, np.argsort(model.column_labels_)]\n",
    "\n",
    "plt.matshow(fit_data, cmap=plt.cm.Blues)\n",
    "plt.title(\"After biclustering; rearranged to show biclusters\")\n",
    "plt.colorbar()\n",
    "plt.show()"
   ]
  },
  {
   "cell_type": "code",
   "execution_count": 235,
   "metadata": {},
   "outputs": [
    {
     "data": {
      "image/png": "[encoded data removed]",
      "text/plain": [
       "<Figure size 288x288 with 2 Axes>"
      ]
     },
     "metadata": {
      "needs_background": "light"
     },
     "output_type": "display_data"
    }
   ],
   "source": [
    "decorr = np.linalg.inv(matrix)\n",
    "\n",
    "plt.matshow(decorr, cmap=plt.cm.Blues)\n",
    "plt.colorbar()\n",
    "plt.show()"
   ]
  },
  {
   "cell_type": "markdown",
   "metadata": {},
   "source": [
    "## Hierarchical clustering"
   ]
  },
  {
   "cell_type": "markdown",
   "metadata": {},
   "source": [
    "### Hierarchical clustering based on correlation (cheating on the diagonal)"
   ]
  },
  {
   "cell_type": "code",
   "execution_count": 236,
   "metadata": {},
   "outputs": [
    {
     "data": {
      "image/png": "[encoded data removed]",
      "text/plain": [
       "<Figure size 432x288 with 1 Axes>"
      ]
     },
     "metadata": {
      "needs_background": "light"
     },
     "output_type": "display_data"
    }
   ],
   "source": [
    "from scipy.cluster.hierarchy import dendrogram, linkage\n",
    "\n",
    "for i in range(len(matrix)):\n",
    "    matrix_cheat[i,i] = 1\n",
    "    \n",
    "matrix_norm = matrix_cheat / 1\n",
    "Z=linkage(matrix_norm, 'single', 'correlation')\n",
    "dendrogram(Z, color_threshold=0)\n",
    "plt.show()"
   ]
  },
  {
   "cell_type": "code",
   "execution_count": 237,
   "metadata": {},
   "outputs": [
    {
     "name": "stdout",
     "output_type": "stream",
     "text": [
      "group 0 :  [ 0  2  4  5  7  9 11 13 16 17 18 22 25]\n",
      "group 1 :  [ 1  3  6  8 10 12 14 15 19 20 21 23 24]\n"
     ]
    }
   ],
   "source": [
    "print(\"group 0 : \",narrative)\n",
    "print(\"group 1 : \",stimulus)"
   ]
  },
  {
   "cell_type": "markdown",
   "metadata": {},
   "source": [
    "### Hierarchical clustering based on euclidean distance"
   ]
  },
  {
   "cell_type": "code",
   "execution_count": 238,
   "metadata": {},
   "outputs": [
    {
     "data": {
      "image/png": "[encoded data removed]",
      "text/plain": [
       "<Figure size 288x288 with 2 Axes>"
      ]
     },
     "metadata": {
      "needs_background": "light"
     },
     "output_type": "display_data"
    }
   ],
   "source": [
    "plt.matshow(matrix_dist, cmap=plt.cm.Blues)\n",
    "plt.title(\"Euclidean distance\")\n",
    "plt.colorbar()\n",
    "plt.show()"
   ]
  },
  {
   "cell_type": "code",
   "execution_count": 239,
   "metadata": {},
   "outputs": [
    {
     "name": "stderr",
     "output_type": "stream",
     "text": [
      "//anaconda3/lib/python3.7/site-packages/ipykernel_launcher.py:3: ClusterWarning: scipy.cluster: The symmetric non-negative hollow observation matrix looks suspiciously like an uncondensed distance matrix\n",
      "  This is separate from the ipykernel package so we can avoid doing imports until\n"
     ]
    },
    {
     "data": {
      "image/png": "[encoded data removed]",
      "text/plain": [
       "<Figure size 432x288 with 1 Axes>"
      ]
     },
     "metadata": {
      "needs_background": "light"
     },
     "output_type": "display_data"
    }
   ],
   "source": [
    "from scipy.cluster.hierarchy import dendrogram, linkage\n",
    "\n",
    "Z=linkage(matrix_dist, 'single', 'euclidean')\n",
    "dendrogram(Z, color_threshold=0)\n",
    "plt.show()"
   ]
  },
  {
   "cell_type": "code",
   "execution_count": 240,
   "metadata": {},
   "outputs": [
    {
     "name": "stdout",
     "output_type": "stream",
     "text": [
      "group 0 :  [ 0  2  4  5  7  9 11 13 16 17 18 22 25]\n",
      "group 1 :  [ 1  3  6  8 10 12 14 15 19 20 21 23 24]\n"
     ]
    }
   ],
   "source": [
    "print(\"group 0 : \",narrative)\n",
    "print(\"group 1 : \",stimulus)"
   ]
  },
  {
   "cell_type": "markdown",
   "metadata": {},
   "source": [
    "## Multi Dimensionnal Scaling"
   ]
  },
  {
   "cell_type": "code",
   "execution_count": 241,
   "metadata": {},
   "outputs": [],
   "source": [
    "\"\"\"\n",
    "Multi-dimensional Scaling (MDS)\n",
    "\"\"\"\n",
    "\n",
    "# author: Nelle Varoquaux <nelle.varoquaux@gmail.com>\n",
    "# License: BSD\n",
    "\n",
    "import numpy as np\n",
    "\n",
    "import warnings\n",
    "\n",
    "from sklearn.base import BaseEstimator\n",
    "from sklearn.metrics import euclidean_distances\n",
    "from sklearn.utils import check_random_state, check_array, check_symmetric\n",
    "from sklearn.externals.joblib import Parallel\n",
    "from sklearn.externals.joblib import delayed\n",
    "from sklearn.isotonic import IsotonicRegression\n",
    "\n",
    "\n",
    "def _smacof_single(dissimilarities, metric=True, n_components=2, init=None,\n",
    "                   max_iter=300, verbose=0, eps=1e-3, random_state=None,\n",
    "                   normalize=False):\n",
    "    \"\"\"Computes multidimensional scaling using SMACOF algorithm\n",
    "    Parameters\n",
    "    ----------\n",
    "    dissimilarities : ndarray, shape (n_samples, n_samples)\n",
    "        Pairwise dissimilarities between the points. Must be symmetric.\n",
    "    metric : boolean, optional, default: True\n",
    "        Compute metric or nonmetric SMACOF algorithm.\n",
    "    n_components : int, optional, default: 2\n",
    "        Number of dimensions in which to immerse the dissimilarities. If an\n",
    "        ``init`` array is provided, this option is overridden and the shape of\n",
    "        ``init`` is used to determine the dimensionality of the embedding\n",
    "        space.\n",
    "    init : ndarray, shape (n_samples, n_components), optional, default: None\n",
    "        Starting configuration of the embedding to initialize the algorithm. By\n",
    "        default, the algorithm is initialized with a randomly chosen array.\n",
    "    max_iter : int, optional, default: 300\n",
    "        Maximum number of iterations of the SMACOF algorithm for a single run.\n",
    "    verbose : int, optional, default: 0\n",
    "        Level of verbosity.\n",
    "    eps : float, optional, default: 1e-3\n",
    "        Relative tolerance with respect to stress at which to declare\n",
    "        convergence.\n",
    "    random_state : int, RandomState instance or None, optional, default: None\n",
    "        The generator used to initialize the centers.  If int, random_state is\n",
    "        the seed used by the random number generator; If RandomState instance,\n",
    "        random_state is the random number generator; If None, the random number\n",
    "        generator is the RandomState instance used by `np.random`.\n",
    "    normalize : boolean, optional, default: False\n",
    "        Whether use and return normed stress value (Stress-1) instead of raw\n",
    "        stress calculated by default.\n",
    "    Returns\n",
    "    -------\n",
    "    X : ndarray, shape (n_samples, n_components)\n",
    "        Coordinates of the points in a ``n_components``-space.\n",
    "    stress : float\n",
    "        The final value of the stress. By default, sum of squared distance\n",
    "        of the disparities and the distances for all constrained points.\n",
    "        If normalize is set to True, returns Stress-1 (according to\n",
    "        Kruskal (1964, p. 3) value 0 indicates \"perfect\" fit, 0.025\n",
    "        excellent, 0.05 good, 0.1 fair, and 0.2 poor).\n",
    "    n_iter : int\n",
    "        The number of iterations corresponding to the best stress.\n",
    "    \"\"\"\n",
    "    dissimilarities = check_symmetric(dissimilarities, raise_exception=True)\n",
    "\n",
    "    n_samples = dissimilarities.shape[0]\n",
    "    random_state = check_random_state(random_state)\n",
    "\n",
    "    sim_flat = ((1 - np.tri(n_samples)) * dissimilarities).ravel()\n",
    "    sim_flat_w = sim_flat[sim_flat != 0]\n",
    "    if init is None:\n",
    "        # Randomly choose initial configuration\n",
    "        X = random_state.rand(n_samples * n_components)\n",
    "        X = X.reshape((n_samples, n_components))\n",
    "    else:\n",
    "        # overrides the parameter p\n",
    "        n_components = init.shape[1]\n",
    "        if n_samples != init.shape[0]:\n",
    "            raise ValueError(\"init matrix should be of shape (%d, %d)\" %\n",
    "                             (n_samples, n_components))\n",
    "        X = init\n",
    "\n",
    "    old_stress = None\n",
    "    ir = IsotonicRegression()\n",
    "    for it in range(max_iter):\n",
    "        # Compute distance and monotonic regression\n",
    "        dis = euclidean_distances(X)\n",
    "\n",
    "        if metric:\n",
    "            disparities = dissimilarities\n",
    "        else:\n",
    "            dis_flat = dis.ravel()\n",
    "            # dissimilarities with 0 are considered as missing values\n",
    "            dis_flat_w = dis_flat[sim_flat != 0]\n",
    "\n",
    "            # Compute the disparities using a monotonic regression\n",
    "            disparities_flat = ir.fit_transform(sim_flat_w, dis_flat_w)\n",
    "            disparities = dis_flat.copy()\n",
    "            disparities[sim_flat != 0] = disparities_flat\n",
    "            disparities = disparities.reshape((n_samples, n_samples))\n",
    "            disparities *= np.sqrt((n_samples * (n_samples - 1) / 2) /\n",
    "                                   (disparities ** 2).sum())\n",
    "\n",
    "        # Compute raw stress\n",
    "        stress = ((dis.ravel() - disparities.ravel()) ** 2).sum() / 2\n",
    "\n",
    "        # Use Stress-1\n",
    "        if normalize:\n",
    "            stress = np.sqrt(stress /\n",
    "                             ((disparities.ravel() ** 2).sum() / 2))\n",
    "\n",
    "        # Update X using the Guttman transform\n",
    "        dis[dis == 0] = 1e-5\n",
    "        ratio = disparities / dis\n",
    "        B = - ratio\n",
    "        B[np.arange(len(B)), np.arange(len(B))] += ratio.sum(axis=1)\n",
    "        X = 1. / n_samples * np.dot(B, X)\n",
    "\n",
    "        dis = np.sqrt((X ** 2).sum(axis=1)).sum()\n",
    "        if verbose >= 2:\n",
    "            print('it: %d, stress %s' % (it, stress))\n",
    "        if old_stress is not None:\n",
    "            if(old_stress - stress / dis) < eps:\n",
    "                if verbose:\n",
    "                    print('breaking at iteration %d with stress %s' % (it,\n",
    "                                                                       stress))\n",
    "                break\n",
    "        old_stress = stress / dis\n",
    "\n",
    "    return X, stress, it + 1\n",
    "\n",
    "\n",
    "def smacof(dissimilarities, metric=True, n_components=2, init=None, n_init=8,\n",
    "           n_jobs=1, max_iter=300, verbose=0, eps=1e-3, random_state=None,\n",
    "           return_n_iter=False, normalize=False):\n",
    "    \"\"\"Computes multidimensional scaling using the SMACOF algorithm.\n",
    "    The SMACOF (Scaling by MAjorizing a COmplicated Function) algorithm is a\n",
    "    multidimensional scaling algorithm which minimizes an objective function\n",
    "    (the *stress*) using a majorization technique. Stress majorization, also\n",
    "    known as the Guttman Transform, guarantees a monotone convergence of\n",
    "    stress, and is more powerful than traditional techniques such as gradient\n",
    "    descent.\n",
    "    The SMACOF algorithm for metric MDS can summarized by the following steps:\n",
    "    1. Set an initial start configuration, randomly or not.\n",
    "    2. Compute the stress\n",
    "    3. Compute the Guttman Transform\n",
    "    4. Iterate 2 and 3 until convergence.\n",
    "    The nonmetric algorithm adds a monotonic regression step before computing\n",
    "    the stress.\n",
    "    Parameters\n",
    "    ----------\n",
    "    dissimilarities : ndarray, shape (n_samples, n_samples)\n",
    "        Pairwise dissimilarities between the points. Must be symmetric.\n",
    "    metric : boolean, optional, default: True\n",
    "        Compute metric or nonmetric SMACOF algorithm.\n",
    "    n_components : int, optional, default: 2\n",
    "        Number of dimensions in which to immerse the dissimilarities. If an\n",
    "        ``init`` array is provided, this option is overridden and the shape of\n",
    "        ``init`` is used to determine the dimensionality of the embedding\n",
    "        space.\n",
    "    init : ndarray, shape (n_samples, n_components), optional, default: None\n",
    "        Starting configuration of the embedding to initialize the algorithm. By\n",
    "        default, the algorithm is initialized with a randomly chosen array.\n",
    "    n_init : int, optional, default: 8\n",
    "        Number of times the SMACOF algorithm will be run with different\n",
    "        initializations. The final results will be the best output of the runs,\n",
    "        determined by the run with the smallest final stress. If ``init`` is\n",
    "        provided, this option is overridden and a single run is performed.\n",
    "    n_jobs : int, optional, default: 1\n",
    "        The number of jobs to use for the computation. If multiple\n",
    "        initializations are used (``n_init``), each run of the algorithm is\n",
    "        computed in parallel.\n",
    "        If -1 all CPUs are used. If 1 is given, no parallel computing code is\n",
    "        used at all, which is useful for debugging. For ``n_jobs`` below -1,\n",
    "        (``n_cpus + 1 + n_jobs``) are used. Thus for ``n_jobs = -2``, all CPUs\n",
    "        but one are used.\n",
    "    max_iter : int, optional, default: 300\n",
    "        Maximum number of iterations of the SMACOF algorithm for a single run.\n",
    "    verbose : int, optional, default: 0\n",
    "        Level of verbosity.\n",
    "    eps : float, optional, default: 1e-3\n",
    "        Relative tolerance with respect to stress at which to declare\n",
    "        convergence.\n",
    "    random_state : int, RandomState instance or None, optional, default: None\n",
    "        The generator used to initialize the centers.  If int, random_state is\n",
    "        the seed used by the random number generator; If RandomState instance,\n",
    "        random_state is the random number generator; If None, the random number\n",
    "        generator is the RandomState instance used by `np.random`.\n",
    "    return_n_iter : bool, optional, default: False\n",
    "        Whether or not to return the number of iterations.\n",
    "    normalize : boolean, optional, default: False\n",
    "        Whether use and return normed stress value (Stress-1) instead of raw\n",
    "        stress calculated by default.\n",
    "    Returns\n",
    "    -------\n",
    "    X : ndarray, shape (n_samples, n_components)\n",
    "        Coordinates of the points in a ``n_components``-space.\n",
    "    stress : float\n",
    "        The final value of the stress. By default, sum of squared distance\n",
    "        of the disparities and the distances for all constrained points.\n",
    "        If normalize is set to True, returns Stress-1 (according to\n",
    "        Kruskal (1964, p. 3) value 0 indicates \"perfect\" fit, 0.025\n",
    "        excellent, 0.05 good, 0.1 fair, and 0.2 poor).\n",
    "    n_iter : int\n",
    "        The number of iterations corresponding to the best stress. Returned\n",
    "        only if ``return_n_iter`` is set to ``True``.\n",
    "    Notes\n",
    "    -----\n",
    "    \"Modern Multidimensional Scaling - Theory and Applications\" Borg, I.;\n",
    "    Groenen P. Springer Series in Statistics (1997)\n",
    "    \"Nonmetric multidimensional scaling: a numerical method\" Kruskal, J.\n",
    "    Psychometrika, 29 (1964)\n",
    "    \"Multidimensional scaling by optimizing goodness of fit to a nonmetric\n",
    "    hypothesis\" Kruskal, J. Psychometrika, 29, (1964)\n",
    "    \"\"\"\n",
    "\n",
    "    dissimilarities = check_array(dissimilarities)\n",
    "    random_state = check_random_state(random_state)\n",
    "\n",
    "    if hasattr(init, '__array__'):\n",
    "        init = np.asarray(init).copy()\n",
    "        if not n_init == 1:\n",
    "            warnings.warn(\n",
    "                'Explicit initial positions passed: '\n",
    "                'performing only one init of the MDS instead of %d'\n",
    "                % n_init)\n",
    "            n_init = 1\n",
    "\n",
    "    best_pos, best_stress = None, None\n",
    "\n",
    "    if n_jobs == 1:\n",
    "        for it in range(n_init):\n",
    "            pos, stress, n_iter_ = _smacof_single(\n",
    "                dissimilarities, metric=metric,\n",
    "                n_components=n_components, init=init,\n",
    "                max_iter=max_iter, verbose=verbose,\n",
    "                eps=eps, random_state=random_state,\n",
    "                normalize=normalize)\n",
    "            if best_stress is None or stress < best_stress:\n",
    "                best_stress = stress\n",
    "                best_pos = pos.copy()\n",
    "                best_iter = n_iter_\n",
    "    else:\n",
    "        seeds = random_state.randint(np.iinfo(np.int32).max, size=n_init)\n",
    "        results = Parallel(n_jobs=n_jobs, verbose=max(verbose - 1, 0))(\n",
    "            delayed(_smacof_single)(\n",
    "                dissimilarities, metric=metric, n_components=n_components,\n",
    "                init=init, max_iter=max_iter, verbose=verbose, eps=eps,\n",
    "                random_state=seed, normalize=normalize)\n",
    "            for seed in seeds)\n",
    "        positions, stress, n_iters = zip(*results)\n",
    "        best = np.argmin(stress)\n",
    "        best_stress = stress[best]\n",
    "        best_pos = positions[best]\n",
    "        best_iter = n_iters[best]\n",
    "\n",
    "    if return_n_iter:\n",
    "        return best_pos, best_stress, best_iter\n",
    "    else:\n",
    "        return best_pos, best_stress\n",
    "\n",
    "\n",
    "class MDS(BaseEstimator):\n",
    "    \"\"\"Multidimensional scaling\n",
    "    Read more in the :ref:`User Guide <multidimensional_scaling>`.\n",
    "    Parameters\n",
    "    ----------\n",
    "    n_components : int, optional, default: 2\n",
    "        Number of dimensions in which to immerse the dissimilarities.\n",
    "    metric : boolean, optional, default: True\n",
    "        If ``True``, perform metric MDS; otherwise, perform nonmetric MDS.\n",
    "    n_init : int, optional, default: 4\n",
    "        Number of times the SMACOF algorithm will be run with different\n",
    "        initializations. The final results will be the best output of the runs,\n",
    "        determined by the run with the smallest final stress.\n",
    "    max_iter : int, optional, default: 300\n",
    "        Maximum number of iterations of the SMACOF algorithm for a single run.\n",
    "    verbose : int, optional, default: 0\n",
    "        Level of verbosity.\n",
    "    eps : float, optional, default: 1e-3\n",
    "        Relative tolerance with respect to stress at which to declare\n",
    "        convergence.\n",
    "    n_jobs : int, optional, default: 1\n",
    "        The number of jobs to use for the computation. If multiple\n",
    "        initializations are used (``n_init``), each run of the algorithm is\n",
    "        computed in parallel.\n",
    "        If -1 all CPUs are used. If 1 is given, no parallel computing code is\n",
    "        used at all, which is useful for debugging. For ``n_jobs`` below -1,\n",
    "        (``n_cpus + 1 + n_jobs``) are used. Thus for ``n_jobs = -2``, all CPUs\n",
    "        but one are used.\n",
    "    random_state : int, RandomState instance or None, optional, default: None\n",
    "        The generator used to initialize the centers.  If int, random_state is\n",
    "        the seed used by the random number generator; If RandomState instance,\n",
    "        random_state is the random number generator; If None, the random number\n",
    "        generator is the RandomState instance used by `np.random`.\n",
    "    dissimilarity : 'euclidean' | 'precomputed', optional, default: 'euclidean'\n",
    "        Dissimilarity measure to use:\n",
    "        - 'euclidean':\n",
    "            Pairwise Euclidean distances between points in the dataset.\n",
    "        - 'precomputed':\n",
    "            Pre-computed dissimilarities are passed directly to ``fit`` and\n",
    "            ``fit_transform``.\n",
    "    normalize : boolean, optional, default: False\n",
    "        Whether use and return normed stress value (Stress-1) instead of raw\n",
    "        stress calculated by default.\n",
    "    Attributes\n",
    "    ----------\n",
    "    embedding_ : array-like, shape (n_components, n_samples)\n",
    "        Stores the position of the dataset in the embedding space.\n",
    "    stress_ : float\n",
    "        The final value of the stress. By default, sum of squared distance\n",
    "        of the disparities and the distances for all constrained points.\n",
    "        If normalize is set to True, returns Stress-1 (according to\n",
    "        Kruskal (1964, p. 3) value 0 indicates \"perfect\" fit, 0.025\n",
    "        excellent, 0.05 good, 0.1 fair, and 0.2 poor).\n",
    "    References\n",
    "    ----------\n",
    "    \"Modern Multidimensional Scaling - Theory and Applications\" Borg, I.;\n",
    "    Groenen P. Springer Series in Statistics (1997)\n",
    "    \"Nonmetric multidimensional scaling: a numerical method\" Kruskal, J.\n",
    "    Psychometrika, 29 (1964)\n",
    "    \"Multidimensional scaling by optimizing goodness of fit to a nonmetric\n",
    "    hypothesis\" Kruskal, J. Psychometrika, 29, (1964)\n",
    "    \"\"\"\n",
    "    def __init__(self, n_components=2, metric=True, n_init=4,\n",
    "                 max_iter=300, verbose=0, eps=1e-3, n_jobs=1,\n",
    "                 random_state=None, dissimilarity=\"euclidean\",normalize = False):\n",
    "        self.n_components = n_components\n",
    "        self.dissimilarity = dissimilarity\n",
    "        self.metric = metric\n",
    "        self.n_init = n_init\n",
    "        self.max_iter = max_iter\n",
    "        self.eps = eps\n",
    "        self.verbose = verbose\n",
    "        self.n_jobs = n_jobs\n",
    "        self.random_state = random_state\n",
    "        self.normalize = normalize\n",
    "\n",
    "    @property\n",
    "    def _pairwise(self):\n",
    "        return self.kernel == \"precomputed\"\n",
    "\n",
    "    def fit(self, X, y=None, init=None):\n",
    "        \"\"\"\n",
    "        Computes the position of the points in the embedding space\n",
    "        Parameters\n",
    "        ----------\n",
    "        X : array, shape (n_samples, n_features) or (n_samples, n_samples)\n",
    "            Input data. If ``dissimilarity=='precomputed'``, the input should\n",
    "            be the dissimilarity matrix.\n",
    "        y: Ignored\n",
    "        init : ndarray, shape (n_samples,), optional, default: None\n",
    "            Starting configuration of the embedding to initialize the SMACOF\n",
    "            algorithm. By default, the algorithm is initialized with a randomly\n",
    "            chosen array.\n",
    "        \"\"\"\n",
    "        self.fit_transform(X, init=init)\n",
    "        return self\n",
    "\n",
    "    def fit_transform(self, X, y=None, init=None):\n",
    "        \"\"\"\n",
    "        Fit the data from X, and returns the embedded coordinates\n",
    "        Parameters\n",
    "        ----------\n",
    "        X : array, shape (n_samples, n_features) or (n_samples, n_samples)\n",
    "            Input data. If ``dissimilarity=='precomputed'``, the input should\n",
    "            be the dissimilarity matrix.\n",
    "        y: Ignored\n",
    "        init : ndarray, shape (n_samples,), optional, default: None\n",
    "            Starting configuration of the embedding to initialize the SMACOF\n",
    "            algorithm. By default, the algorithm is initialized with a randomly\n",
    "            chosen array.\n",
    "        \"\"\"\n",
    "        X = check_array(X)\n",
    "        if X.shape[0] == X.shape[1] and self.dissimilarity != \"precomputed\":\n",
    "            warnings.warn(\"The MDS API has changed. ``fit`` now constructs an\"\n",
    "                          \" dissimilarity matrix from data. To use a custom \"\n",
    "                          \"dissimilarity matrix, set \"\n",
    "                          \"``dissimilarity='precomputed'``.\")\n",
    "\n",
    "        if self.dissimilarity == \"precomputed\":\n",
    "            self.dissimilarity_matrix_ = X\n",
    "        elif self.dissimilarity == \"euclidean\":\n",
    "            self.dissimilarity_matrix_ = euclidean_distances(X)\n",
    "        else:\n",
    "            raise ValueError(\"Proximity must be 'precomputed' or 'euclidean'.\"\n",
    "                             \" Got %s instead\" % str(self.dissimilarity))\n",
    "\n",
    "        self.embedding_, self.stress_, self.n_iter_ = smacof(\n",
    "            self.dissimilarity_matrix_, metric=self.metric,\n",
    "            n_components=self.n_components, init=init, n_init=self.n_init,\n",
    "            n_jobs=self.n_jobs, max_iter=self.max_iter, verbose=self.verbose,\n",
    "            eps=self.eps, random_state=self.random_state,\n",
    "            return_n_iter=True,normalize=self.normalize)\n",
    "\n",
    "        return self.embedding_"
   ]
  },
  {
   "cell_type": "code",
   "execution_count": 242,
   "metadata": {},
   "outputs": [],
   "source": [
    "#from sklearn import manifold\n",
    "\n",
    "def computeMDSCoordinate(n_comp,metric=True):\n",
    "    mds = MDS(n_components=n_comp,random_state=1,normalize=True,eps=1e-10,metric=metric)\n",
    "    mds.fit(matrix_dist)\n",
    "    points = mds.embedding_\n",
    "    stress = mds.stress_\n",
    "    '''\n",
    "    Stress-1 that according to Kruskal (1964, p. 3) has more or less \n",
    "    the following interpretation: value 0 indicates perfect fit, \n",
    "    0.025 excellent, 0.05 good, 0.1 fair and 0.2 poor.\n",
    "    '''\n",
    "    print(\"Stress of the method : %f\" %stress)\n",
    "\n",
    "    '''\n",
    "    # Normalise data\n",
    "    for i in range(n_comp):\n",
    "        points[:,i] = (points[:,i] - np.mean(points[:,i])) / np.std(points[:,i])\n",
    "    '''\n",
    "    return points, stress"
   ]
  },
  {
   "cell_type": "code",
   "execution_count": 243,
   "metadata": {},
   "outputs": [],
   "source": [
    "from sklearn import manifold\n",
    "\n",
    "def mdsScikit(n_comp):\n",
    "    mds = manifold.MDS(n_components=n_comp,random_state=1)\n",
    "    mds.fit(matrix_dist)\n",
    "    points = mds.embedding_\n",
    "    stress = mds.stress_\n",
    "\n",
    "    '''\n",
    "    # Normalise data\n",
    "    for i in range(n_comp):\n",
    "        points[:,i] = (points[:,i] - np.mean(points[:,i])) / np.std(points[:,i])\n",
    "    '''\n",
    "    return points"
   ]
  },
  {
   "cell_type": "code",
   "execution_count": 244,
   "metadata": {},
   "outputs": [
    {
     "name": "stdout",
     "output_type": "stream",
     "text": [
      "Stress of the method : 0.543786\n"
     ]
    },
    {
     "name": "stderr",
     "output_type": "stream",
     "text": [
      "//anaconda3/lib/python3.7/site-packages/ipykernel_launcher.py:378: UserWarning: The MDS API has changed. ``fit`` now constructs an dissimilarity matrix from data. To use a custom dissimilarity matrix, set ``dissimilarity='precomputed'``.\n",
      "//anaconda3/lib/python3.7/site-packages/ipykernel_launcher.py:378: UserWarning: The MDS API has changed. ``fit`` now constructs an dissimilarity matrix from data. To use a custom dissimilarity matrix, set ``dissimilarity='precomputed'``.\n"
     ]
    },
    {
     "name": "stdout",
     "output_type": "stream",
     "text": [
      "Stress of the method : 0.293384\n"
     ]
    },
    {
     "name": "stderr",
     "output_type": "stream",
     "text": [
      "//anaconda3/lib/python3.7/site-packages/ipykernel_launcher.py:378: UserWarning: The MDS API has changed. ``fit`` now constructs an dissimilarity matrix from data. To use a custom dissimilarity matrix, set ``dissimilarity='precomputed'``.\n"
     ]
    },
    {
     "name": "stdout",
     "output_type": "stream",
     "text": [
      "Stress of the method : 0.208386\n"
     ]
    },
    {
     "name": "stderr",
     "output_type": "stream",
     "text": [
      "//anaconda3/lib/python3.7/site-packages/ipykernel_launcher.py:378: UserWarning: The MDS API has changed. ``fit`` now constructs an dissimilarity matrix from data. To use a custom dissimilarity matrix, set ``dissimilarity='precomputed'``.\n"
     ]
    },
    {
     "name": "stdout",
     "output_type": "stream",
     "text": [
      "Stress of the method : 0.150255\n"
     ]
    },
    {
     "name": "stderr",
     "output_type": "stream",
     "text": [
      "//anaconda3/lib/python3.7/site-packages/ipykernel_launcher.py:378: UserWarning: The MDS API has changed. ``fit`` now constructs an dissimilarity matrix from data. To use a custom dissimilarity matrix, set ``dissimilarity='precomputed'``.\n"
     ]
    },
    {
     "name": "stdout",
     "output_type": "stream",
     "text": [
      "Stress of the method : 0.117929\n"
     ]
    },
    {
     "name": "stderr",
     "output_type": "stream",
     "text": [
      "//anaconda3/lib/python3.7/site-packages/ipykernel_launcher.py:378: UserWarning: The MDS API has changed. ``fit`` now constructs an dissimilarity matrix from data. To use a custom dissimilarity matrix, set ``dissimilarity='precomputed'``.\n"
     ]
    },
    {
     "name": "stdout",
     "output_type": "stream",
     "text": [
      "Stress of the method : 0.095169\n"
     ]
    },
    {
     "data": {
      "image/png": "[encoded data removed]",
      "text/plain": [
       "<Figure size 432x288 with 1 Axes>"
      ]
     },
     "metadata": {
      "needs_background": "light"
     },
     "output_type": "display_data"
    }
   ],
   "source": [
    "from sklearn.decomposition import PCA\n",
    "\n",
    "def transformPoints(points):\n",
    "    n_comp = 2\n",
    "    pca = PCA(n_components=n_comp)\n",
    "    points = pca.fit_transform(points)\n",
    "    print(\"%f variance explained when plotting\" %sum(pca.explained_variance_ratio_[:n_comp]))\n",
    "    return points\n",
    "\n",
    "def plotMdsPoints(points,projection=False):\n",
    "\n",
    "    ax = plt.axes([1.2,0,1,1])\n",
    "    ax.set_aspect(aspect='equal')\n",
    "    if (projection):\n",
    "        points = transformPoints(points)\n",
    "    \n",
    "    for i in range(len(condition)):\n",
    "        if (condition[i] == 0):\n",
    "            color = 'blue'\n",
    "        else:\n",
    "            color = 'red'\n",
    "        ax.annotate(i,(points[i,0],points[i,1]),xytext=(points[i,0]+0.3,points[i,1]))\n",
    "\n",
    "    plt.scatter(points[narrative,0],points[narrative,1],color='red',s=150)\n",
    "    plt.scatter(points[stimulus,0],points[stimulus,1],color='blue',s=150)\n",
    "    \n",
    "    plt.title('MDS map')\n",
    "\n",
    "# Find best MDS dimension\n",
    "stress = np.zeros((int(N/4),1))\n",
    "for i in range(1,int(N/4)+1):\n",
    "    points,stress[i-1] = computeMDSCoordinate(i)\n",
    "\n",
    "plt.plot(np.arange(1,int(N/4)+1),stress)\n",
    "plt.xlabel(\"number of MBS dimensions\")\n",
    "plt.ylabel(\"stress\")\n",
    "\n",
    "# EEG : 6\n",
    "# EDA : 3 or 4\n",
    "mdsDim = 6\n"
   ]
  },
  {
   "cell_type": "code",
   "execution_count": 245,
   "metadata": {},
   "outputs": [
    {
     "name": "stderr",
     "output_type": "stream",
     "text": [
      "//anaconda3/lib/python3.7/site-packages/ipykernel_launcher.py:378: UserWarning: The MDS API has changed. ``fit`` now constructs an dissimilarity matrix from data. To use a custom dissimilarity matrix, set ``dissimilarity='precomputed'``.\n"
     ]
    },
    {
     "name": "stdout",
     "output_type": "stream",
     "text": [
      "Stress of the method : 0.095169\n",
      "0.491167 variance explained when plotting\n"
     ]
    },
    {
     "data": {
      "image/png": "[encoded data removed]",
      "text/plain": [
       "<Figure size 432x288 with 1 Axes>"
      ]
     },
     "metadata": {
      "needs_background": "light"
     },
     "output_type": "display_data"
    }
   ],
   "source": [
    "'''\n",
    "points = mdsScikit(10)\n",
    "ax = plt.axes([0,0,1,1])\n",
    "ax.set_aspect(aspect='equal')\n",
    "plotMdsPoints(points,ax)\n",
    "'''\n",
    "#ax = plt.axes([1.2,0,1,1])\n",
    "#ax.set_aspect(aspect='equal')\n",
    "#points = computeMDSCoordinate(10)\n",
    "#plotMdsPoints(points,projection=True)\n",
    "\n",
    "points,stress = computeMDSCoordinate(mdsDim)\n",
    "plotMdsPoints(points,projection=True)"
   ]
  },
  {
   "cell_type": "markdown",
   "metadata": {},
   "source": [
    "## DBSCAN (here for precomputed metric -> array of distances)"
   ]
  },
  {
   "cell_type": "code",
   "execution_count": 246,
   "metadata": {},
   "outputs": [
    {
     "name": "stdout",
     "output_type": "stream",
     "text": [
      "Estimated number of clusters: 25\n"
     ]
    }
   ],
   "source": [
    "from sklearn.cluster import DBSCAN\n",
    "\n",
    "# Compute DBSCAN\n",
    "db = DBSCAN(eps=1, min_samples=1,metric='precomputed').fit(matrix_dist)\n",
    "\n",
    "core_samples_mask = np.zeros_like(db.labels_, dtype=bool)\n",
    "core_samples_mask[db.core_sample_indices_] = True\n",
    "labels = db.labels_\n",
    "\n",
    "# Number of clusters in labels, ignoring noise if present.\n",
    "n_clusters_ = len(set(labels)) - (1 if -1 in labels else 0)\n",
    "n_noise_ = list(labels).count(-1)\n",
    "print('Estimated number of clusters: %d' % n_clusters_)"
   ]
  },
  {
   "cell_type": "code",
   "execution_count": 247,
   "metadata": {},
   "outputs": [
    {
     "name": "stderr",
     "output_type": "stream",
     "text": [
      "//anaconda3/lib/python3.7/site-packages/ipykernel_launcher.py:378: UserWarning: The MDS API has changed. ``fit`` now constructs an dissimilarity matrix from data. To use a custom dissimilarity matrix, set ``dissimilarity='precomputed'``.\n"
     ]
    },
    {
     "name": "stdout",
     "output_type": "stream",
     "text": [
      "Stress of the method : 0.095169\n",
      "0.491167 variance explained when plotting\n",
      "no plot\n",
      "no plot\n",
      "no plot\n",
      "no plot\n",
      "no plot\n",
      "no plot\n",
      "no plot\n",
      "no plot\n",
      "no plot\n",
      "no plot\n",
      "no plot\n",
      "no plot\n",
      "no plot\n",
      "no plot\n",
      "no plot\n",
      "no plot\n",
      "no plot\n",
      "no plot\n",
      "no plot\n",
      "no plot\n",
      "no plot\n",
      "no plot\n",
      "no plot\n",
      "no plot\n",
      "no plot\n",
      "no plot\n",
      "no plot\n",
      "no plot\n",
      "no plot\n",
      "no plot\n",
      "no plot\n",
      "no plot\n",
      "no plot\n",
      "no plot\n",
      "no plot\n",
      "no plot\n",
      "no plot\n",
      "no plot\n",
      "no plot\n",
      "no plot\n",
      "no plot\n",
      "no plot\n",
      "no plot\n",
      "no plot\n",
      "no plot\n",
      "no plot\n",
      "no plot\n",
      "no plot\n",
      "no plot\n",
      "no plot\n",
      "0.491167 variance explained when plotting\n"
     ]
    },
    {
     "data": {
      "image/png": "[encoded data removed]",
      "text/plain": [
       "<Figure size 432x288 with 2 Axes>"
      ]
     },
     "metadata": {
      "needs_background": "light"
     },
     "output_type": "display_data"
    }
   ],
   "source": [
    "# Black removed and is used for noise instead.\n",
    "unique_labels = set(labels)\n",
    "colors = [plt.cm.Spectral(each)\n",
    "          for each in np.linspace(0, 1, len(unique_labels))]\n",
    "\n",
    "ax = plt.axes([0,0,1.2,1.2])\n",
    "ax.set_aspect(aspect='equal')\n",
    "points,stress = computeMDSCoordinate(mdsDim)\n",
    "points_2D = transformPoints(points)\n",
    "\n",
    "for k, col in zip(unique_labels, colors):\n",
    "\n",
    "    if k == -1:\n",
    "        # Black used for noise.\n",
    "        col = [0, 0, 0, 1]\n",
    "\n",
    "    class_member_mask = (labels == k)\n",
    "    xy = points[class_member_mask & core_samples_mask]\n",
    "    try:\n",
    "        plt.plot(xy[:, 0], points[:, 1], 'o', markerfacecolor=tuple(col),\n",
    "                 markeredgecolor='k', markersize=14)\n",
    "    except:\n",
    "        print(\"no plot\")\n",
    "    xy = points[class_member_mask & ~core_samples_mask]\n",
    "    try:\n",
    "        plt.plot(xy[:, 0], points[:, 1], 'o', markerfacecolor=tuple(col),\n",
    "                 markeredgecolor='k', markersize=6)\n",
    "    except:\n",
    "        print(\"no plot\")\n",
    "        \n",
    "plt.title('Estimated number of clusters: %d' % n_clusters_)\n",
    "\n",
    "plotMdsPoints(points,projection=True)"
   ]
  },
  {
   "cell_type": "markdown",
   "metadata": {},
   "source": [
    "## Mean Shift (to do on coordinates)"
   ]
  },
  {
   "cell_type": "code",
   "execution_count": 254,
   "metadata": {},
   "outputs": [
    {
     "name": "stderr",
     "output_type": "stream",
     "text": [
      "//anaconda3/lib/python3.7/site-packages/ipykernel_launcher.py:378: UserWarning: The MDS API has changed. ``fit`` now constructs an dissimilarity matrix from data. To use a custom dissimilarity matrix, set ``dissimilarity='precomputed'``.\n"
     ]
    },
    {
     "name": "stdout",
     "output_type": "stream",
     "text": [
      "Stress of the method : 0.117929\n",
      "number of estimated clusters : 1\n",
      "0.535848 variance explained when plotting\n",
      "1.000000 variance explained when plotting\n"
     ]
    },
    {
     "data": {
      "image/png": "[encoded data removed]",
      "text/plain": [
       "<Figure size 432x288 with 2 Axes>"
      ]
     },
     "metadata": {
      "needs_background": "light"
     },
     "output_type": "display_data"
    }
   ],
   "source": [
    "from sklearn.cluster import MeanShift, estimate_bandwidth\n",
    "\n",
    "# Compute clustering with MeanShift\n",
    "points,stress = computeMDSCoordinate(mdsDim-1) # Look only at 2 3 or 4D, then bad results\n",
    "\n",
    "# The following ban*dwidth can be automatically detected using\n",
    "bandwidth = estimate_bandwidth(points, quantile=0.2)\n",
    "\n",
    "ms = MeanShift(bandwidth=bandwidth, bin_seeding=True)\n",
    "ms.fit(points)\n",
    "labels = ms.labels_\n",
    "cluster_centers = ms.cluster_centers_\n",
    "\n",
    "labels_unique = np.unique(labels)\n",
    "n_clusters_ = len(labels_unique)\n",
    "\n",
    "print(\"number of estimated clusters : %d\" % n_clusters_)\n",
    "\n",
    "# Plot result\n",
    "from itertools import cycle\n",
    "\n",
    "ax = plt.axes([0,0,1.2,1.2])\n",
    "ax.set_aspect(aspect='equal')\n",
    "points = transformPoints(points)\n",
    "\n",
    "colors = cycle('bgrcmykbgrcmykbgrcmykbgrcmyk')\n",
    "for k, col in zip(range(n_clusters_), colors):\n",
    "    my_members = labels == k\n",
    "    cluster_center = cluster_centers[k]\n",
    "    plt.scatter(points[my_members, 0], points[my_members, 1], s=150)\n",
    "    #plt.plot(cluster_center[0], cluster_center[1], 'o', markerfacecolor=col,\n",
    "    #         markeredgecolor='k', markersize=14)\n",
    "    \n",
    "    plt.title('Estimated number of clusters: %d' % n_clusters_)\n",
    "\n",
    "plotMdsPoints(points,projection=True)\n",
    "\n",
    "plt.show()"
   ]
  },
  {
   "cell_type": "markdown",
   "metadata": {},
   "source": [
    "## Spectral clustering (on coordinates)"
   ]
  },
  {
   "cell_type": "code",
   "execution_count": 257,
   "metadata": {},
   "outputs": [
    {
     "name": "stderr",
     "output_type": "stream",
     "text": [
      "//anaconda3/lib/python3.7/site-packages/ipykernel_launcher.py:378: UserWarning: The MDS API has changed. ``fit`` now constructs an dissimilarity matrix from data. To use a custom dissimilarity matrix, set ``dissimilarity='precomputed'``.\n",
      "//anaconda3/lib/python3.7/site-packages/ipykernel_launcher.py:378: UserWarning: The MDS API has changed. ``fit`` now constructs an dissimilarity matrix from data. To use a custom dissimilarity matrix, set ``dissimilarity='precomputed'``.\n"
     ]
    },
    {
     "name": "stdout",
     "output_type": "stream",
     "text": [
      "Stress of the method : 0.543786\n",
      "Stress of the method : 0.293384\n"
     ]
    },
    {
     "name": "stderr",
     "output_type": "stream",
     "text": [
      "//anaconda3/lib/python3.7/site-packages/ipykernel_launcher.py:378: UserWarning: The MDS API has changed. ``fit`` now constructs an dissimilarity matrix from data. To use a custom dissimilarity matrix, set ``dissimilarity='precomputed'``.\n"
     ]
    },
    {
     "name": "stdout",
     "output_type": "stream",
     "text": [
      "Stress of the method : 0.208386\n"
     ]
    },
    {
     "name": "stderr",
     "output_type": "stream",
     "text": [
      "//anaconda3/lib/python3.7/site-packages/ipykernel_launcher.py:378: UserWarning: The MDS API has changed. ``fit`` now constructs an dissimilarity matrix from data. To use a custom dissimilarity matrix, set ``dissimilarity='precomputed'``.\n"
     ]
    },
    {
     "name": "stdout",
     "output_type": "stream",
     "text": [
      "Stress of the method : 0.150255\n"
     ]
    },
    {
     "name": "stderr",
     "output_type": "stream",
     "text": [
      "//anaconda3/lib/python3.7/site-packages/ipykernel_launcher.py:378: UserWarning: The MDS API has changed. ``fit`` now constructs an dissimilarity matrix from data. To use a custom dissimilarity matrix, set ``dissimilarity='precomputed'``.\n"
     ]
    },
    {
     "name": "stdout",
     "output_type": "stream",
     "text": [
      "Stress of the method : 0.117929\n"
     ]
    },
    {
     "name": "stderr",
     "output_type": "stream",
     "text": [
      "//anaconda3/lib/python3.7/site-packages/ipykernel_launcher.py:378: UserWarning: The MDS API has changed. ``fit`` now constructs an dissimilarity matrix from data. To use a custom dissimilarity matrix, set ``dissimilarity='precomputed'``.\n"
     ]
    },
    {
     "name": "stdout",
     "output_type": "stream",
     "text": [
      "Stress of the method : 0.095169\n"
     ]
    },
    {
     "name": "stderr",
     "output_type": "stream",
     "text": [
      "//anaconda3/lib/python3.7/site-packages/ipykernel_launcher.py:378: UserWarning: The MDS API has changed. ``fit`` now constructs an dissimilarity matrix from data. To use a custom dissimilarity matrix, set ``dissimilarity='precomputed'``.\n"
     ]
    },
    {
     "name": "stdout",
     "output_type": "stream",
     "text": [
      "Stress of the method : 0.075494\n"
     ]
    },
    {
     "name": "stderr",
     "output_type": "stream",
     "text": [
      "//anaconda3/lib/python3.7/site-packages/ipykernel_launcher.py:378: UserWarning: The MDS API has changed. ``fit`` now constructs an dissimilarity matrix from data. To use a custom dissimilarity matrix, set ``dissimilarity='precomputed'``.\n"
     ]
    },
    {
     "name": "stdout",
     "output_type": "stream",
     "text": [
      "Stress of the method : 0.062551\n"
     ]
    },
    {
     "name": "stderr",
     "output_type": "stream",
     "text": [
      "//anaconda3/lib/python3.7/site-packages/ipykernel_launcher.py:378: UserWarning: The MDS API has changed. ``fit`` now constructs an dissimilarity matrix from data. To use a custom dissimilarity matrix, set ``dissimilarity='precomputed'``.\n"
     ]
    },
    {
     "name": "stdout",
     "output_type": "stream",
     "text": [
      "Stress of the method : 0.052219\n"
     ]
    },
    {
     "name": "stderr",
     "output_type": "stream",
     "text": [
      "//anaconda3/lib/python3.7/site-packages/ipykernel_launcher.py:378: UserWarning: The MDS API has changed. ``fit`` now constructs an dissimilarity matrix from data. To use a custom dissimilarity matrix, set ``dissimilarity='precomputed'``.\n"
     ]
    },
    {
     "name": "stdout",
     "output_type": "stream",
     "text": [
      "Stress of the method : 0.043026\n"
     ]
    },
    {
     "name": "stderr",
     "output_type": "stream",
     "text": [
      "//anaconda3/lib/python3.7/site-packages/ipykernel_launcher.py:378: UserWarning: The MDS API has changed. ``fit`` now constructs an dissimilarity matrix from data. To use a custom dissimilarity matrix, set ``dissimilarity='precomputed'``.\n"
     ]
    },
    {
     "name": "stdout",
     "output_type": "stream",
     "text": [
      "Stress of the method : 0.036571\n"
     ]
    },
    {
     "name": "stderr",
     "output_type": "stream",
     "text": [
      "//anaconda3/lib/python3.7/site-packages/ipykernel_launcher.py:378: UserWarning: The MDS API has changed. ``fit`` now constructs an dissimilarity matrix from data. To use a custom dissimilarity matrix, set ``dissimilarity='precomputed'``.\n"
     ]
    },
    {
     "name": "stdout",
     "output_type": "stream",
     "text": [
      "Stress of the method : 0.030885\n"
     ]
    },
    {
     "name": "stderr",
     "output_type": "stream",
     "text": [
      "//anaconda3/lib/python3.7/site-packages/ipykernel_launcher.py:378: UserWarning: The MDS API has changed. ``fit`` now constructs an dissimilarity matrix from data. To use a custom dissimilarity matrix, set ``dissimilarity='precomputed'``.\n"
     ]
    },
    {
     "name": "stdout",
     "output_type": "stream",
     "text": [
      "Stress of the method : 0.024564\n"
     ]
    },
    {
     "name": "stderr",
     "output_type": "stream",
     "text": [
      "//anaconda3/lib/python3.7/site-packages/ipykernel_launcher.py:378: UserWarning: The MDS API has changed. ``fit`` now constructs an dissimilarity matrix from data. To use a custom dissimilarity matrix, set ``dissimilarity='precomputed'``.\n"
     ]
    },
    {
     "name": "stdout",
     "output_type": "stream",
     "text": [
      "Stress of the method : 0.023120\n"
     ]
    },
    {
     "name": "stderr",
     "output_type": "stream",
     "text": [
      "//anaconda3/lib/python3.7/site-packages/ipykernel_launcher.py:378: UserWarning: The MDS API has changed. ``fit`` now constructs an dissimilarity matrix from data. To use a custom dissimilarity matrix, set ``dissimilarity='precomputed'``.\n"
     ]
    },
    {
     "name": "stdout",
     "output_type": "stream",
     "text": [
      "Stress of the method : 0.018186\n"
     ]
    },
    {
     "name": "stderr",
     "output_type": "stream",
     "text": [
      "//anaconda3/lib/python3.7/site-packages/ipykernel_launcher.py:378: UserWarning: The MDS API has changed. ``fit`` now constructs an dissimilarity matrix from data. To use a custom dissimilarity matrix, set ``dissimilarity='precomputed'``.\n"
     ]
    },
    {
     "name": "stdout",
     "output_type": "stream",
     "text": [
      "Stress of the method : 0.015469\n"
     ]
    },
    {
     "name": "stderr",
     "output_type": "stream",
     "text": [
      "//anaconda3/lib/python3.7/site-packages/ipykernel_launcher.py:378: UserWarning: The MDS API has changed. ``fit`` now constructs an dissimilarity matrix from data. To use a custom dissimilarity matrix, set ``dissimilarity='precomputed'``.\n"
     ]
    },
    {
     "name": "stdout",
     "output_type": "stream",
     "text": [
      "Stress of the method : 0.012428\n"
     ]
    },
    {
     "name": "stderr",
     "output_type": "stream",
     "text": [
      "//anaconda3/lib/python3.7/site-packages/ipykernel_launcher.py:378: UserWarning: The MDS API has changed. ``fit`` now constructs an dissimilarity matrix from data. To use a custom dissimilarity matrix, set ``dissimilarity='precomputed'``.\n"
     ]
    },
    {
     "name": "stdout",
     "output_type": "stream",
     "text": [
      "Stress of the method : 0.010245\n"
     ]
    },
    {
     "name": "stderr",
     "output_type": "stream",
     "text": [
      "//anaconda3/lib/python3.7/site-packages/ipykernel_launcher.py:378: UserWarning: The MDS API has changed. ``fit`` now constructs an dissimilarity matrix from data. To use a custom dissimilarity matrix, set ``dissimilarity='precomputed'``.\n"
     ]
    },
    {
     "name": "stdout",
     "output_type": "stream",
     "text": [
      "Stress of the method : 0.007366\n"
     ]
    },
    {
     "name": "stderr",
     "output_type": "stream",
     "text": [
      "//anaconda3/lib/python3.7/site-packages/ipykernel_launcher.py:378: UserWarning: The MDS API has changed. ``fit`` now constructs an dissimilarity matrix from data. To use a custom dissimilarity matrix, set ``dissimilarity='precomputed'``.\n"
     ]
    },
    {
     "name": "stdout",
     "output_type": "stream",
     "text": [
      "Stress of the method : 0.006191\n"
     ]
    },
    {
     "name": "stderr",
     "output_type": "stream",
     "text": [
      "//anaconda3/lib/python3.7/site-packages/ipykernel_launcher.py:378: UserWarning: The MDS API has changed. ``fit`` now constructs an dissimilarity matrix from data. To use a custom dissimilarity matrix, set ``dissimilarity='precomputed'``.\n"
     ]
    },
    {
     "name": "stdout",
     "output_type": "stream",
     "text": [
      "Stress of the method : 0.004938\n"
     ]
    },
    {
     "name": "stderr",
     "output_type": "stream",
     "text": [
      "//anaconda3/lib/python3.7/site-packages/ipykernel_launcher.py:378: UserWarning: The MDS API has changed. ``fit`` now constructs an dissimilarity matrix from data. To use a custom dissimilarity matrix, set ``dissimilarity='precomputed'``.\n"
     ]
    },
    {
     "name": "stdout",
     "output_type": "stream",
     "text": [
      "Stress of the method : 0.003752\n"
     ]
    },
    {
     "name": "stderr",
     "output_type": "stream",
     "text": [
      "//anaconda3/lib/python3.7/site-packages/ipykernel_launcher.py:378: UserWarning: The MDS API has changed. ``fit`` now constructs an dissimilarity matrix from data. To use a custom dissimilarity matrix, set ``dissimilarity='precomputed'``.\n"
     ]
    },
    {
     "name": "stdout",
     "output_type": "stream",
     "text": [
      "Stress of the method : 0.002746\n"
     ]
    },
    {
     "name": "stderr",
     "output_type": "stream",
     "text": [
      "//anaconda3/lib/python3.7/site-packages/ipykernel_launcher.py:378: UserWarning: The MDS API has changed. ``fit`` now constructs an dissimilarity matrix from data. To use a custom dissimilarity matrix, set ``dissimilarity='precomputed'``.\n"
     ]
    },
    {
     "name": "stdout",
     "output_type": "stream",
     "text": [
      "Stress of the method : 0.003697\n"
     ]
    },
    {
     "name": "stderr",
     "output_type": "stream",
     "text": [
      "//anaconda3/lib/python3.7/site-packages/ipykernel_launcher.py:378: UserWarning: The MDS API has changed. ``fit`` now constructs an dissimilarity matrix from data. To use a custom dissimilarity matrix, set ``dissimilarity='precomputed'``.\n"
     ]
    },
    {
     "name": "stdout",
     "output_type": "stream",
     "text": [
      "Stress of the method : 0.002329\n"
     ]
    }
   ],
   "source": [
    "from sklearn.cluster import SpectralClustering\n",
    "\n",
    "max_prec = 0\n",
    "dim = 0\n",
    "prec = np.zeros((N-1,1))\n",
    "\n",
    "for i in range(1,N):\n",
    "    points,stress = computeMDSCoordinate(i)\n",
    "    \n",
    "    #Spectral clustering\n",
    "    clustering = SpectralClustering(n_clusters=2,\n",
    "                assign_labels=\"discretize\",\n",
    "                random_state=0).fit(points)\n",
    "\n",
    "    prec[i-1] = sum(condition==clustering.labels_)/N\n",
    "    if prec[i-1] > max_prec:\n",
    "        max_prec = prec[i-1]\n",
    "        label = clustering.labels_\n",
    "        dim = i"
   ]
  },
  {
   "cell_type": "code",
   "execution_count": 258,
   "metadata": {},
   "outputs": [
    {
     "name": "stdout",
     "output_type": "stream",
     "text": [
      "2\n",
      "[0 1 1 0 0 0 1 0 0 0 0 0 1 0 1 1 1 0 1 1 1 1 0 1 1 0]\n",
      "[0 1 0 1 0 0 1 0 1 0 1 0 1 0 1 1 0 0 0 1 1 1 0 1 1 0]\n",
      "0.7692307692307693\n"
     ]
    },
    {
     "data": {
      "image/png": "[encoded data removed]",
      "text/plain": [
       "<Figure size 432x288 with 1 Axes>"
      ]
     },
     "metadata": {
      "needs_background": "light"
     },
     "output_type": "display_data"
    }
   ],
   "source": [
    "plt.plot(np.arange(1,N),prec)\n",
    "plt.xlabel(\"number of mds dimensions\")\n",
    "plt.ylabel(\"Spectral clustering precision\")\n",
    "    \n",
    "print(dim)\n",
    "print(label)\n",
    "print(condition)\n",
    "print(sum(condition==label)/N)"
   ]
  },
  {
   "cell_type": "markdown",
   "metadata": {},
   "source": [
    "## K-Means"
   ]
  },
  {
   "cell_type": "code",
   "execution_count": 259,
   "metadata": {},
   "outputs": [
    {
     "name": "stderr",
     "output_type": "stream",
     "text": [
      "//anaconda3/lib/python3.7/site-packages/ipykernel_launcher.py:378: UserWarning: The MDS API has changed. ``fit`` now constructs an dissimilarity matrix from data. To use a custom dissimilarity matrix, set ``dissimilarity='precomputed'``.\n",
      "//anaconda3/lib/python3.7/site-packages/ipykernel_launcher.py:378: UserWarning: The MDS API has changed. ``fit`` now constructs an dissimilarity matrix from data. To use a custom dissimilarity matrix, set ``dissimilarity='precomputed'``.\n"
     ]
    },
    {
     "name": "stdout",
     "output_type": "stream",
     "text": [
      "Stress of the method : 0.543786\n",
      "Stress of the method : 0.293384\n"
     ]
    },
    {
     "name": "stderr",
     "output_type": "stream",
     "text": [
      "//anaconda3/lib/python3.7/site-packages/ipykernel_launcher.py:378: UserWarning: The MDS API has changed. ``fit`` now constructs an dissimilarity matrix from data. To use a custom dissimilarity matrix, set ``dissimilarity='precomputed'``.\n"
     ]
    },
    {
     "name": "stdout",
     "output_type": "stream",
     "text": [
      "Stress of the method : 0.208386\n"
     ]
    },
    {
     "name": "stderr",
     "output_type": "stream",
     "text": [
      "//anaconda3/lib/python3.7/site-packages/ipykernel_launcher.py:378: UserWarning: The MDS API has changed. ``fit`` now constructs an dissimilarity matrix from data. To use a custom dissimilarity matrix, set ``dissimilarity='precomputed'``.\n"
     ]
    },
    {
     "name": "stdout",
     "output_type": "stream",
     "text": [
      "Stress of the method : 0.150255\n"
     ]
    },
    {
     "name": "stderr",
     "output_type": "stream",
     "text": [
      "//anaconda3/lib/python3.7/site-packages/ipykernel_launcher.py:378: UserWarning: The MDS API has changed. ``fit`` now constructs an dissimilarity matrix from data. To use a custom dissimilarity matrix, set ``dissimilarity='precomputed'``.\n"
     ]
    },
    {
     "name": "stdout",
     "output_type": "stream",
     "text": [
      "Stress of the method : 0.117929\n"
     ]
    },
    {
     "name": "stderr",
     "output_type": "stream",
     "text": [
      "//anaconda3/lib/python3.7/site-packages/ipykernel_launcher.py:378: UserWarning: The MDS API has changed. ``fit`` now constructs an dissimilarity matrix from data. To use a custom dissimilarity matrix, set ``dissimilarity='precomputed'``.\n"
     ]
    },
    {
     "name": "stdout",
     "output_type": "stream",
     "text": [
      "Stress of the method : 0.095169\n"
     ]
    },
    {
     "name": "stderr",
     "output_type": "stream",
     "text": [
      "//anaconda3/lib/python3.7/site-packages/ipykernel_launcher.py:378: UserWarning: The MDS API has changed. ``fit`` now constructs an dissimilarity matrix from data. To use a custom dissimilarity matrix, set ``dissimilarity='precomputed'``.\n"
     ]
    },
    {
     "name": "stdout",
     "output_type": "stream",
     "text": [
      "Stress of the method : 0.075494\n"
     ]
    },
    {
     "name": "stderr",
     "output_type": "stream",
     "text": [
      "//anaconda3/lib/python3.7/site-packages/ipykernel_launcher.py:378: UserWarning: The MDS API has changed. ``fit`` now constructs an dissimilarity matrix from data. To use a custom dissimilarity matrix, set ``dissimilarity='precomputed'``.\n"
     ]
    },
    {
     "name": "stdout",
     "output_type": "stream",
     "text": [
      "Stress of the method : 0.062551\n"
     ]
    },
    {
     "name": "stderr",
     "output_type": "stream",
     "text": [
      "//anaconda3/lib/python3.7/site-packages/ipykernel_launcher.py:378: UserWarning: The MDS API has changed. ``fit`` now constructs an dissimilarity matrix from data. To use a custom dissimilarity matrix, set ``dissimilarity='precomputed'``.\n"
     ]
    },
    {
     "name": "stdout",
     "output_type": "stream",
     "text": [
      "Stress of the method : 0.052219\n"
     ]
    },
    {
     "name": "stderr",
     "output_type": "stream",
     "text": [
      "//anaconda3/lib/python3.7/site-packages/ipykernel_launcher.py:378: UserWarning: The MDS API has changed. ``fit`` now constructs an dissimilarity matrix from data. To use a custom dissimilarity matrix, set ``dissimilarity='precomputed'``.\n"
     ]
    },
    {
     "name": "stdout",
     "output_type": "stream",
     "text": [
      "Stress of the method : 0.043026\n"
     ]
    },
    {
     "name": "stderr",
     "output_type": "stream",
     "text": [
      "//anaconda3/lib/python3.7/site-packages/ipykernel_launcher.py:378: UserWarning: The MDS API has changed. ``fit`` now constructs an dissimilarity matrix from data. To use a custom dissimilarity matrix, set ``dissimilarity='precomputed'``.\n"
     ]
    },
    {
     "name": "stdout",
     "output_type": "stream",
     "text": [
      "Stress of the method : 0.036571\n"
     ]
    },
    {
     "name": "stderr",
     "output_type": "stream",
     "text": [
      "//anaconda3/lib/python3.7/site-packages/ipykernel_launcher.py:378: UserWarning: The MDS API has changed. ``fit`` now constructs an dissimilarity matrix from data. To use a custom dissimilarity matrix, set ``dissimilarity='precomputed'``.\n"
     ]
    },
    {
     "name": "stdout",
     "output_type": "stream",
     "text": [
      "Stress of the method : 0.030885\n"
     ]
    },
    {
     "name": "stderr",
     "output_type": "stream",
     "text": [
      "//anaconda3/lib/python3.7/site-packages/ipykernel_launcher.py:378: UserWarning: The MDS API has changed. ``fit`` now constructs an dissimilarity matrix from data. To use a custom dissimilarity matrix, set ``dissimilarity='precomputed'``.\n"
     ]
    },
    {
     "name": "stdout",
     "output_type": "stream",
     "text": [
      "Stress of the method : 0.024564\n"
     ]
    },
    {
     "name": "stderr",
     "output_type": "stream",
     "text": [
      "//anaconda3/lib/python3.7/site-packages/ipykernel_launcher.py:378: UserWarning: The MDS API has changed. ``fit`` now constructs an dissimilarity matrix from data. To use a custom dissimilarity matrix, set ``dissimilarity='precomputed'``.\n"
     ]
    },
    {
     "name": "stdout",
     "output_type": "stream",
     "text": [
      "Stress of the method : 0.023120\n"
     ]
    },
    {
     "name": "stderr",
     "output_type": "stream",
     "text": [
      "//anaconda3/lib/python3.7/site-packages/ipykernel_launcher.py:378: UserWarning: The MDS API has changed. ``fit`` now constructs an dissimilarity matrix from data. To use a custom dissimilarity matrix, set ``dissimilarity='precomputed'``.\n"
     ]
    },
    {
     "name": "stdout",
     "output_type": "stream",
     "text": [
      "Stress of the method : 0.018186\n"
     ]
    },
    {
     "name": "stderr",
     "output_type": "stream",
     "text": [
      "//anaconda3/lib/python3.7/site-packages/ipykernel_launcher.py:378: UserWarning: The MDS API has changed. ``fit`` now constructs an dissimilarity matrix from data. To use a custom dissimilarity matrix, set ``dissimilarity='precomputed'``.\n"
     ]
    },
    {
     "name": "stdout",
     "output_type": "stream",
     "text": [
      "Stress of the method : 0.015469\n"
     ]
    },
    {
     "name": "stderr",
     "output_type": "stream",
     "text": [
      "//anaconda3/lib/python3.7/site-packages/ipykernel_launcher.py:378: UserWarning: The MDS API has changed. ``fit`` now constructs an dissimilarity matrix from data. To use a custom dissimilarity matrix, set ``dissimilarity='precomputed'``.\n"
     ]
    },
    {
     "name": "stdout",
     "output_type": "stream",
     "text": [
      "Stress of the method : 0.012428\n"
     ]
    },
    {
     "name": "stderr",
     "output_type": "stream",
     "text": [
      "//anaconda3/lib/python3.7/site-packages/ipykernel_launcher.py:378: UserWarning: The MDS API has changed. ``fit`` now constructs an dissimilarity matrix from data. To use a custom dissimilarity matrix, set ``dissimilarity='precomputed'``.\n"
     ]
    },
    {
     "name": "stdout",
     "output_type": "stream",
     "text": [
      "Stress of the method : 0.010245\n"
     ]
    },
    {
     "name": "stderr",
     "output_type": "stream",
     "text": [
      "//anaconda3/lib/python3.7/site-packages/ipykernel_launcher.py:378: UserWarning: The MDS API has changed. ``fit`` now constructs an dissimilarity matrix from data. To use a custom dissimilarity matrix, set ``dissimilarity='precomputed'``.\n"
     ]
    },
    {
     "name": "stdout",
     "output_type": "stream",
     "text": [
      "Stress of the method : 0.007366\n"
     ]
    },
    {
     "name": "stderr",
     "output_type": "stream",
     "text": [
      "//anaconda3/lib/python3.7/site-packages/ipykernel_launcher.py:378: UserWarning: The MDS API has changed. ``fit`` now constructs an dissimilarity matrix from data. To use a custom dissimilarity matrix, set ``dissimilarity='precomputed'``.\n"
     ]
    },
    {
     "name": "stdout",
     "output_type": "stream",
     "text": [
      "Stress of the method : 0.006191\n"
     ]
    },
    {
     "name": "stderr",
     "output_type": "stream",
     "text": [
      "//anaconda3/lib/python3.7/site-packages/ipykernel_launcher.py:378: UserWarning: The MDS API has changed. ``fit`` now constructs an dissimilarity matrix from data. To use a custom dissimilarity matrix, set ``dissimilarity='precomputed'``.\n"
     ]
    },
    {
     "name": "stdout",
     "output_type": "stream",
     "text": [
      "Stress of the method : 0.004938\n"
     ]
    },
    {
     "name": "stderr",
     "output_type": "stream",
     "text": [
      "//anaconda3/lib/python3.7/site-packages/ipykernel_launcher.py:378: UserWarning: The MDS API has changed. ``fit`` now constructs an dissimilarity matrix from data. To use a custom dissimilarity matrix, set ``dissimilarity='precomputed'``.\n"
     ]
    },
    {
     "name": "stdout",
     "output_type": "stream",
     "text": [
      "Stress of the method : 0.003752\n"
     ]
    },
    {
     "name": "stderr",
     "output_type": "stream",
     "text": [
      "//anaconda3/lib/python3.7/site-packages/ipykernel_launcher.py:378: UserWarning: The MDS API has changed. ``fit`` now constructs an dissimilarity matrix from data. To use a custom dissimilarity matrix, set ``dissimilarity='precomputed'``.\n"
     ]
    },
    {
     "name": "stdout",
     "output_type": "stream",
     "text": [
      "Stress of the method : 0.002746\n"
     ]
    },
    {
     "name": "stderr",
     "output_type": "stream",
     "text": [
      "//anaconda3/lib/python3.7/site-packages/ipykernel_launcher.py:378: UserWarning: The MDS API has changed. ``fit`` now constructs an dissimilarity matrix from data. To use a custom dissimilarity matrix, set ``dissimilarity='precomputed'``.\n"
     ]
    },
    {
     "name": "stdout",
     "output_type": "stream",
     "text": [
      "Stress of the method : 0.003697\n"
     ]
    },
    {
     "name": "stderr",
     "output_type": "stream",
     "text": [
      "//anaconda3/lib/python3.7/site-packages/ipykernel_launcher.py:378: UserWarning: The MDS API has changed. ``fit`` now constructs an dissimilarity matrix from data. To use a custom dissimilarity matrix, set ``dissimilarity='precomputed'``.\n"
     ]
    },
    {
     "name": "stdout",
     "output_type": "stream",
     "text": [
      "Stress of the method : 0.002329\n"
     ]
    }
   ],
   "source": [
    "from sklearn.cluster import KMeans\n",
    "\n",
    "max_prec = 0\n",
    "dim = 0\n",
    "prec = np.zeros((N-1,1))\n",
    "\n",
    "for i in range(1,N):\n",
    "    points,stress = computeMDSCoordinate(i)\n",
    "    \n",
    "    #K-Means\n",
    "    kmeans = KMeans(n_clusters=2, random_state=0).fit(points)\n",
    "\n",
    "    prec[i-1] = sum(condition==kmeans.labels_)/N\n",
    "    if prec[i-1] > max_prec:\n",
    "        max_prec = prec[i-1]\n",
    "        label = kmeans.labels_\n",
    "        dim = i"
   ]
  },
  {
   "cell_type": "code",
   "execution_count": 256,
   "metadata": {},
   "outputs": [
    {
     "name": "stdout",
     "output_type": "stream",
     "text": [
      "2\n",
      "[0 1 1 0 0 0 1 0 0 0 0 0 1 0 1 1 1 0 1 1 1 1 0 1 1 0]\n",
      "[0 1 0 1 0 0 1 0 1 0 1 0 1 0 1 1 0 0 0 1 1 1 0 1 1 0]\n",
      "0.7692307692307693\n"
     ]
    },
    {
     "data": {
      "image/png": "[encoded data removed]",
      "text/plain": [
       "<Figure size 432x288 with 1 Axes>"
      ]
     },
     "metadata": {
      "needs_background": "light"
     },
     "output_type": "display_data"
    }
   ],
   "source": [
    "plt.plot(np.arange(1,N),prec)\n",
    "plt.xlabel(\"number of mds dimensions\")\n",
    "plt.ylabel(\"K-Means precision\")\n",
    "    \n",
    "print(dim)\n",
    "print(label)\n",
    "print(condition)\n",
    "print(sum(condition==label)/N)"
   ]
  },
  {
   "cell_type": "code",
   "execution_count": null,
   "metadata": {},
   "outputs": [],
   "source": []
  }
 ],
 "metadata": {
  "kernelspec": {
   "display_name": "Python 3",
   "language": "python",
   "name": "python3"
  },
  "language_info": {
   "codemirror_mode": {
    "name": "ipython",
    "version": 3
   },
   "file_extension": ".py",
   "mimetype": "text/x-python",
   "name": "python",
   "nbconvert_exporter": "python",
   "pygments_lexer": "ipython3",
   "version": "3.7.3"
  }
 },
 "nbformat": 4,
 "nbformat_minor": 4
}
