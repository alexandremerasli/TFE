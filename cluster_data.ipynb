{
 "cells": [
  {
   "cell_type": "markdown",
   "metadata": {},
   "source": [
    "## Load packages"
   ]
  },
  {
   "cell_type": "code",
   "execution_count": 109,
   "metadata": {},
   "outputs": [],
   "source": [
    "import numpy as np\n",
    "import os\n",
    "import matplotlib.pyplot as plt\n",
    "import csv"
   ]
  },
  {
   "cell_type": "markdown",
   "metadata": {},
   "source": [
    "## Load and show data"
   ]
  },
  {
   "cell_type": "markdown",
   "metadata": {},
   "source": [
    "### Matrices\n"
   ]
  },
  {
   "cell_type": "code",
   "execution_count": 110,
   "metadata": {},
   "outputs": [
    {
     "name": "stdout",
     "output_type": "stream",
     "text": [
      "Haven't found any outliers for the moment\n"
     ]
    },
    {
     "data": {
      "image/png": "[encoded data removed]",
      "text/plain": [
       "<Figure size 432x288 with 2 Axes>"
      ]
     },
     "metadata": {
      "needs_background": "light"
     },
     "output_type": "display_data"
    },
    {
     "data": {
      "image/png": "[encoded data removed]",
      "text/plain": [
       "<Figure size 288x288 with 2 Axes>"
      ]
     },
     "metadata": {
      "needs_background": "light"
     },
     "output_type": "display_data"
    }
   ],
   "source": [
    "# Load CSV files\n",
    "ISC_EEG = np.genfromtxt(os.path.join('ISC_EEG.csv'),delimiter=',')\n",
    "ISC_EEG = np.array(ISC_EEG,dtype='float') # Convert into array\n",
    "\n",
    "ISC_EDA = np.genfromtxt(os.path.join('ISC_EDA.csv'),delimiter=',')\n",
    "ISC_EDA = np.array(ISC_EDA,dtype='float') # Convert into array\n",
    "\n",
    "ISC_IBI = np.genfromtxt(os.path.join('ISC_IBI.csv'),delimiter=',')\n",
    "ISC_IBI = np.array(ISC_IBI,dtype='float') # Convert into array\n",
    "\n",
    "# Seeing if negative data have same order of magnitude as positive data \n",
    "def orderOfMagnitude(matrix):\n",
    "    for i in range(len(matrix)):\n",
    "        matrix[i,i] = 0\n",
    "    neg = matrix[matrix<0]\n",
    "    plt.subplot(121)\n",
    "    plt.boxplot(neg)\n",
    "    plt.title(\"data negative values\")\n",
    "    \n",
    "    pos = matrix[matrix>0]\n",
    "    plt.subplot(122)\n",
    "    plt.boxplot(pos)\n",
    "    plt.title(\"data positive values \")\n",
    "    \n",
    "# Remove outlier in array if we find one\n",
    "def removeOutlierArray(matrix,subject):\n",
    "    new_mat = np.copy(matrix)\n",
    "    new_mat = np.delete(new_mat, (subject), axis=0)\n",
    "    new_mat = np.delete(new_mat, (subject), axis=1)\n",
    "    \n",
    "    with open(os.path.join('ISC_truncated.csv'), 'w') as File:\n",
    "        writer = csv.writer(File)\n",
    "        writer.writerows(matrix)\n",
    "    \n",
    "    return new_mat\n",
    "\n",
    "# Remove outlier in vector if we find one\n",
    "def removeOutlierVector(vector,subject):\n",
    "    new_vect = np.copy(vector)\n",
    "    new_vect = np.delete(new_vect, (subject), axis=0)\n",
    "    return new_vect\n",
    "\n",
    "'''\n",
    "# Remove outliers everywhere\n",
    "def removeOutlier(matrix,condition,subject):\n",
    "    removeOutlierArray(matrix,subject)\n",
    "    removeOutlierVector(condition,subject)\n",
    "'''\n",
    "    \n",
    "# Remove Inf in data for EDA and IBI (replace by 10 for the moment, greater than non diagonal values (1.9 for EDA and 2.5 for IBI))\n",
    "for i in range(len(ISC_IBI)):\n",
    "    ISC_IBI[i,i] = 100\n",
    "    ISC_EDA[i,i] = 100\n",
    "    \n",
    "# Choose matrix to study\n",
    "case = 'IBI'\n",
    "removeOutlier = True # Remove outliers if there are some\n",
    "\n",
    "if (case == 'EEG'):\n",
    "    if (removeOutlier): # Remove outliers if there are some\n",
    "        ISC_EEG = removeOutlierArray(ISC_EEG,3) # Really outlier?\n",
    "    study_matrix = ISC_EEG\n",
    "elif (case == 'EDA'):\n",
    "    if (removeOutlier): # Remove outliers if there are some\n",
    "        #ISC_EDA = removeOutlierArray(ISC_EDA,12) # Really outlier?\n",
    "        #ISC_EDA = removeOutlierArray(ISC_EDA,20) # Really outlier?\n",
    "        ISC_EDA = removeOutlierArray(ISC_EDA,17)\n",
    "    study_matrix = ISC_EDA\n",
    "elif (case == 'IBI'):\n",
    "    if (removeOutlier): # Remove outliers if there are some\n",
    "        print(\"Haven't found any outliers for the moment\")\n",
    "        # ISC_IBI = removeOutlierArray(ISC_IBI,)\n",
    "    study_matrix = ISC_IBI\n",
    "\n",
    "N = len(study_matrix)\n",
    "\n",
    "# Boxplot\n",
    "orderOfMagnitude(np.copy(study_matrix))\n",
    "\n",
    "# Show matrix data\n",
    "plt.matshow(study_matrix, cmap=plt.cm.Blues)\n",
    "plt.title(\"Original dataset\")\n",
    "plt.colorbar()\n",
    "plt.show()"
   ]
  },
  {
   "cell_type": "markdown",
   "metadata": {},
   "source": [
    "### True groups"
   ]
  },
  {
   "cell_type": "code",
   "execution_count": 111,
   "metadata": {},
   "outputs": [
    {
     "name": "stdout",
     "output_type": "stream",
     "text": [
      "Haven't found any outliers for the moment\n"
     ]
    }
   ],
   "source": [
    "# Load true clusters\n",
    "condition = np.genfromtxt(os.path.join('condition.csv'),delimiter=',')\n",
    "condition = np.array(condition,dtype='int') # Convert into array\n",
    "if (removeOutlier): # Remove outliers if there are some\n",
    "    if (case == 'EEG'):\n",
    "        condition = removeOutlierVector(condition,3) # Really outlier?\n",
    "    elif (case == 'EDA'):\n",
    "        #condition = removeOutlierVector(condition,12) # Really outlier?\n",
    "        #condition = removeOutlierVector(condition,20) # Really outlier?\n",
    "        condition = removeOutlierVector(condition,17) # Really outlier?\n",
    "    elif (case == 'IBI'):\n",
    "        print(\"Haven't found any outliers for the moment\")\n",
    "        # condition = removeOutlierVector(condition,) # Really outlier?\n",
    "\n",
    "narrative = np.where(condition == 0)[0]\n",
    "stimulus = np.where(condition == 1)[0]"
   ]
  },
  {
   "cell_type": "markdown",
   "metadata": {},
   "source": [
    "### Compute distance matrix"
   ]
  },
  {
   "cell_type": "code",
   "execution_count": 112,
   "metadata": {},
   "outputs": [
    {
     "data": {
      "text/plain": [
       "'\\n# Normalise data\\nfor i in range(len(matrix)):\\n    matrix[:,i] = (matrix[:,i] - np.mean(matrix[:,i])) / np.std(matrix[:,i])\\n'"
      ]
     },
     "execution_count": 112,
     "metadata": {},
     "output_type": "execute_result"
    }
   ],
   "source": [
    "import scipy.spatial.distance as ssd\n",
    "\n",
    "def computeDistanceMatrix(normalisation=1,uncondensed=False): # Choose normalisation between 1 and 45, \n",
    "                                            # 45 means bigger non diagonal correlations almost 1\n",
    "    # Change matrix diagonal value (kind of normalisation)\n",
    "    matrix_norm = np.copy(study_matrix)\n",
    "    for i in range(len(matrix_norm)):\n",
    "        matrix_norm[i,i] = 0\n",
    "    maxi = np.max(abs(matrix_norm)) # Max value except from the diagonal\n",
    "\n",
    "    for i in range(len(matrix_norm)):\n",
    "        #matrix_norm[i,i] = maxi\n",
    "        matrix_norm[i,i] = np.max(study_matrix)/normalisation\n",
    "\n",
    "    # Normalise max value to 1\n",
    "    matrix_norm = matrix_norm / np.max(abs(matrix_norm))\n",
    "\n",
    "    # Compute distance matrix\n",
    "    #distance_matrix = np.sqrt(2*N*(1-matrix_norm))\n",
    "    distance_matrix = 1-matrix_norm\n",
    "    \n",
    "    # Normalisation to avoid negative eigen values in PCoA\n",
    "    distance_matrix = distance_matrix + add_coef\n",
    "    for i in range(len(study_matrix)):\n",
    "        distance_matrix[i,i] = 0\n",
    "    \n",
    "    # Transform matrix into unconsed matrix\n",
    "    if (uncondensed):\n",
    "        # convert the redundant n*n square matrix form into a condensed nC2 array\n",
    "        distance_matrix = ssd.squareform(distance_matrix)\n",
    "        \n",
    "    ## Write new CSV file with all data\n",
    "    if (uncondensed==False):\n",
    "        with open(os.path.join('dist_'+ case + '.csv'), 'w') as File:\n",
    "            writer = csv.writer(File)\n",
    "            writer.writerows(distance_matrix)\n",
    "\n",
    "    return distance_matrix  \n",
    "    \n",
    "'''\n",
    "# Normalise data\n",
    "for i in range(len(matrix)):\n",
    "    matrix[:,i] = (matrix[:,i] - np.mean(matrix[:,i])) / np.std(matrix[:,i])\n",
    "'''"
   ]
  },
  {
   "cell_type": "code",
   "execution_count": 113,
   "metadata": {},
   "outputs": [
    {
     "data": {
      "image/png": "[encoded data removed]",
      "text/plain": [
       "<Figure size 288x288 with 2 Axes>"
      ]
     },
     "metadata": {
      "needs_background": "light"
     },
     "output_type": "display_data"
    }
   ],
   "source": [
    "norm_coef = 45\n",
    "add_coef = 2\n",
    "distance_matrix = computeDistanceMatrix(norm_coef) # Choose between 1 and 45, \n",
    "                                            # 45 means bigger non diagonal correlations almost 1\n",
    "study_matrix_norm = 1-(distance_matrix-add_coef)\n",
    "for i in range(len(study_matrix)):\n",
    "    study_matrix_norm[i,i] = 1\n",
    "\n",
    "plt.matshow(study_matrix_norm, cmap=plt.cm.Blues)\n",
    "plt.title(\"Normalised dataset\")\n",
    "plt.colorbar()\n",
    "plt.show()"
   ]
  },
  {
   "cell_type": "markdown",
   "metadata": {},
   "source": [
    "## Bloc modelling / Bi-clustering"
   ]
  },
  {
   "cell_type": "code",
   "execution_count": 114,
   "metadata": {},
   "outputs": [
    {
     "data": {
      "image/png": "[encoded data removed]",
      "text/plain": [
       "<Figure size 288x288 with 2 Axes>"
      ]
     },
     "metadata": {
      "needs_background": "light"
     },
     "output_type": "display_data"
    }
   ],
   "source": [
    "from sklearn.cluster import SpectralCoclustering\n",
    "\n",
    "# Fit the model\n",
    "cocluster = SpectralCoclustering(n_clusters=2, random_state=0)\n",
    "cocluster.fit(study_matrix_norm)\n",
    "'''\n",
    "score = consensus_score(model.biclusters_,\n",
    "                        (rows[:, row_idx], columns[:, col_idx]))\n",
    "\n",
    "print(\"consensus score: {:.3f}\".format(score))\n",
    "'''\n",
    "fit_data = study_matrix_norm[np.argsort(cocluster.row_labels_)]\n",
    "fit_data = fit_data[:, np.argsort(cocluster.column_labels_)]\n",
    "\n",
    "# Show results\n",
    "plt.matshow(fit_data, cmap=plt.cm.Blues)\n",
    "plt.title(\"After biclustering; rearranged to show biclusters\")\n",
    "plt.colorbar()\n",
    "plt.show()"
   ]
  },
  {
   "cell_type": "code",
   "execution_count": 115,
   "metadata": {},
   "outputs": [
    {
     "data": {
      "image/png": "[encoded data removed]",
      "text/plain": [
       "<Figure size 288x288 with 2 Axes>"
      ]
     },
     "metadata": {
      "needs_background": "light"
     },
     "output_type": "display_data"
    }
   ],
   "source": [
    "# Show matrix inverse (decorrelation?)\n",
    "decorr = np.linalg.inv(study_matrix)\n",
    "\n",
    "plt.matshow(decorr, cmap=plt.cm.Blues)\n",
    "plt.colorbar()\n",
    "plt.show()"
   ]
  },
  {
   "cell_type": "markdown",
   "metadata": {},
   "source": [
    "## Hierarchical clustering"
   ]
  },
  {
   "cell_type": "markdown",
   "metadata": {},
   "source": [
    "### Hierarchical clustering based on correlation (diagonal normalised)"
   ]
  },
  {
   "cell_type": "code",
   "execution_count": 116,
   "metadata": {},
   "outputs": [
    {
     "data": {
      "image/png": "[encoded data removed]",
      "text/plain": [
       "<Figure size 432x288 with 1 Axes>"
      ]
     },
     "metadata": {
      "needs_background": "light"
     },
     "output_type": "display_data"
    }
   ],
   "source": [
    "from scipy.cluster.hierarchy import dendrogram, linkage\n",
    "\n",
    "Z=linkage(study_matrix_norm,'single','correlation',optimal_ordering=True)\n",
    "dendrogram(Z, color_threshold=0)\n",
    "plt.show()"
   ]
  },
  {
   "cell_type": "code",
   "execution_count": 117,
   "metadata": {},
   "outputs": [
    {
     "name": "stdout",
     "output_type": "stream",
     "text": [
      "group 0 (NA) :  [ 0  2  4  5  7  9 11 13 16 17 18 22 25]\n",
      "group 1 (SSA):  [ 1  3  6  8 10 12 14 15 19 20 21 23 24]\n"
     ]
    }
   ],
   "source": [
    "print(\"group 0 (NA) : \",narrative)\n",
    "print(\"group 1 (SSA): \",stimulus)"
   ]
  },
  {
   "cell_type": "markdown",
   "metadata": {},
   "source": [
    "### Hierarchical clustering based on euclidean distance"
   ]
  },
  {
   "cell_type": "code",
   "execution_count": 118,
   "metadata": {},
   "outputs": [
    {
     "data": {
      "image/png": "[encoded data removed]",
      "text/plain": [
       "<Figure size 288x288 with 2 Axes>"
      ]
     },
     "metadata": {
      "needs_background": "light"
     },
     "output_type": "display_data"
    }
   ],
   "source": [
    "distance_matrix = computeDistanceMatrix(norm_coef)\n",
    "plt.matshow(distance_matrix, cmap=plt.cm.Blues)\n",
    "plt.title(\"Euclidean distance\")\n",
    "plt.colorbar()\n",
    "plt.show()"
   ]
  },
  {
   "cell_type": "code",
   "execution_count": 119,
   "metadata": {},
   "outputs": [
    {
     "data": {
      "image/png": "[encoded data removed]",
      "text/plain": [
       "<Figure size 432x288 with 1 Axes>"
      ]
     },
     "metadata": {
      "needs_background": "light"
     },
     "output_type": "display_data"
    },
    {
     "name": "stdout",
     "output_type": "stream",
     "text": [
      "Found clusters \n",
      "[1 1 1 1 0 0 0 0 1 0 0 1 0 1 1 1 1 1 0 1 1 1 0 0 1 1]\n",
      "True clusters \n",
      "[0 1 0 1 0 0 1 0 1 0 1 0 1 0 1 1 0 0 0 1 1 1 0 1 1 0]\n",
      "Well classified\n",
      "[ 1  3  4  5  7  8  9 14 15 18 19 20 21 22 24]\n",
      "Wrong classified\n",
      "[ 0  2  6 10 11 12 13 16 17 23 25]\n",
      "Precision : 0.576923\n"
     ]
    }
   ],
   "source": [
    "from scipy.cluster.hierarchy import dendrogram, linkage, fcluster\n",
    "\n",
    "distance_matrix = computeDistanceMatrix(norm_coef,uncondensed=True)\n",
    "Z=linkage(distance_matrix,'ward','euclidean',optimal_ordering=True)\n",
    "thresold = 3.9 #3.5 EEG, 3.9 EDA, 3.9 IBI\n",
    "dendrogram(Z, color_threshold=thresold)\n",
    "plt.show()\n",
    "\n",
    "print(\"Found clusters \")\n",
    "label = (fcluster(Z, t=thresold, criterion='distance')-1)\n",
    "print(label)\n",
    "print(\"True clusters \")\n",
    "print(condition)\n",
    "\n",
    "subjects = np.arange(0,N)\n",
    "wellClassified = subjects[label==condition]\n",
    "wrongClassified = subjects[label!=condition]\n",
    "SSA_HC = subjects[label==1] # Maybe NA\n",
    "NA_HC = subjects[label==0] # Maybe SSA\n",
    "print(\"Well classified\")\n",
    "print(wellClassified)\n",
    "print(\"Wrong classified\")\n",
    "print(wrongClassified)\n",
    "prec = len(wellClassified)/N\n",
    "print(\"Precision : %f\" %prec)\n",
    "#[ 0  2  3  7  8 10 16 18 25]"
   ]
  },
  {
   "cell_type": "code",
   "execution_count": 120,
   "metadata": {},
   "outputs": [
    {
     "name": "stdout",
     "output_type": "stream",
     "text": [
      "group 0 (NA) :  [ 0  2  4  5  7  9 11 13 16 17 18 22 25]\n",
      "group 1 (SSA):  [ 1  3  6  8 10 12 14 15 19 20 21 23 24]\n"
     ]
    }
   ],
   "source": [
    "print(\"group 0 (NA) : \",narrative)\n",
    "print(\"group 1 (SSA): \",stimulus)"
   ]
  },
  {
   "cell_type": "markdown",
   "metadata": {},
   "source": [
    "## K-Medoids"
   ]
  },
  {
   "cell_type": "code",
   "execution_count": 191,
   "metadata": {},
   "outputs": [],
   "source": [
    "def kMedoids(D, k, tmax=100):\n",
    "    # determine dimensions of distance matrix D\n",
    "    m, n = D.shape\n",
    "\n",
    "    # initialize k medoid indices thanks to HC results\n",
    "    M = np.zeros((k,1),dtype=int)\n",
    "    J = np.mean(D[np.ix_(NA_HC,NA_HC)],axis=1)\n",
    "    j = np.argmin(J)\n",
    "    M[0] = NA_HC[j]\n",
    "    \n",
    "    J = np.mean(D[np.ix_(SSA_HC,SSA_HC)],axis=1)\n",
    "    j = np.argmin(J)\n",
    "    M[1] = SSA_HC[j]\n",
    "    # randomly initialize an array of k medoid indices\n",
    "    # M = np.sort(np.random.choice(n, k))   \n",
    "\n",
    "    # create a copy of the array of medoid indices\n",
    "    Mnew = np.copy(M)\n",
    "    # initialize a dictionary to represent clusters\n",
    "    C = {}\n",
    "    for t in range(tmax):\n",
    "        # determine clusters, i.e. arrays of data indices\n",
    "        J = np.argmin(D[:,M], axis=1)\n",
    "        for kappa in range(k):\n",
    "            C[kappa] = np.where(J==kappa)[0]\n",
    "        \n",
    "        # update cluster medoids\n",
    "        for kappa in range(k):\n",
    "            J = np.mean(D[np.ix_(C[kappa],C[kappa])],axis=1)\n",
    "            j = np.argmin(J)\n",
    "            Mnew[kappa] = C[kappa][j]\n",
    "        np.sort(Mnew)\n",
    "        \n",
    "        # check for convergence\n",
    "        if np.array_equal(M, Mnew):\n",
    "            print(\"procedure converged after %i iterations\" %t)\n",
    "            break\n",
    "            M = np.copy(Mnew)\n",
    "\n",
    "    if (t==tmax-1): # procedure did not converge\n",
    "        print(\"procedure did not converge\")\n",
    "        # final update of cluster memberships\n",
    "        J = np.argmin(D[:,M], axis=1)\n",
    "        for kappa in range(k):\n",
    "            C[kappa] = np.where(J==kappa)[0]\n",
    "    # return results\n",
    "    return M, C"
   ]
  },
  {
   "cell_type": "code",
   "execution_count": 192,
   "metadata": {},
   "outputs": [
    {
     "name": "stdout",
     "output_type": "stream",
     "text": [
      "procedure converged after 0 iterations\n",
      "Found clusters \n",
      "[1 1 0 1 1 0 0 0 0 1 0 1 0 1 0 1 1 1 0 0 0 1 0 0 1 1]\n",
      "True clusters \n",
      "[0 1 0 1 0 0 1 0 1 0 1 0 1 0 1 1 0 0 0 1 1 1 0 1 1 0]\n",
      "Well classified\n",
      "[ 1  2  3  5  7 15 18 21 22 24]\n",
      "Wrong classified\n",
      "[ 0  4  6  8  9 10 11 12 13 14 16 17 19 20 23 25]\n",
      "Precision : 0.384615\n"
     ]
    }
   ],
   "source": [
    "distance_matrix = computeDistanceMatrix(norm_coef)\n",
    "M,C = kMedoids(distance_matrix, 2, tmax=1000)\n",
    "NA_medoids = C[0] # Maybe SSA\n",
    "SSA_medoids = C[1] # Maybe NA\n",
    "\n",
    "print(\"Found clusters \")\n",
    "for subj in range(N):\n",
    "    if subj in NA_medoids:\n",
    "        label[subj] = 0\n",
    "    else:\n",
    "        label[subj] = 1\n",
    "print(label)\n",
    "print(\"True clusters \")\n",
    "print(condition)\n",
    "\n",
    "subjects = np.arange(0,N)\n",
    "wellClassified = subjects[label==condition]\n",
    "wrongClassified = subjects[label!=condition]\n",
    "\n",
    "print(\"Well classified\")\n",
    "print(wellClassified)\n",
    "print(\"Wrong classified\")\n",
    "print(wrongClassified)\n",
    "prec = len(wellClassified)/N\n",
    "print(\"Precision : %f\" %prec)"
   ]
  },
  {
   "cell_type": "markdown",
   "metadata": {},
   "source": [
    "## Multi Dimensionnal Scaling"
   ]
  },
  {
   "cell_type": "code",
   "execution_count": null,
   "metadata": {},
   "outputs": [],
   "source": [
    "\"\"\"\n",
    "Multi-dimensional Scaling (MDS)\n",
    "\"\"\"\n",
    "\n",
    "# author: Nelle Varoquaux <nelle.varoquaux@gmail.com>\n",
    "# License: BSD\n",
    "\n",
    "import numpy as np\n",
    "\n",
    "import warnings\n",
    "\n",
    "from sklearn.base import BaseEstimator\n",
    "from sklearn.metrics import euclidean_distances\n",
    "from sklearn.utils import check_random_state, check_array, check_symmetric\n",
    "from sklearn.externals.joblib import Parallel\n",
    "from sklearn.externals.joblib import delayed\n",
    "from sklearn.isotonic import IsotonicRegression\n",
    "\n",
    "\n",
    "def _smacof_single(dissimilarities, metric=True, n_components=2, init=None,\n",
    "                   max_iter=300, verbose=0, eps=1e-3, random_state=None,\n",
    "                   normalize=False):\n",
    "    \"\"\"Computes multidimensional scaling using SMACOF algorithm\n",
    "    Parameters\n",
    "    ----------\n",
    "    dissimilarities : ndarray, shape (n_samples, n_samples)\n",
    "        Pairwise dissimilarities between the points. Must be symmetric.\n",
    "    metric : boolean, optional, default: True\n",
    "        Compute metric or nonmetric SMACOF algorithm.\n",
    "    n_components : int, optional, default: 2\n",
    "        Number of dimensions in which to immerse the dissimilarities. If an\n",
    "        ``init`` array is provided, this option is overridden and the shape of\n",
    "        ``init`` is used to determine the dimensionality of the embedding\n",
    "        space.\n",
    "    init : ndarray, shape (n_samples, n_components), optional, default: None\n",
    "        Starting configuration of the embedding to initialize the algorithm. By\n",
    "        default, the algorithm is initialized with a randomly chosen array.\n",
    "    max_iter : int, optional, default: 300\n",
    "        Maximum number of iterations of the SMACOF algorithm for a single run.\n",
    "    verbose : int, optional, default: 0\n",
    "        Level of verbosity.\n",
    "    eps : float, optional, default: 1e-3\n",
    "        Relative tolerance with respect to stress at which to declare\n",
    "        convergence.\n",
    "    random_state : int, RandomState instance or None, optional, default: None\n",
    "        The generator used to initialize the centers.  If int, random_state is\n",
    "        the seed used by the random number generator; If RandomState instance,\n",
    "        random_state is the random number generator; If None, the random number\n",
    "        generator is the RandomState instance used by `np.random`.\n",
    "    normalize : boolean, optional, default: False\n",
    "        Whether use and return normed stress value (Stress-1) instead of raw\n",
    "        stress calculated by default.\n",
    "    Returns\n",
    "    -------\n",
    "    X : ndarray, shape (n_samples, n_components)\n",
    "        Coordinates of the points in a ``n_components``-space.\n",
    "    stress : float\n",
    "        The final value of the stress. By default, sum of squared distance\n",
    "        of the disparities and the distances for all constrained points.\n",
    "        If normalize is set to True, returns Stress-1 (according to\n",
    "        Kruskal (1964, p. 3) value 0 indicates \"perfect\" fit, 0.025\n",
    "        excellent, 0.05 good, 0.1 fair, and 0.2 poor).\n",
    "    n_iter : int\n",
    "        The number of iterations corresponding to the best stress.\n",
    "    \"\"\"\n",
    "    dissimilarities = check_symmetric(dissimilarities, raise_exception=True)\n",
    "\n",
    "    n_samples = dissimilarities.shape[0]\n",
    "    random_state = check_random_state(random_state)\n",
    "\n",
    "    sim_flat = ((1 - np.tri(n_samples)) * dissimilarities).ravel()\n",
    "    sim_flat_w = sim_flat[sim_flat != 0]\n",
    "    if init is None:\n",
    "        # Randomly choose initial configuration\n",
    "        X = random_state.rand(n_samples * n_components)\n",
    "        X = X.reshape((n_samples, n_components))\n",
    "    else:\n",
    "        # overrides the parameter p\n",
    "        n_components = init.shape[1]\n",
    "        if n_samples != init.shape[0]:\n",
    "            raise ValueError(\"init matrix should be of shape (%d, %d)\" %\n",
    "                             (n_samples, n_components))\n",
    "        X = init\n",
    "\n",
    "    old_stress = None\n",
    "    ir = IsotonicRegression()\n",
    "    for it in range(max_iter):\n",
    "        # Compute distance and monotonic regression\n",
    "        dis = euclidean_distances(X)\n",
    "\n",
    "        if metric:\n",
    "            disparities = dissimilarities\n",
    "        else:\n",
    "            dis_flat = dis.ravel()\n",
    "            # dissimilarities with 0 are considered as missing values\n",
    "            dis_flat_w = dis_flat[sim_flat != 0]\n",
    "\n",
    "            # Compute the disparities using a monotonic regression\n",
    "            disparities_flat = ir.fit_transform(sim_flat_w, dis_flat_w)\n",
    "            disparities = dis_flat.copy()\n",
    "            disparities[sim_flat != 0] = disparities_flat\n",
    "            disparities = disparities.reshape((n_samples, n_samples))\n",
    "            disparities *= np.sqrt((n_samples * (n_samples - 1) / 2) /\n",
    "                                   (disparities ** 2).sum())\n",
    "\n",
    "        # Compute raw stress\n",
    "        stress = ((dis.ravel() - disparities.ravel()) ** 2).sum() / 2\n",
    "\n",
    "        # Use Stress-1\n",
    "        if normalize:\n",
    "            stress = np.sqrt(stress /\n",
    "                             ((disparities.ravel() ** 2).sum() / 2))\n",
    "\n",
    "        # Update X using the Guttman transform\n",
    "        dis[dis == 0] = 1e-5\n",
    "        ratio = disparities / dis\n",
    "        B = - ratio\n",
    "        B[np.arange(len(B)), np.arange(len(B))] += ratio.sum(axis=1)\n",
    "        X = 1. / n_samples * np.dot(B, X)\n",
    "\n",
    "        dis = np.sqrt((X ** 2).sum(axis=1)).sum()\n",
    "        if verbose >= 2:\n",
    "            print('it: %d, stress %s' % (it, stress))\n",
    "        if old_stress is not None:\n",
    "            if(old_stress - stress / dis) < eps:\n",
    "                if verbose:\n",
    "                    print('breaking at iteration %d with stress %s' % (it,\n",
    "                                                                       stress))\n",
    "                break\n",
    "        old_stress = stress / dis\n",
    "\n",
    "    return X, stress, it + 1\n",
    "\n",
    "\n",
    "def smacof(dissimilarities, metric=True, n_components=2, init=None, n_init=8,\n",
    "           n_jobs=1, max_iter=300, verbose=0, eps=1e-3, random_state=None,\n",
    "           return_n_iter=False, normalize=False):\n",
    "    \"\"\"Computes multidimensional scaling using the SMACOF algorithm.\n",
    "    The SMACOF (Scaling by MAjorizing a COmplicated Function) algorithm is a\n",
    "    multidimensional scaling algorithm which minimizes an objective function\n",
    "    (the *stress*) using a majorization technique. Stress majorization, also\n",
    "    known as the Guttman Transform, guarantees a monotone convergence of\n",
    "    stress, and is more powerful than traditional techniques such as gradient\n",
    "    descent.\n",
    "    The SMACOF algorithm for metric MDS can summarized by the following steps:\n",
    "    1. Set an initial start configuration, randomly or not.\n",
    "    2. Compute the stress\n",
    "    3. Compute the Guttman Transform\n",
    "    4. Iterate 2 and 3 until convergence.\n",
    "    The nonmetric algorithm adds a monotonic regression step before computing\n",
    "    the stress.\n",
    "    Parameters\n",
    "    ----------\n",
    "    dissimilarities : ndarray, shape (n_samples, n_samples)\n",
    "        Pairwise dissimilarities between the points. Must be symmetric.\n",
    "    metric : boolean, optional, default: True\n",
    "        Compute metric or nonmetric SMACOF algorithm.\n",
    "    n_components : int, optional, default: 2\n",
    "        Number of dimensions in which to immerse the dissimilarities. If an\n",
    "        ``init`` array is provided, this option is overridden and the shape of\n",
    "        ``init`` is used to determine the dimensionality of the embedding\n",
    "        space.\n",
    "    init : ndarray, shape (n_samples, n_components), optional, default: None\n",
    "        Starting configuration of the embedding to initialize the algorithm. By\n",
    "        default, the algorithm is initialized with a randomly chosen array.\n",
    "    n_init : int, optional, default: 8\n",
    "        Number of times the SMACOF algorithm will be run with different\n",
    "        initializations. The final results will be the best output of the runs,\n",
    "        determined by the run with the smallest final stress. If ``init`` is\n",
    "        provided, this option is overridden and a single run is performed.\n",
    "    n_jobs : int, optional, default: 1\n",
    "        The number of jobs to use for the computation. If multiple\n",
    "        initializations are used (``n_init``), each run of the algorithm is\n",
    "        computed in parallel.\n",
    "        If -1 all CPUs are used. If 1 is given, no parallel computing code is\n",
    "        used at all, which is useful for debugging. For ``n_jobs`` below -1,\n",
    "        (``n_cpus + 1 + n_jobs``) are used. Thus for ``n_jobs = -2``, all CPUs\n",
    "        but one are used.\n",
    "    max_iter : int, optional, default: 300\n",
    "        Maximum number of iterations of the SMACOF algorithm for a single run.\n",
    "    verbose : int, optional, default: 0\n",
    "        Level of verbosity.\n",
    "    eps : float, optional, default: 1e-3\n",
    "        Relative tolerance with respect to stress at which to declare\n",
    "        convergence.\n",
    "    random_state : int, RandomState instance or None, optional, default: None\n",
    "        The generator used to initialize the centers.  If int, random_state is\n",
    "        the seed used by the random number generator; If RandomState instance,\n",
    "        random_state is the random number generator; If None, the random number\n",
    "        generator is the RandomState instance used by `np.random`.\n",
    "    return_n_iter : bool, optional, default: False\n",
    "        Whether or not to return the number of iterations.\n",
    "    normalize : boolean, optional, default: False\n",
    "        Whether use and return normed stress value (Stress-1) instead of raw\n",
    "        stress calculated by default.\n",
    "    Returns\n",
    "    -------\n",
    "    X : ndarray, shape (n_samples, n_components)\n",
    "        Coordinates of the points in a ``n_components``-space.\n",
    "    stress : float\n",
    "        The final value of the stress. By default, sum of squared distance\n",
    "        of the disparities and the distances for all constrained points.\n",
    "        If normalize is set to True, returns Stress-1 (according to\n",
    "        Kruskal (1964, p. 3) value 0 indicates \"perfect\" fit, 0.025\n",
    "        excellent, 0.05 good, 0.1 fair, and 0.2 poor).\n",
    "    n_iter : int\n",
    "        The number of iterations corresponding to the best stress. Returned\n",
    "        only if ``return_n_iter`` is set to ``True``.\n",
    "    Notes\n",
    "    -----\n",
    "    \"Modern Multidimensional Scaling - Theory and Applications\" Borg, I.;\n",
    "    Groenen P. Springer Series in Statistics (1997)\n",
    "    \"Nonmetric multidimensional scaling: a numerical method\" Kruskal, J.\n",
    "    Psychometrika, 29 (1964)\n",
    "    \"Multidimensional scaling by optimizing goodness of fit to a nonmetric\n",
    "    hypothesis\" Kruskal, J. Psychometrika, 29, (1964)\n",
    "    \"\"\"\n",
    "\n",
    "    dissimilarities = check_array(dissimilarities)\n",
    "    random_state = check_random_state(random_state)\n",
    "\n",
    "    if hasattr(init, '__array__'):\n",
    "        init = np.asarray(init).copy()\n",
    "        if not n_init == 1:\n",
    "            warnings.warn(\n",
    "                'Explicit initial positions passed: '\n",
    "                'performing only one init of the MDS instead of %d'\n",
    "                % n_init)\n",
    "            n_init = 1\n",
    "\n",
    "    best_pos, best_stress = None, None\n",
    "\n",
    "    if n_jobs == 1:\n",
    "        for it in range(n_init):\n",
    "            pos, stress, n_iter_ = _smacof_single(\n",
    "                dissimilarities, metric=metric,\n",
    "                n_components=n_components, init=init,\n",
    "                max_iter=max_iter, verbose=verbose,\n",
    "                eps=eps, random_state=random_state,\n",
    "                normalize=normalize)\n",
    "            if best_stress is None or stress < best_stress:\n",
    "                best_stress = stress\n",
    "                best_pos = pos.copy()\n",
    "                best_iter = n_iter_\n",
    "    else:\n",
    "        seeds = random_state.randint(np.iinfo(np.int32).max, size=n_init)\n",
    "        results = Parallel(n_jobs=n_jobs, verbose=max(verbose - 1, 0))(\n",
    "            delayed(_smacof_single)(\n",
    "                dissimilarities, metric=metric, n_components=n_components,\n",
    "                init=init, max_iter=max_iter, verbose=verbose, eps=eps,\n",
    "                random_state=seed, normalize=normalize)\n",
    "            for seed in seeds)\n",
    "        positions, stress, n_iters = zip(*results)\n",
    "        best = np.argmin(stress)\n",
    "        best_stress = stress[best]\n",
    "        best_pos = positions[best]\n",
    "        best_iter = n_iters[best]\n",
    "\n",
    "    if return_n_iter:\n",
    "        return best_pos, best_stress, best_iter\n",
    "    else:\n",
    "        return best_pos, best_stress\n",
    "\n",
    "\n",
    "class MDS(BaseEstimator):\n",
    "    \"\"\"Multidimensional scaling\n",
    "    Read more in the :ref:`User Guide <multidimensional_scaling>`.\n",
    "    Parameters\n",
    "    ----------\n",
    "    n_components : int, optional, default: 2\n",
    "        Number of dimensions in which to immerse the dissimilarities.\n",
    "    metric : boolean, optional, default: True\n",
    "        If ``True``, perform metric MDS; otherwise, perform nonmetric MDS.\n",
    "    n_init : int, optional, default: 4\n",
    "        Number of times the SMACOF algorithm will be run with different\n",
    "        initializations. The final results will be the best output of the runs,\n",
    "        determined by the run with the smallest final stress.\n",
    "    max_iter : int, optional, default: 300\n",
    "        Maximum number of iterations of the SMACOF algorithm for a single run.\n",
    "    verbose : int, optional, default: 0\n",
    "        Level of verbosity.\n",
    "    eps : float, optional, default: 1e-3\n",
    "        Relative tolerance with respect to stress at which to declare\n",
    "        convergence.\n",
    "    n_jobs : int, optional, default: 1\n",
    "        The number of jobs to use for the computation. If multiple\n",
    "        initializations are used (``n_init``), each run of the algorithm is\n",
    "        computed in parallel.\n",
    "        If -1 all CPUs are used. If 1 is given, no parallel computing code is\n",
    "        used at all, which is useful for debugging. For ``n_jobs`` below -1,\n",
    "        (``n_cpus + 1 + n_jobs``) are used. Thus for ``n_jobs = -2``, all CPUs\n",
    "        but one are used.\n",
    "    random_state : int, RandomState instance or None, optional, default: None\n",
    "        The generator used to initialize the centers.  If int, random_state is\n",
    "        the seed used by the random number generator; If RandomState instance,\n",
    "        random_state is the random number generator; If None, the random number\n",
    "        generator is the RandomState instance used by `np.random`.\n",
    "    dissimilarity : 'euclidean' | 'precomputed', optional, default: 'euclidean'\n",
    "        Dissimilarity measure to use:\n",
    "        - 'euclidean':\n",
    "            Pairwise Euclidean distances between points in the dataset.\n",
    "        - 'precomputed':\n",
    "            Pre-computed dissimilarities are passed directly to ``fit`` and\n",
    "            ``fit_transform``.\n",
    "    normalize : boolean, optional, default: False\n",
    "        Whether use and return normed stress value (Stress-1) instead of raw\n",
    "        stress calculated by default.\n",
    "    Attributes\n",
    "    ----------\n",
    "    embedding_ : array-like, shape (n_components, n_samples)\n",
    "        Stores the position of the dataset in the embedding space.\n",
    "    stress_ : float\n",
    "        The final value of the stress. By default, sum of squared distance\n",
    "        of the disparities and the distances for all constrained points.\n",
    "        If normalize is set to True, returns Stress-1 (according to\n",
    "        Kruskal (1964, p. 3) value 0 indicates \"perfect\" fit, 0.025\n",
    "        excellent, 0.05 good, 0.1 fair, and 0.2 poor).\n",
    "    References\n",
    "    ----------\n",
    "    \"Modern Multidimensional Scaling - Theory and Applications\" Borg, I.;\n",
    "    Groenen P. Springer Series in Statistics (1997)\n",
    "    \"Nonmetric multidimensional scaling: a numerical method\" Kruskal, J.\n",
    "    Psychometrika, 29 (1964)\n",
    "    \"Multidimensional scaling by optimizing goodness of fit to a nonmetric\n",
    "    hypothesis\" Kruskal, J. Psychometrika, 29, (1964)\n",
    "    \"\"\"\n",
    "    def __init__(self, n_components=2, metric=True, n_init=4,\n",
    "                 max_iter=300, verbose=0, eps=1e-3, n_jobs=1,\n",
    "                 random_state=None, dissimilarity=\"euclidean\",normalize = False):\n",
    "        self.n_components = n_components\n",
    "        self.dissimilarity = dissimilarity\n",
    "        self.metric = metric\n",
    "        self.n_init = n_init\n",
    "        self.max_iter = max_iter\n",
    "        self.eps = eps\n",
    "        self.verbose = verbose\n",
    "        self.n_jobs = n_jobs\n",
    "        self.random_state = random_state\n",
    "        self.normalize = normalize\n",
    "\n",
    "    @property\n",
    "    def _pairwise(self):\n",
    "        return self.kernel == \"precomputed\"\n",
    "\n",
    "    def fit(self, X, y=None, init=None):\n",
    "        \"\"\"\n",
    "        Computes the position of the points in the embedding space\n",
    "        Parameters\n",
    "        ----------\n",
    "        X : array, shape (n_samples, n_features) or (n_samples, n_samples)\n",
    "            Input data. If ``dissimilarity=='precomputed'``, the input should\n",
    "            be the dissimilarity matrix.\n",
    "        y: Ignored\n",
    "        init : ndarray, shape (n_samples,), optional, default: None\n",
    "            Starting configuration of the embedding to initialize the SMACOF\n",
    "            algorithm. By default, the algorithm is initialized with a randomly\n",
    "            chosen array.\n",
    "        \"\"\"\n",
    "        self.fit_transform(X, init=init)\n",
    "        return self\n",
    "\n",
    "    def fit_transform(self, X, y=None, init=None):\n",
    "        \"\"\"\n",
    "        Fit the data from X, and returns the embedded coordinates\n",
    "        Parameters\n",
    "        ----------\n",
    "        X : array, shape (n_samples, n_features) or (n_samples, n_samples)\n",
    "            Input data. If ``dissimilarity=='precomputed'``, the input should\n",
    "            be the dissimilarity matrix.\n",
    "        y: Ignored\n",
    "        init : ndarray, shape (n_samples,), optional, default: None\n",
    "            Starting configuration of the embedding to initialize the SMACOF\n",
    "            algorithm. By default, the algorithm is initialized with a randomly\n",
    "            chosen array.\n",
    "        \"\"\"\n",
    "        X = check_array(X)\n",
    "        if X.shape[0] == X.shape[1] and self.dissimilarity != \"precomputed\":\n",
    "            warnings.warn(\"The MDS API has changed. ``fit`` now constructs an\"\n",
    "                          \" dissimilarity matrix from data. To use a custom \"\n",
    "                          \"dissimilarity matrix, set \"\n",
    "                          \"``dissimilarity='precomputed'``.\")\n",
    "\n",
    "        if self.dissimilarity == \"precomputed\":\n",
    "            self.dissimilarity_matrix_ = X\n",
    "        elif self.dissimilarity == \"euclidean\":\n",
    "            self.dissimilarity_matrix_ = euclidean_distances(X)\n",
    "        else:\n",
    "            raise ValueError(\"Proximity must be 'precomputed' or 'euclidean'.\"\n",
    "                             \" Got %s instead\" % str(self.dissimilarity))\n",
    "\n",
    "        self.embedding_, self.stress_, self.n_iter_ = smacof(\n",
    "            self.dissimilarity_matrix_, metric=self.metric,\n",
    "            n_components=self.n_components, init=init, n_init=self.n_init,\n",
    "            n_jobs=self.n_jobs, max_iter=self.max_iter, verbose=self.verbose,\n",
    "            eps=self.eps, random_state=self.random_state,\n",
    "            return_n_iter=True,normalize=self.normalize)\n",
    "\n",
    "        return self.embedding_"
   ]
  },
  {
   "cell_type": "markdown",
   "metadata": {},
   "source": [
    "### Modified scikit MDS (because there is no normalised stress)"
   ]
  },
  {
   "cell_type": "code",
   "execution_count": null,
   "metadata": {},
   "outputs": [],
   "source": [
    "# MDS with normalised stress\n",
    "def computeMDSCoordinate(n_comp,distance_matrix,metric=True,printStress=False,dissimilarity='precomputed'):\n",
    "    mds = MDS(n_components=n_comp,random_state=1,normalize=True,eps=1e-10,metric=metric,dissimilarity=dissimilarity)\n",
    "    mds.fit(distance_matrix)\n",
    "    points = mds.embedding_\n",
    "    stress = mds.stress_\n",
    "    '''\n",
    "    Stress-1 that according to Kruskal (1964, p. 3) has more or less \n",
    "    the following interpretation: value 0 indicates perfect fit, \n",
    "    0.025 excellent, 0.05 good, 0.1 fair and 0.2 poor.\n",
    "    '''\n",
    "    if (printStress):\n",
    "        print(\"Stress of the method : %f\" %stress)\n",
    "    return points, stress"
   ]
  },
  {
   "cell_type": "markdown",
   "metadata": {},
   "source": [
    "### Scikit MDS"
   ]
  },
  {
   "cell_type": "code",
   "execution_count": null,
   "metadata": {},
   "outputs": [],
   "source": [
    "# Scikit MDS\n",
    "from sklearn import manifold\n",
    "\n",
    "def mdsScikit(n_comp,distance_matrix,dissimilarity='precomputed'):\n",
    "    mds = manifold.MDS(n_components=n_comp,random_state=1,dissimilarity=dissimilarity,eps=1e-10)\n",
    "    mds.fit(distance_matrix)\n",
    "    points = mds.embedding_\n",
    "    stress = mds.stress_\n",
    "\n",
    "    '''\n",
    "    # Normalise data\n",
    "    for i in range(n_comp):\n",
    "        points[:,i] = (points[:,i] - np.mean(points[:,i])) / np.std(points[:,i])\n",
    "    '''\n",
    "    return points"
   ]
  },
  {
   "cell_type": "markdown",
   "metadata": {},
   "source": [
    "### Show MDS results"
   ]
  },
  {
   "cell_type": "code",
   "execution_count": null,
   "metadata": {},
   "outputs": [],
   "source": [
    "from sklearn.decomposition import PCA\n",
    "\n",
    "# Make PCA to project MDS data in 2D\n",
    "def transformPoints(points,n_comp=2):\n",
    "    if (points.shape[1] != 2):\n",
    "        # Normalise data\n",
    "        for i in range(len(points[1,:])):\n",
    "            points[:,i] = (points[:,i] - np.mean(points[:,i])) / np.std(points[:,i])\n",
    "\n",
    "        pca = PCA(n_components=n_comp)\n",
    "        points = pca.fit_transform(points)\n",
    "        print(\"%f variance explained when plotting\" %sum(pca.explained_variance_ratio_[:n_comp]))\n",
    "    return points\n",
    "\n",
    "# Show MDS scaling\n",
    "import matplotlib.patches as mpatches\n",
    "\n",
    "def plotMdsPoints(points,projection=False,title='Ground truth'):\n",
    "    ax = plt.axes([1.2,0,1.2,1.2])\n",
    "    ax.set_aspect(aspect='equal')\n",
    "    if (projection):\n",
    "        points = transformPoints(points)\n",
    "    \n",
    "    for i in range(len(condition)):\n",
    "        if (condition[i] == 0):\n",
    "            color = 'blue'\n",
    "        else:\n",
    "            color = 'red'\n",
    "        ax.annotate(i,(points[i,0],points[i,1]),xytext=(points[i,0]+0.07,points[i,1]))\n",
    "\n",
    "    plt.scatter(points[narrative,0],points[narrative,1],color='blue',s=145,label='NA')\n",
    "    plt.scatter(points[stimulus,0],points[stimulus,1],color='red',s=145,label='SSA')\n",
    "    \n",
    "    NA = mpatches.Patch(color='blue', label='NA')\n",
    "    SSA = mpatches.Patch(color='red', label='SSA')\n",
    "    plt.legend(handles=[NA,SSA])\n",
    "    \n",
    "    plt.title(title)\n",
    "\n",
    "# Find best MDS dimension\n",
    "stress = np.zeros((int(N/4),1)) # dimension rule : dimension < N/4 \n",
    "distance_matrix = computeDistanceMatrix(norm_coef)\n",
    "for i in range(1,int(N/4)+1):\n",
    "    points,stress[i-1] = computeMDSCoordinate(i,distance_matrix)\n",
    "\n",
    "plt.plot(np.arange(1,int(N/4)+1),stress)\n",
    "plt.xlabel(\"number of MBS dimensions\")\n",
    "plt.ylabel(\"stress\")\n",
    "\n",
    "# EEG : 6\n",
    "# EDA : 3 or 4\n",
    "mdsDim = 6\n"
   ]
  },
  {
   "cell_type": "code",
   "execution_count": null,
   "metadata": {},
   "outputs": [],
   "source": [
    "# MDS with Normalised stress\n",
    "points = mdsScikit(mdsDim,distance_matrix,dissimilarity='precomputed')\n",
    "plotMdsPoints(points,projection=True,title='Scikit MDS map')\n",
    "plt.figure()\n",
    "points,stress = computeMDSCoordinate(mdsDim,distance_matrix,dissimilarity='precomputed',printStress=True)\n",
    "plotMdsPoints(points,projection=True,title='Modified (normalisation) MDS map')"
   ]
  },
  {
   "cell_type": "markdown",
   "metadata": {},
   "source": [
    "## Deterministic PCoA"
   ]
  },
  {
   "cell_type": "code",
   "execution_count": null,
   "metadata": {},
   "outputs": [],
   "source": [
    "from skbio.stats.ordination import pcoa\n",
    "\n",
    "def computePCoACoordinate(distance_matrix,n_comp=2):\n",
    "    \n",
    "    pcoa_map = pcoa(distance_matrix, method='eigh', number_of_dimensions=n_comp)\n",
    "    #print(pcoa_map.proportion_explained)\n",
    "    print(\"pcoa proportion explained : %s \" %np.sum(pcoa_map.proportion_explained))\n",
    "    #print(\"eigen values\")\n",
    "    #print(pcoa_map.eigvals)\n",
    "    points = np.array(pcoa_map.samples)\n",
    "    return points\n",
    "\n",
    "distance_matrix = computeDistanceMatrix(norm_coef)\n",
    "points = computePCoACoordinate(distance_matrix,2)\n",
    "points = transformPoints(points)\n",
    "plotMdsPoints(points,title='PCoA map')"
   ]
  },
  {
   "cell_type": "markdown",
   "metadata": {},
   "source": [
    "## t-SNE"
   ]
  },
  {
   "cell_type": "code",
   "execution_count": null,
   "metadata": {},
   "outputs": [],
   "source": [
    "from sklearn.manifold import TSNE\n",
    "import time\n",
    "def computeSNECoordinate(distance_matrix,n_pcoa_comp=2,n_tsne_comp=2):\n",
    "    #points,stress = computeMDSCoordinate(mdsDim,distance_matrix,dissimilarity='precomputed',printStress=True)\n",
    "    pcoa_points = computePCoACoordinate(distance_matrix,n_pcoa_comp)\n",
    "    points_lessD = transformPoints(pcoa_points,n_tsne_comp)\n",
    "    tsne = TSNE(n_components=n_tsne_comp, verbose=1, perplexity=4, n_iter=30000,metric=\"precomputed\", init=points_lessD)\n",
    "    tsne_points = tsne.fit_transform(distance_matrix)\n",
    "    tsne_points = transformPoints(tsne_points)\n",
    "    return tsne_points\n",
    "    \n",
    "distance_matrix = computeDistanceMatrix(norm_coef)\n",
    "points = computeSNECoordinate(distance_matrix)\n",
    "plotMdsPoints(points,title='t-SNE map')"
   ]
  },
  {
   "cell_type": "markdown",
   "metadata": {},
   "source": [
    "## DBSCAN (here with option \"precomputed metric\" -> array of distances)"
   ]
  },
  {
   "cell_type": "code",
   "execution_count": null,
   "metadata": {},
   "outputs": [],
   "source": [
    "from sklearn.cluster import DBSCAN\n",
    "\n",
    "# Compute DBSCAN\n",
    "distance_matrix = computeDistanceMatrix()\n",
    "db = DBSCAN(eps=1, min_samples=1,metric='precomputed').fit(distance_matrix)\n",
    "\n",
    "core_samples_mask = np.zeros_like(db.labels_, dtype=bool)\n",
    "core_samples_mask[db.core_sample_indices_] = True\n",
    "labels = db.labels_\n",
    "\n",
    "# Number of clusters in labels, ignoring noise if present.\n",
    "n_clusters_ = len(set(labels)) - (1 if -1 in labels else 0)\n",
    "n_noise_ = list(labels).count(-1)\n",
    "print('Estimated number of clusters: %d' % n_clusters_)"
   ]
  },
  {
   "cell_type": "code",
   "execution_count": null,
   "metadata": {},
   "outputs": [],
   "source": [
    "# Black removed and is used for noise instead.\n",
    "unique_labels = set(labels)\n",
    "colors = [plt.cm.Spectral(each)\n",
    "          for each in np.linspace(0, 1, len(unique_labels))]\n",
    "\n",
    "ax = plt.axes([0,0,1.2,1.2])\n",
    "ax.set_aspect(aspect='equal')\n",
    "distance_matrix = computeDistanceMatrix()\n",
    "points,stress = computeMDSCoordinate(mdsDim,distance_matrix,dissimilarity='precomputed')\n",
    "points_lessD = transformPoints(points)\n",
    "\n",
    "for k, col in zip(unique_labels, colors):\n",
    "\n",
    "    if k == -1:\n",
    "        # Black used for noise.\n",
    "        col = [0, 0, 0, 1]\n",
    "\n",
    "    class_member_mask = (labels == k)\n",
    "    xy = points[class_member_mask & core_samples_mask]\n",
    "    try:\n",
    "        plt.plot(xy[:, 0], points[:, 1], 'o', markerfacecolor=tuple(col),\n",
    "                 markeredgecolor='k', markersize=14)\n",
    "    except:\n",
    "        print(\"no plot\")\n",
    "    xy = points[class_member_mask & ~core_samples_mask]\n",
    "    try:\n",
    "        plt.plot(xy[:, 0], points[:, 1], 'o', markerfacecolor=tuple(col),\n",
    "                 markeredgecolor='k', markersize=6)\n",
    "    except:\n",
    "        print(\"no plot\")\n",
    "        \n",
    "plt.title('Estimated number of clusters: %d' % n_clusters_)\n",
    "\n",
    "# Compare to ground truth\n",
    "plotMdsPoints(points,projection=True)"
   ]
  },
  {
   "cell_type": "markdown",
   "metadata": {},
   "source": [
    "## Mean Shift (to do on coordinates)"
   ]
  },
  {
   "cell_type": "code",
   "execution_count": null,
   "metadata": {},
   "outputs": [],
   "source": [
    "from sklearn.cluster import MeanShift, estimate_bandwidth\n",
    "\n",
    "# Compute clustering with MeanShift\n",
    "distance_matrix = computeDistanceMatrix(norm_coef)\n",
    "points = computeSNECoordinate(distance_matrix)\n",
    "\n",
    "# Compare to ground truth\n",
    "plotMdsPoints(points,projection=True)\n",
    "\n",
    "# The following bandwidth can be automatically detected using\n",
    "bandwidth = estimate_bandwidth(points, quantile=0.2)\n",
    "\n",
    "ms = MeanShift(bandwidth=bandwidth, bin_seeding=True)\n",
    "ms.fit(points)\n",
    "labels = ms.labels_\n",
    "cluster_centers = ms.cluster_centers_\n",
    "\n",
    "labels_unique = np.unique(labels)\n",
    "n_clusters_ = len(labels_unique)\n",
    "\n",
    "print(\"number of estimated clusters : %d\" % n_clusters_)\n",
    "\n",
    "# Plot result\n",
    "from itertools import cycle\n",
    "\n",
    "ax = plt.axes([0,0,1.2,1.2])\n",
    "ax.set_aspect(aspect='equal')\n",
    "#points = transformPoints(points)\n",
    "\n",
    "colors = cycle('bgrcmykbgrcmykbgrcmykbgrcmyk')\n",
    "for k, col in zip(range(n_clusters_), colors):\n",
    "    my_members = labels == k\n",
    "    cluster_center = cluster_centers[k]\n",
    "    ax.scatter(points[my_members, 0], points[my_members, 1], s=145)\n",
    "    \n",
    "    subjects = np.arange(0,N)\n",
    "    for i in subjects[my_members==1]:\n",
    "        ax.annotate(i,(points[i,0],points[i,1]),xytext=(points[i,0]+0.07,points[i,1]))\n",
    "    \n",
    "    plt.title('Estimated number of clusters: %d' % n_clusters_)"
   ]
  },
  {
   "cell_type": "markdown",
   "metadata": {},
   "source": [
    "## 2-cluster methods"
   ]
  },
  {
   "cell_type": "code",
   "execution_count": null,
   "metadata": {},
   "outputs": [],
   "source": [
    "class Results():\n",
    "\n",
    "    def __init__(self,name):\n",
    "        self.prec = np.zeros((int(N/4)+1,len(coefficients)))\n",
    "        self.best_dim = 0\n",
    "        self.best_norm = 0\n",
    "        self.label = np.zeros((N,1))\n",
    "        self.wellClassified = None\n",
    "        self.wrongClassified = None\n",
    "        self.name = name\n",
    "        self.best_points = np.zeros((N,2))\n",
    "        \n",
    "    def applyMethod(self,method,dim=np.arange(1,int(N/4)+2)):\n",
    "        print(\"Computing clustering\\n\")\n",
    "        for p in range(len(coefficients)):\n",
    "            print(str(int(p*100/len(coefficients))) + \"%\")\n",
    "            distance_matrix = computeDistanceMatrix(normalisation=coefficients[p])\n",
    "\n",
    "            for i in dim:\n",
    "                if (i<int(N/4)+1):\n",
    "                    points,stress = computeMDSCoordinate(i,distance_matrix)\n",
    "                else:\n",
    "                    points = computeSNECoordinate(distance_matrix)\n",
    "                meth = method.fit(points)\n",
    "                if hasattr(meth, 'labels_'):\n",
    "                    self.prec[i-1,p] = sum(condition==meth.labels_)/N\n",
    "                else:\n",
    "                    label = meth.predict(points)\n",
    "                    self.prec[i-1,p] = sum(condition==label)/N\n",
    "                \n",
    "                if self.prec[i-1,p] == np.max(self.prec):\n",
    "                    if hasattr(meth, 'labels_'):\n",
    "                        self.label = meth.labels_\n",
    "                    else:\n",
    "                        self.label = meth.predict(points)\n",
    "                    self.best_dim = i\n",
    "                    self.best_norm = coefficients[p]\n",
    "                    self.best_points = points\n",
    "    \n",
    "    def initCenters(self,NA_ref,SSA_ref):\n",
    "        distance_matrix = computeDistanceMatrix(normalisation=coefficients[0])\n",
    "        points = computeSNECoordinate(distance_matrix)\n",
    "        dim = points.shape[1]\n",
    "        init = np.zeros((dim,2))\n",
    "        init[:,0] = np.mean(points[NA_ref,:],axis=0)\n",
    "        init[:,1] = np.mean(points[SSA_ref,:],axis=0)\n",
    "        return init\n",
    "    \n",
    "    def trueWrongClusters(self,label,condition):\n",
    "        subjects = np.arange(0,N)\n",
    "        self.wellClassified = subjects[label==condition]\n",
    "        self.wrongClassified = subjects[label!=condition]\n",
    "        \n",
    "    def twoClustersMethodResult(self):\n",
    "        # Plot clustering precision with increasing dimension\n",
    "        for p in range(len(coefficients)):\n",
    "            plt.plot(np.arange(1,int(N/4)+2),self.prec[:,p],label=str(coefficients[p]))\n",
    "        plt.xlabel(\"number of mds dimensions\")\n",
    "        plt.ylabel(\"%s precision\" %self.name)\n",
    "        plt.legend()\n",
    "\n",
    "        print(\"Results\\n\")\n",
    "        print(\"Best dimension %d (7 means t-SNE)\" %self.best_dim)\n",
    "        print(\"Best normalisation %d \" %self.best_norm)\n",
    "        print(\"Found clusters \")\n",
    "        print(self.label)\n",
    "        print(\"True clusters \")\n",
    "        print(condition)\n",
    "        self.trueWrongClusters(self.label,condition)\n",
    "        print(\"Well classified\")\n",
    "        print(self.wellClassified)\n",
    "        print(\"Wrong classified\")\n",
    "        print(self.wrongClassified)\n",
    "        print(\"Best %s precision : %f\" %(self.name,np.max(self.prec)))\n",
    "        \n",
    "    def showResultMap(self):\n",
    "        plt.figure()\n",
    "        ax = plt.axes([0,0,1.2,1.2])\n",
    "        ax.set_aspect(aspect='equal')\n",
    "                \n",
    "        for i in range(N):\n",
    "            if (i in self.wellClassified):\n",
    "                if (condition[i] == 0):\n",
    "                    color = 'blue'\n",
    "                    label = 'NA'\n",
    "                else:\n",
    "                    color = 'red'\n",
    "                    label = 'SSA'\n",
    "            else:\n",
    "                color = 'black'\n",
    "                label = 'misclassified'\n",
    "            ax.annotate(i,(self.best_points[i,0],self.best_points[i,1]),xytext=(self.best_points[i,0]+0.07,self.best_points[i,1]))\n",
    "            ax.scatter(self.best_points[i,0],self.best_points[i,1],color=color,s=145,label=label)\n",
    "\n",
    "        TP = mpatches.Patch(color='blue', label='NA')\n",
    "        TN = mpatches.Patch(color='red', label='SSA')\n",
    "        FP_FN = mpatches.Patch(color='black', label='misclassified')\n",
    "        plt.legend(handles=[TP,TN,FP_FN])\n",
    "        plt.title(\"%s clustering\" %self.name)"
   ]
  },
  {
   "cell_type": "markdown",
   "metadata": {},
   "source": [
    "### K-Means"
   ]
  },
  {
   "cell_type": "code",
   "execution_count": 108,
   "metadata": {},
   "outputs": [
    {
     "name": "stdout",
     "output_type": "stream",
     "text": [
      "pcoa proportion explained : 0.18329349734987113 \n",
      "[t-SNE] Computing 13 nearest neighbors...\n",
      "[t-SNE] Indexed 26 samples in 0.000s...\n",
      "[t-SNE] Computed neighbors for 26 samples in 0.001s...\n",
      "[t-SNE] Computed conditional probabilities for sample 26 / 26\n",
      "[t-SNE] Mean sigma: 0.264703\n",
      "[t-SNE] KL divergence after 250 iterations with early exaggeration: 56.322853\n",
      "[t-SNE] KL divergence after 1700 iterations: 0.508299\n",
      "Computing clustering\n",
      "\n",
      "0%\n",
      "pcoa proportion explained : 0.18329349734987113 \n",
      "[t-SNE] Computing 13 nearest neighbors...\n",
      "[t-SNE] Indexed 26 samples in 0.000s...\n",
      "[t-SNE] Computed neighbors for 26 samples in 0.001s...\n",
      "[t-SNE] Computed conditional probabilities for sample 26 / 26\n",
      "[t-SNE] Mean sigma: 0.264703\n",
      "[t-SNE] KL divergence after 250 iterations with early exaggeration: 56.322853\n",
      "[t-SNE] KL divergence after 1700 iterations: 0.508299\n"
     ]
    },
    {
     "name": "stderr",
     "output_type": "stream",
     "text": [
      "//anaconda3/lib/python3.7/site-packages/ipykernel_launcher.py:26: DeprecationWarning: elementwise comparison failed; this will raise an error in the future.\n"
     ]
    },
    {
     "ename": "TypeError",
     "evalue": "'bool' object is not iterable",
     "output_type": "error",
     "traceback": [
      "\u001b[0;31m---------------------------------------------------------------------------\u001b[0m",
      "\u001b[0;31mTypeError\u001b[0m                                 Traceback (most recent call last)",
      "\u001b[0;32m<ipython-input-108-c4770668d3c0>\u001b[0m in \u001b[0;36m<module>\u001b[0;34m\u001b[0m\n\u001b[1;32m     10\u001b[0m                                        \u001b[0;31m# otherwise we have to compute it again\u001b[0m\u001b[0;34m\u001b[0m\u001b[0;34m\u001b[0m\u001b[0;34m\u001b[0m\u001b[0m\n\u001b[1;32m     11\u001b[0m \u001b[0mkmeans\u001b[0m \u001b[0;34m=\u001b[0m \u001b[0mKMeans\u001b[0m\u001b[0;34m(\u001b[0m\u001b[0mn_clusters\u001b[0m\u001b[0;34m=\u001b[0m\u001b[0;36m2\u001b[0m\u001b[0;34m,\u001b[0m \u001b[0minit\u001b[0m\u001b[0;34m=\u001b[0m\u001b[0minit_EEG\u001b[0m\u001b[0;34m,\u001b[0m\u001b[0mn_init\u001b[0m\u001b[0;34m=\u001b[0m\u001b[0;36m1\u001b[0m\u001b[0;34m)\u001b[0m\u001b[0;34m\u001b[0m\u001b[0;34m\u001b[0m\u001b[0m\n\u001b[0;32m---> 12\u001b[0;31m \u001b[0mkmeans_result\u001b[0m\u001b[0;34m.\u001b[0m\u001b[0mapplyMethod\u001b[0m\u001b[0;34m(\u001b[0m\u001b[0mkmeans\u001b[0m\u001b[0;34m,\u001b[0m\u001b[0mdim\u001b[0m\u001b[0;34m=\u001b[0m\u001b[0;34m[\u001b[0m\u001b[0;36m7\u001b[0m\u001b[0;34m]\u001b[0m\u001b[0;34m)\u001b[0m\u001b[0;34m\u001b[0m\u001b[0;34m\u001b[0m\u001b[0m\n\u001b[0m",
      "\u001b[0;32m<ipython-input-56-19df79c02094>\u001b[0m in \u001b[0;36mapplyMethod\u001b[0;34m(self, method, dim)\u001b[0m\n\u001b[1;32m     24\u001b[0m                 \u001b[0mmeth\u001b[0m \u001b[0;34m=\u001b[0m \u001b[0mmethod\u001b[0m\u001b[0;34m.\u001b[0m\u001b[0mfit\u001b[0m\u001b[0;34m(\u001b[0m\u001b[0mpoints\u001b[0m\u001b[0;34m)\u001b[0m\u001b[0;34m\u001b[0m\u001b[0;34m\u001b[0m\u001b[0m\n\u001b[1;32m     25\u001b[0m                 \u001b[0;32mif\u001b[0m \u001b[0mhasattr\u001b[0m\u001b[0;34m(\u001b[0m\u001b[0mmeth\u001b[0m\u001b[0;34m,\u001b[0m \u001b[0;34m'labels_'\u001b[0m\u001b[0;34m)\u001b[0m\u001b[0;34m:\u001b[0m\u001b[0;34m\u001b[0m\u001b[0;34m\u001b[0m\u001b[0m\n\u001b[0;32m---> 26\u001b[0;31m                     \u001b[0mself\u001b[0m\u001b[0;34m.\u001b[0m\u001b[0mprec\u001b[0m\u001b[0;34m[\u001b[0m\u001b[0mi\u001b[0m\u001b[0;34m-\u001b[0m\u001b[0;36m1\u001b[0m\u001b[0;34m,\u001b[0m\u001b[0mp\u001b[0m\u001b[0;34m]\u001b[0m \u001b[0;34m=\u001b[0m \u001b[0msum\u001b[0m\u001b[0;34m(\u001b[0m\u001b[0mcondition\u001b[0m\u001b[0;34m==\u001b[0m\u001b[0mmeth\u001b[0m\u001b[0;34m.\u001b[0m\u001b[0mlabels_\u001b[0m\u001b[0;34m)\u001b[0m\u001b[0;34m/\u001b[0m\u001b[0mN\u001b[0m\u001b[0;34m\u001b[0m\u001b[0;34m\u001b[0m\u001b[0m\n\u001b[0m\u001b[1;32m     27\u001b[0m                 \u001b[0;32melse\u001b[0m\u001b[0;34m:\u001b[0m\u001b[0;34m\u001b[0m\u001b[0;34m\u001b[0m\u001b[0m\n\u001b[1;32m     28\u001b[0m                     \u001b[0mlabel\u001b[0m \u001b[0;34m=\u001b[0m \u001b[0mmeth\u001b[0m\u001b[0;34m.\u001b[0m\u001b[0mpredict\u001b[0m\u001b[0;34m(\u001b[0m\u001b[0mpoints\u001b[0m\u001b[0;34m)\u001b[0m\u001b[0;34m\u001b[0m\u001b[0;34m\u001b[0m\u001b[0m\n",
      "\u001b[0;31mTypeError\u001b[0m: 'bool' object is not iterable"
     ]
    }
   ],
   "source": [
    "from sklearn.cluster import KMeans\n",
    "\n",
    "coefficients = np.linspace(1,45,2)\n",
    "coefficients = [45]\n",
    "\n",
    "kmeans_result = Results(\"k-means\")\n",
    "#kmeans = KMeans(n_clusters=2,n_init=1000)\n",
    "#init_EEG = np.array([[-0.5,0.5],[1,0]])\n",
    "init_EEG = kmeans_result.initCenters(NA_HC,SSA_HC) # Only if one coefficient and one dimension, \n",
    "                                       # otherwise we have to compute it again\n",
    "kmeans = KMeans(n_clusters=2, init=init_EEG,n_init=1)\n",
    "kmeans_result.applyMethod(kmeans,dim=[7])"
   ]
  },
  {
   "cell_type": "code",
   "execution_count": null,
   "metadata": {},
   "outputs": [],
   "source": [
    "# Show results\n",
    "kmeans_result.twoClustersMethodResult()\n",
    "kmeans_result.showResultMap()\n",
    "plotMdsPoints(kmeans_result.best_points)\n",
    "plt.scatter(init_EEG[0,:],init_EEG[1,:],s=200,marker='x')"
   ]
  },
  {
   "cell_type": "markdown",
   "metadata": {},
   "source": [
    "### Spectral Clustering"
   ]
  },
  {
   "cell_type": "code",
   "execution_count": null,
   "metadata": {},
   "outputs": [],
   "source": [
    "from sklearn.cluster import SpectralClustering\n",
    "\n",
    "coefficients = np.linspace(1,45,2)\n",
    "coefficients = [45]\n",
    "\n",
    "spectralClustering_result = Results(\"spectral clustering\")\n",
    "spectralClustering = SpectralClustering(n_clusters=2, n_init=1000)\n",
    "spectralClustering_result.applyMethod(spectralClustering,dim=[7])"
   ]
  },
  {
   "cell_type": "code",
   "execution_count": null,
   "metadata": {},
   "outputs": [],
   "source": [
    "# Show results\n",
    "spectralClustering_result.twoClustersMethodResult()\n",
    "spectralClustering_result.showResultMap()\n",
    "plotMdsPoints(spectralClustering_result.best_points)"
   ]
  },
  {
   "cell_type": "markdown",
   "metadata": {},
   "source": [
    "### GMM"
   ]
  },
  {
   "cell_type": "code",
   "execution_count": null,
   "metadata": {},
   "outputs": [],
   "source": [
    "from sklearn.mixture import GaussianMixture\n",
    "\n",
    "coefficients = np.linspace(1,45,2)\n",
    "coefficients = [45]\n",
    "\n",
    "gmm_result = Results(\"gaussian mixture\")\n",
    "gmm = GaussianMixture(n_components=2, n_init=1000)\n",
    "gmm_result.applyMethod(gmm,dim=[7])"
   ]
  },
  {
   "cell_type": "code",
   "execution_count": null,
   "metadata": {},
   "outputs": [],
   "source": [
    "# Show results\n",
    "gmm_result.twoClustersMethodResult()\n",
    "gmm_result.showResultMap()\n",
    "plotMdsPoints(gmm_result.best_points)"
   ]
  },
  {
   "cell_type": "code",
   "execution_count": null,
   "metadata": {},
   "outputs": [],
   "source": []
  }
 ],
 "metadata": {
  "kernelspec": {
   "display_name": "Python 3",
   "language": "python",
   "name": "python3"
  },
  "language_info": {
   "codemirror_mode": {
    "name": "ipython",
    "version": 3
   },
   "file_extension": ".py",
   "mimetype": "text/x-python",
   "name": "python",
   "nbconvert_exporter": "python",
   "pygments_lexer": "ipython3",
   "version": "3.7.3"
  }
 },
 "nbformat": 4,
 "nbformat_minor": 4
}
